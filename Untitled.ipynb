{
 "cells": [
  {
   "cell_type": "code",
   "execution_count": 1,
   "metadata": {},
   "outputs": [],
   "source": [
    "import pandas as pd\n",
    "import matplotlib.pyplot as mp\n",
    "from sklearn.model_selection import train_test_split as TTS,GridSearchCV as GSCV\n",
    "from sklearn.metrics import classification_report as CR,accuracy_score as AS,recall_score as RS,ConfusionMatrixDisplay as CMD,confusion_matrix as CM\n",
    "from sklearn import set_config\n",
    "import seaborn as sn\n",
    "import matplotlib.pyplot as mp\n",
    "import numpy as np\n",
    "from mlxtend.feature_selection import SequentialFeatureSelector as SFS\n",
    "set_config(display=\"diagram\")"
   ]
  },
  {
   "cell_type": "code",
   "execution_count": 2,
   "metadata": {},
   "outputs": [],
   "source": [
    "from sklearn.naive_bayes import GaussianNB as GNB,BernoulliNB as BNB,MultinomialNB as MNB\n",
    "from sklearn.preprocessing import StandardScaler as SS,LabelEncoder as LE,OneHotEncoder as OHE,OrdinalEncoder as OE\n",
    "from sklearn.pipeline import Pipeline as PP\n",
    "from sklearn.compose import ColumnTransformer as CT\n",
    "from sklearn.neighbors import KNeighborsClassifier as KNN\n",
    "from sklearn.ensemble import RandomForestClassifier as RFC\n",
    "from sklearn.tree import DecisionTreeClassifier as DTC\n",
    "from sklearn.linear_model import LogisticRegression as LO\n",
    "from sklearn.svm import SVC \n",
    "from xgboost import XGBClassifier as  XG\n"
   ]
  },
  {
   "cell_type": "code",
   "execution_count": 3,
   "metadata": {},
   "outputs": [
    {
     "data": {
      "text/html": [
       "<div>\n",
       "<style scoped>\n",
       "    .dataframe tbody tr th:only-of-type {\n",
       "        vertical-align: middle;\n",
       "    }\n",
       "\n",
       "    .dataframe tbody tr th {\n",
       "        vertical-align: top;\n",
       "    }\n",
       "\n",
       "    .dataframe thead th {\n",
       "        text-align: right;\n",
       "    }\n",
       "</style>\n",
       "<table border=\"1\" class=\"dataframe\">\n",
       "  <thead>\n",
       "    <tr style=\"text-align: right;\">\n",
       "      <th></th>\n",
       "      <th>Class</th>\n",
       "      <th>age</th>\n",
       "      <th>menopause</th>\n",
       "      <th>tumor-size</th>\n",
       "      <th>inv-nodes</th>\n",
       "      <th>node-caps</th>\n",
       "      <th>deg-malig</th>\n",
       "      <th>breast</th>\n",
       "      <th>breast-quad</th>\n",
       "      <th>irradiat</th>\n",
       "    </tr>\n",
       "  </thead>\n",
       "  <tbody>\n",
       "    <tr>\n",
       "      <th>0</th>\n",
       "      <td>no-recurrence-events</td>\n",
       "      <td>30-39</td>\n",
       "      <td>premeno</td>\n",
       "      <td>30-34</td>\n",
       "      <td>0-2</td>\n",
       "      <td>no</td>\n",
       "      <td>3</td>\n",
       "      <td>left</td>\n",
       "      <td>left_low</td>\n",
       "      <td>no</td>\n",
       "    </tr>\n",
       "    <tr>\n",
       "      <th>1</th>\n",
       "      <td>no-recurrence-events</td>\n",
       "      <td>40-49</td>\n",
       "      <td>premeno</td>\n",
       "      <td>20-24</td>\n",
       "      <td>0-2</td>\n",
       "      <td>no</td>\n",
       "      <td>2</td>\n",
       "      <td>right</td>\n",
       "      <td>right_up</td>\n",
       "      <td>no</td>\n",
       "    </tr>\n",
       "    <tr>\n",
       "      <th>2</th>\n",
       "      <td>no-recurrence-events</td>\n",
       "      <td>40-49</td>\n",
       "      <td>premeno</td>\n",
       "      <td>20-24</td>\n",
       "      <td>0-2</td>\n",
       "      <td>no</td>\n",
       "      <td>2</td>\n",
       "      <td>left</td>\n",
       "      <td>left_low</td>\n",
       "      <td>no</td>\n",
       "    </tr>\n",
       "    <tr>\n",
       "      <th>3</th>\n",
       "      <td>no-recurrence-events</td>\n",
       "      <td>60-69</td>\n",
       "      <td>ge40</td>\n",
       "      <td>15-19</td>\n",
       "      <td>0-2</td>\n",
       "      <td>no</td>\n",
       "      <td>2</td>\n",
       "      <td>right</td>\n",
       "      <td>left_up</td>\n",
       "      <td>no</td>\n",
       "    </tr>\n",
       "    <tr>\n",
       "      <th>4</th>\n",
       "      <td>no-recurrence-events</td>\n",
       "      <td>40-49</td>\n",
       "      <td>premeno</td>\n",
       "      <td>0-4</td>\n",
       "      <td>0-2</td>\n",
       "      <td>no</td>\n",
       "      <td>2</td>\n",
       "      <td>right</td>\n",
       "      <td>right_low</td>\n",
       "      <td>no</td>\n",
       "    </tr>\n",
       "  </tbody>\n",
       "</table>\n",
       "</div>"
      ],
      "text/plain": [
       "                  Class    age menopause tumor-size inv-nodes node-caps  \\\n",
       "0  no-recurrence-events  30-39   premeno      30-34       0-2        no   \n",
       "1  no-recurrence-events  40-49   premeno      20-24       0-2        no   \n",
       "2  no-recurrence-events  40-49   premeno      20-24       0-2        no   \n",
       "3  no-recurrence-events  60-69      ge40      15-19       0-2        no   \n",
       "4  no-recurrence-events  40-49   premeno        0-4       0-2        no   \n",
       "\n",
       "   deg-malig breast breast-quad irradiat  \n",
       "0          3   left    left_low       no  \n",
       "1          2  right    right_up       no  \n",
       "2          2   left    left_low       no  \n",
       "3          2  right     left_up       no  \n",
       "4          2  right   right_low       no  "
      ]
     },
     "execution_count": 3,
     "metadata": {},
     "output_type": "execute_result"
    }
   ],
   "source": [
    "t=pd.read_csv(\"breast-cancer.data\",sep=\",\",names=[\"Class\",\"age\",\"menopause\",\"tumor-size\",\"inv-nodes\",\"node-caps\",\"deg-malig\",\"breast\",\"breast-quad\",\"irradiat\"],skipinitialspace=True)\n",
    "t.head()"
   ]
  },
  {
   "cell_type": "code",
   "execution_count": 4,
   "metadata": {},
   "outputs": [
    {
     "name": "stdout",
     "output_type": "stream",
     "text": [
      "<class 'pandas.core.frame.DataFrame'>\n",
      "RangeIndex: 286 entries, 0 to 285\n",
      "Data columns (total 10 columns):\n",
      " #   Column       Non-Null Count  Dtype \n",
      "---  ------       --------------  ----- \n",
      " 0   Class        286 non-null    object\n",
      " 1   age          286 non-null    object\n",
      " 2   menopause    286 non-null    object\n",
      " 3   tumor-size   286 non-null    object\n",
      " 4   inv-nodes    286 non-null    object\n",
      " 5   node-caps    286 non-null    object\n",
      " 6   deg-malig    286 non-null    int64 \n",
      " 7   breast       286 non-null    object\n",
      " 8   breast-quad  286 non-null    object\n",
      " 9   irradiat     286 non-null    object\n",
      "dtypes: int64(1), object(9)\n",
      "memory usage: 22.5+ KB\n"
     ]
    }
   ],
   "source": [
    "t.info()"
   ]
  },
  {
   "cell_type": "code",
   "execution_count": 5,
   "metadata": {},
   "outputs": [
    {
     "data": {
      "text/plain": [
       "Class          0\n",
       "age            0\n",
       "menopause      0\n",
       "tumor-size     0\n",
       "inv-nodes      0\n",
       "node-caps      0\n",
       "deg-malig      0\n",
       "breast         0\n",
       "breast-quad    0\n",
       "irradiat       0\n",
       "dtype: int64"
      ]
     },
     "execution_count": 5,
     "metadata": {},
     "output_type": "execute_result"
    }
   ],
   "source": [
    "t.isnull().sum()"
   ]
  },
  {
   "cell_type": "code",
   "execution_count": 6,
   "metadata": {},
   "outputs": [],
   "source": [
    "t.replace(\"?\",np.nan,inplace=True)"
   ]
  },
  {
   "cell_type": "code",
   "execution_count": 7,
   "metadata": {},
   "outputs": [
    {
     "data": {
      "text/plain": [
       "Class          0\n",
       "age            0\n",
       "menopause      0\n",
       "tumor-size     0\n",
       "inv-nodes      0\n",
       "node-caps      8\n",
       "deg-malig      0\n",
       "breast         0\n",
       "breast-quad    1\n",
       "irradiat       0\n",
       "dtype: int64"
      ]
     },
     "execution_count": 7,
     "metadata": {},
     "output_type": "execute_result"
    }
   ],
   "source": [
    "t.isnull().sum()"
   ]
  },
  {
   "cell_type": "code",
   "execution_count": 8,
   "metadata": {},
   "outputs": [],
   "source": [
    "t.dropna(inplace=True)"
   ]
  },
  {
   "cell_type": "code",
   "execution_count": 9,
   "metadata": {},
   "outputs": [
    {
     "data": {
      "text/plain": [
       "0      0\n",
       "1      0\n",
       "2      0\n",
       "3      0\n",
       "4      0\n",
       "      ..\n",
       "281    0\n",
       "282    1\n",
       "283    0\n",
       "284    0\n",
       "285    0\n",
       "Name: irradiat, Length: 277, dtype: int32"
      ]
     },
     "execution_count": 9,
     "metadata": {},
     "output_type": "execute_result"
    }
   ],
   "source": [
    "t[\"irradiat\"]=LE().fit_transform(t[\"irradiat\"])\n",
    "t[\"irradiat\"]"
   ]
  },
  {
   "cell_type": "code",
   "execution_count": 10,
   "metadata": {},
   "outputs": [
    {
     "data": {
      "text/html": [
       "<div>\n",
       "<style scoped>\n",
       "    .dataframe tbody tr th:only-of-type {\n",
       "        vertical-align: middle;\n",
       "    }\n",
       "\n",
       "    .dataframe tbody tr th {\n",
       "        vertical-align: top;\n",
       "    }\n",
       "\n",
       "    .dataframe thead th {\n",
       "        text-align: right;\n",
       "    }\n",
       "</style>\n",
       "<table border=\"1\" class=\"dataframe\">\n",
       "  <thead>\n",
       "    <tr style=\"text-align: right;\">\n",
       "      <th></th>\n",
       "      <th>Class</th>\n",
       "      <th>age</th>\n",
       "      <th>menopause</th>\n",
       "      <th>tumor-size</th>\n",
       "      <th>inv-nodes</th>\n",
       "      <th>node-caps</th>\n",
       "      <th>deg-malig</th>\n",
       "      <th>breast</th>\n",
       "      <th>breast-quad</th>\n",
       "      <th>irradiat</th>\n",
       "    </tr>\n",
       "  </thead>\n",
       "  <tbody>\n",
       "    <tr>\n",
       "      <th>0</th>\n",
       "      <td>no-recurrence-events</td>\n",
       "      <td>30-39</td>\n",
       "      <td>premeno</td>\n",
       "      <td>30-34</td>\n",
       "      <td>0-2</td>\n",
       "      <td>no</td>\n",
       "      <td>3</td>\n",
       "      <td>left</td>\n",
       "      <td>left_low</td>\n",
       "      <td>0</td>\n",
       "    </tr>\n",
       "    <tr>\n",
       "      <th>1</th>\n",
       "      <td>no-recurrence-events</td>\n",
       "      <td>40-49</td>\n",
       "      <td>premeno</td>\n",
       "      <td>20-24</td>\n",
       "      <td>0-2</td>\n",
       "      <td>no</td>\n",
       "      <td>2</td>\n",
       "      <td>right</td>\n",
       "      <td>right_up</td>\n",
       "      <td>0</td>\n",
       "    </tr>\n",
       "    <tr>\n",
       "      <th>2</th>\n",
       "      <td>no-recurrence-events</td>\n",
       "      <td>40-49</td>\n",
       "      <td>premeno</td>\n",
       "      <td>20-24</td>\n",
       "      <td>0-2</td>\n",
       "      <td>no</td>\n",
       "      <td>2</td>\n",
       "      <td>left</td>\n",
       "      <td>left_low</td>\n",
       "      <td>0</td>\n",
       "    </tr>\n",
       "    <tr>\n",
       "      <th>3</th>\n",
       "      <td>no-recurrence-events</td>\n",
       "      <td>60-69</td>\n",
       "      <td>ge40</td>\n",
       "      <td>15-19</td>\n",
       "      <td>0-2</td>\n",
       "      <td>no</td>\n",
       "      <td>2</td>\n",
       "      <td>right</td>\n",
       "      <td>left_up</td>\n",
       "      <td>0</td>\n",
       "    </tr>\n",
       "    <tr>\n",
       "      <th>4</th>\n",
       "      <td>no-recurrence-events</td>\n",
       "      <td>40-49</td>\n",
       "      <td>premeno</td>\n",
       "      <td>0-4</td>\n",
       "      <td>0-2</td>\n",
       "      <td>no</td>\n",
       "      <td>2</td>\n",
       "      <td>right</td>\n",
       "      <td>right_low</td>\n",
       "      <td>0</td>\n",
       "    </tr>\n",
       "  </tbody>\n",
       "</table>\n",
       "</div>"
      ],
      "text/plain": [
       "                  Class    age menopause tumor-size inv-nodes node-caps  \\\n",
       "0  no-recurrence-events  30-39   premeno      30-34       0-2        no   \n",
       "1  no-recurrence-events  40-49   premeno      20-24       0-2        no   \n",
       "2  no-recurrence-events  40-49   premeno      20-24       0-2        no   \n",
       "3  no-recurrence-events  60-69      ge40      15-19       0-2        no   \n",
       "4  no-recurrence-events  40-49   premeno        0-4       0-2        no   \n",
       "\n",
       "   deg-malig breast breast-quad  irradiat  \n",
       "0          3   left    left_low         0  \n",
       "1          2  right    right_up         0  \n",
       "2          2   left    left_low         0  \n",
       "3          2  right     left_up         0  \n",
       "4          2  right   right_low         0  "
      ]
     },
     "execution_count": 10,
     "metadata": {},
     "output_type": "execute_result"
    }
   ],
   "source": [
    "t.head()"
   ]
  },
  {
   "cell_type": "code",
   "execution_count": 11,
   "metadata": {},
   "outputs": [
    {
     "data": {
      "image/png": "[encoded data removed]",
      "text/plain": [
       "<Figure size 432x288 with 1 Axes>"
      ]
     },
     "metadata": {
      "needs_background": "light"
     },
     "output_type": "display_data"
    }
   ],
   "source": [
    "t.groupby(\"tumor-size\")[\"irradiat\"].mean().sort_values().plot.barh();"
   ]
  },
  {
   "cell_type": "code",
   "execution_count": 12,
   "metadata": {},
   "outputs": [
    {
     "data": {
      "image/png": "[encoded data removed]",
      "text/plain": [
       "<Figure size 432x288 with 1 Axes>"
      ]
     },
     "metadata": {
      "needs_background": "light"
     },
     "output_type": "display_data"
    }
   ],
   "source": [
    "t.groupby(\"age\")[\"irradiat\"].mean().sort_values().plot.barh();\n"
   ]
  },
  {
   "cell_type": "code",
   "execution_count": 13,
   "metadata": {},
   "outputs": [
    {
     "data": {
      "image/png": "[encoded data removed]",
      "text/plain": [
       "<Figure size 432x288 with 1 Axes>"
      ]
     },
     "metadata": {
      "needs_background": "light"
     },
     "output_type": "display_data"
    }
   ],
   "source": [
    "t.groupby(\"breast\")[\"irradiat\"].mean().sort_values().plot.barh();"
   ]
  },
  {
   "cell_type": "code",
   "execution_count": 14,
   "metadata": {},
   "outputs": [
    {
     "data": {
      "image/png": "[encoded data removed]",
      "text/plain": [
       "<Figure size 432x288 with 1 Axes>"
      ]
     },
     "metadata": {
      "needs_background": "light"
     },
     "output_type": "display_data"
    }
   ],
   "source": [
    "t.groupby(\"menopause\")[\"irradiat\"].mean().sort_values().plot.barh();"
   ]
  },
  {
   "cell_type": "code",
   "execution_count": 15,
   "metadata": {},
   "outputs": [
    {
     "data": {
      "text/plain": [
       "0-2      209\n",
       "3-5       34\n",
       "6-8       17\n",
       "9-11       7\n",
       "15-17      6\n",
       "12-14      3\n",
       "24-26      1\n",
       "Name: inv-nodes, dtype: int64"
      ]
     },
     "execution_count": 15,
     "metadata": {},
     "output_type": "execute_result"
    }
   ],
   "source": [
    "t[\"inv-nodes\"].value_counts()"
   ]
  },
  {
   "cell_type": "code",
   "execution_count": 16,
   "metadata": {},
   "outputs": [
    {
     "data": {
      "image/png": "[encoded data removed]",
      "text/plain": [
       "<Figure size 432x288 with 1 Axes>"
      ]
     },
     "metadata": {
      "needs_background": "light"
     },
     "output_type": "display_data"
    }
   ],
   "source": [
    "t.groupby(\"inv-nodes\")[\"irradiat\"].mean().sort_values().plot.barh();"
   ]
  },
  {
   "cell_type": "code",
   "execution_count": 17,
   "metadata": {},
   "outputs": [
    {
     "data": {
      "image/png": "[encoded data removed]",
      "text/plain": [
       "<Figure size 432x288 with 1 Axes>"
      ]
     },
     "metadata": {
      "needs_background": "light"
     },
     "output_type": "display_data"
    }
   ],
   "source": [
    "t.groupby(\"deg-malig\")[\"irradiat\"].mean().sort_values().plot.barh();"
   ]
  },
  {
   "cell_type": "code",
   "execution_count": 18,
   "metadata": {},
   "outputs": [
    {
     "data": {
      "image/png": "[encoded data removed]",
      "text/plain": [
       "<Figure size 432x288 with 1 Axes>"
      ]
     },
     "metadata": {
      "needs_background": "light"
     },
     "output_type": "display_data"
    }
   ],
   "source": [
    "t.groupby(\"breast-quad\")[\"irradiat\"].mean().sort_values().plot.barh();"
   ]
  },
  {
   "cell_type": "code",
   "execution_count": 19,
   "metadata": {},
   "outputs": [
    {
     "data": {
      "image/png": "[encoded data removed]",
      "text/plain": [
       "<Figure size 432x288 with 1 Axes>"
      ]
     },
     "metadata": {
      "needs_background": "light"
     },
     "output_type": "display_data"
    }
   ],
   "source": [
    "t.groupby(\"Class\")[\"irradiat\"].mean().sort_values().plot.barh();"
   ]
  },
  {
   "cell_type": "code",
   "execution_count": 21,
   "metadata": {},
   "outputs": [
    {
     "data": {
      "text/html": [
       "<div>\n",
       "<style scoped>\n",
       "    .dataframe tbody tr th:only-of-type {\n",
       "        vertical-align: middle;\n",
       "    }\n",
       "\n",
       "    .dataframe tbody tr th {\n",
       "        vertical-align: top;\n",
       "    }\n",
       "\n",
       "    .dataframe thead th {\n",
       "        text-align: right;\n",
       "    }\n",
       "</style>\n",
       "<table border=\"1\" class=\"dataframe\">\n",
       "  <thead>\n",
       "    <tr style=\"text-align: right;\">\n",
       "      <th></th>\n",
       "      <th>Class</th>\n",
       "      <th>age</th>\n",
       "      <th>menopause</th>\n",
       "      <th>tumor-size</th>\n",
       "      <th>inv-nodes</th>\n",
       "      <th>node-caps</th>\n",
       "      <th>deg-malig</th>\n",
       "      <th>breast</th>\n",
       "      <th>breast-quad</th>\n",
       "      <th>irradiat</th>\n",
       "    </tr>\n",
       "  </thead>\n",
       "  <tbody>\n",
       "    <tr>\n",
       "      <th>0</th>\n",
       "      <td>no-recurrence-events</td>\n",
       "      <td>30-39</td>\n",
       "      <td>premeno</td>\n",
       "      <td>30-34</td>\n",
       "      <td>0-2</td>\n",
       "      <td>no</td>\n",
       "      <td>3</td>\n",
       "      <td>left</td>\n",
       "      <td>left_low</td>\n",
       "      <td>0</td>\n",
       "    </tr>\n",
       "    <tr>\n",
       "      <th>1</th>\n",
       "      <td>no-recurrence-events</td>\n",
       "      <td>40-49</td>\n",
       "      <td>premeno</td>\n",
       "      <td>20-24</td>\n",
       "      <td>0-2</td>\n",
       "      <td>no</td>\n",
       "      <td>2</td>\n",
       "      <td>right</td>\n",
       "      <td>right_up</td>\n",
       "      <td>0</td>\n",
       "    </tr>\n",
       "    <tr>\n",
       "      <th>2</th>\n",
       "      <td>no-recurrence-events</td>\n",
       "      <td>40-49</td>\n",
       "      <td>premeno</td>\n",
       "      <td>20-24</td>\n",
       "      <td>0-2</td>\n",
       "      <td>no</td>\n",
       "      <td>2</td>\n",
       "      <td>left</td>\n",
       "      <td>left_low</td>\n",
       "      <td>0</td>\n",
       "    </tr>\n",
       "    <tr>\n",
       "      <th>3</th>\n",
       "      <td>no-recurrence-events</td>\n",
       "      <td>60-69</td>\n",
       "      <td>ge40</td>\n",
       "      <td>15-19</td>\n",
       "      <td>0-2</td>\n",
       "      <td>no</td>\n",
       "      <td>2</td>\n",
       "      <td>right</td>\n",
       "      <td>left_up</td>\n",
       "      <td>0</td>\n",
       "    </tr>\n",
       "    <tr>\n",
       "      <th>4</th>\n",
       "      <td>no-recurrence-events</td>\n",
       "      <td>40-49</td>\n",
       "      <td>premeno</td>\n",
       "      <td>0-4</td>\n",
       "      <td>0-2</td>\n",
       "      <td>no</td>\n",
       "      <td>2</td>\n",
       "      <td>right</td>\n",
       "      <td>right_low</td>\n",
       "      <td>0</td>\n",
       "    </tr>\n",
       "  </tbody>\n",
       "</table>\n",
       "</div>"
      ],
      "text/plain": [
       "                  Class    age menopause tumor-size inv-nodes node-caps  \\\n",
       "0  no-recurrence-events  30-39   premeno      30-34       0-2        no   \n",
       "1  no-recurrence-events  40-49   premeno      20-24       0-2        no   \n",
       "2  no-recurrence-events  40-49   premeno      20-24       0-2        no   \n",
       "3  no-recurrence-events  60-69      ge40      15-19       0-2        no   \n",
       "4  no-recurrence-events  40-49   premeno        0-4       0-2        no   \n",
       "\n",
       "   deg-malig breast breast-quad  irradiat  \n",
       "0          3   left    left_low         0  \n",
       "1          2  right    right_up         0  \n",
       "2          2   left    left_low         0  \n",
       "3          2  right     left_up         0  \n",
       "4          2  right   right_low         0  "
      ]
     },
     "execution_count": 21,
     "metadata": {},
     "output_type": "execute_result"
    }
   ],
   "source": [
    "t.head()"
   ]
  },
  {
   "cell_type": "code",
   "execution_count": 22,
   "metadata": {},
   "outputs": [],
   "source": [
    "o1=['0-4', \"5-9\",'10-14', '15-19', '20-24','25-29', '30-34','35-39', \n",
    "       '40-44', '45-49','50-54' ]\n"
   ]
  },
  {
   "cell_type": "code",
   "execution_count": 23,
   "metadata": {},
   "outputs": [],
   "source": [
    "o2=['0-2', '3-5', '6-8','9-11','12-14','15-17','24-26']"
   ]
  },
  {
   "cell_type": "code",
   "execution_count": 24,
   "metadata": {},
   "outputs": [],
   "source": [
    "o3=['lt40', 'ge40', 'premeno']"
   ]
  },
  {
   "cell_type": "code",
   "execution_count": 25,
   "metadata": {},
   "outputs": [],
   "source": [
    "o4=['20-29', '30-39', '40-49', '50-59','60-69', '70-79']"
   ]
  },
  {
   "cell_type": "code",
   "execution_count": 26,
   "metadata": {},
   "outputs": [],
   "source": [
    "ct=CT(\n",
    "[\n",
    "    (\"OHE\",OHE(drop=\"first\"),[\"Class\",\"node-caps\",\"breast\",\"breast-quad\"]),\n",
    "    (\"OE\",OE(categories=[o3,o1,o2,o4]),[2,3,4,1])\n",
    "]\n",
    " ,   remainder=\"passthrough\"\n",
    ")"
   ]
  },
  {
   "cell_type": "code",
   "execution_count": 27,
   "metadata": {},
   "outputs": [
    {
     "data": {
      "text/html": [
       "<div>\n",
       "<style scoped>\n",
       "    .dataframe tbody tr th:only-of-type {\n",
       "        vertical-align: middle;\n",
       "    }\n",
       "\n",
       "    .dataframe tbody tr th {\n",
       "        vertical-align: top;\n",
       "    }\n",
       "\n",
       "    .dataframe thead th {\n",
       "        text-align: right;\n",
       "    }\n",
       "</style>\n",
       "<table border=\"1\" class=\"dataframe\">\n",
       "  <thead>\n",
       "    <tr style=\"text-align: right;\">\n",
       "      <th></th>\n",
       "      <th>Class</th>\n",
       "      <th>age</th>\n",
       "      <th>menopause</th>\n",
       "      <th>tumor-size</th>\n",
       "      <th>inv-nodes</th>\n",
       "      <th>node-caps</th>\n",
       "      <th>deg-malig</th>\n",
       "      <th>breast</th>\n",
       "      <th>breast-quad</th>\n",
       "    </tr>\n",
       "  </thead>\n",
       "  <tbody>\n",
       "    <tr>\n",
       "      <th>0</th>\n",
       "      <td>no-recurrence-events</td>\n",
       "      <td>30-39</td>\n",
       "      <td>premeno</td>\n",
       "      <td>30-34</td>\n",
       "      <td>0-2</td>\n",
       "      <td>no</td>\n",
       "      <td>3</td>\n",
       "      <td>left</td>\n",
       "      <td>left_low</td>\n",
       "    </tr>\n",
       "    <tr>\n",
       "      <th>1</th>\n",
       "      <td>no-recurrence-events</td>\n",
       "      <td>40-49</td>\n",
       "      <td>premeno</td>\n",
       "      <td>20-24</td>\n",
       "      <td>0-2</td>\n",
       "      <td>no</td>\n",
       "      <td>2</td>\n",
       "      <td>right</td>\n",
       "      <td>right_up</td>\n",
       "    </tr>\n",
       "    <tr>\n",
       "      <th>2</th>\n",
       "      <td>no-recurrence-events</td>\n",
       "      <td>40-49</td>\n",
       "      <td>premeno</td>\n",
       "      <td>20-24</td>\n",
       "      <td>0-2</td>\n",
       "      <td>no</td>\n",
       "      <td>2</td>\n",
       "      <td>left</td>\n",
       "      <td>left_low</td>\n",
       "    </tr>\n",
       "    <tr>\n",
       "      <th>3</th>\n",
       "      <td>no-recurrence-events</td>\n",
       "      <td>60-69</td>\n",
       "      <td>ge40</td>\n",
       "      <td>15-19</td>\n",
       "      <td>0-2</td>\n",
       "      <td>no</td>\n",
       "      <td>2</td>\n",
       "      <td>right</td>\n",
       "      <td>left_up</td>\n",
       "    </tr>\n",
       "    <tr>\n",
       "      <th>4</th>\n",
       "      <td>no-recurrence-events</td>\n",
       "      <td>40-49</td>\n",
       "      <td>premeno</td>\n",
       "      <td>0-4</td>\n",
       "      <td>0-2</td>\n",
       "      <td>no</td>\n",
       "      <td>2</td>\n",
       "      <td>right</td>\n",
       "      <td>right_low</td>\n",
       "    </tr>\n",
       "    <tr>\n",
       "      <th>...</th>\n",
       "      <td>...</td>\n",
       "      <td>...</td>\n",
       "      <td>...</td>\n",
       "      <td>...</td>\n",
       "      <td>...</td>\n",
       "      <td>...</td>\n",
       "      <td>...</td>\n",
       "      <td>...</td>\n",
       "      <td>...</td>\n",
       "    </tr>\n",
       "    <tr>\n",
       "      <th>281</th>\n",
       "      <td>recurrence-events</td>\n",
       "      <td>30-39</td>\n",
       "      <td>premeno</td>\n",
       "      <td>30-34</td>\n",
       "      <td>0-2</td>\n",
       "      <td>no</td>\n",
       "      <td>2</td>\n",
       "      <td>left</td>\n",
       "      <td>left_up</td>\n",
       "    </tr>\n",
       "    <tr>\n",
       "      <th>282</th>\n",
       "      <td>recurrence-events</td>\n",
       "      <td>30-39</td>\n",
       "      <td>premeno</td>\n",
       "      <td>20-24</td>\n",
       "      <td>0-2</td>\n",
       "      <td>no</td>\n",
       "      <td>3</td>\n",
       "      <td>left</td>\n",
       "      <td>left_up</td>\n",
       "    </tr>\n",
       "    <tr>\n",
       "      <th>283</th>\n",
       "      <td>recurrence-events</td>\n",
       "      <td>60-69</td>\n",
       "      <td>ge40</td>\n",
       "      <td>20-24</td>\n",
       "      <td>0-2</td>\n",
       "      <td>no</td>\n",
       "      <td>1</td>\n",
       "      <td>right</td>\n",
       "      <td>left_up</td>\n",
       "    </tr>\n",
       "    <tr>\n",
       "      <th>284</th>\n",
       "      <td>recurrence-events</td>\n",
       "      <td>40-49</td>\n",
       "      <td>ge40</td>\n",
       "      <td>30-34</td>\n",
       "      <td>3-5</td>\n",
       "      <td>no</td>\n",
       "      <td>3</td>\n",
       "      <td>left</td>\n",
       "      <td>left_low</td>\n",
       "    </tr>\n",
       "    <tr>\n",
       "      <th>285</th>\n",
       "      <td>recurrence-events</td>\n",
       "      <td>50-59</td>\n",
       "      <td>ge40</td>\n",
       "      <td>30-34</td>\n",
       "      <td>3-5</td>\n",
       "      <td>no</td>\n",
       "      <td>3</td>\n",
       "      <td>left</td>\n",
       "      <td>left_low</td>\n",
       "    </tr>\n",
       "  </tbody>\n",
       "</table>\n",
       "<p>277 rows × 9 columns</p>\n",
       "</div>"
      ],
      "text/plain": [
       "                    Class    age menopause tumor-size inv-nodes node-caps  \\\n",
       "0    no-recurrence-events  30-39   premeno      30-34       0-2        no   \n",
       "1    no-recurrence-events  40-49   premeno      20-24       0-2        no   \n",
       "2    no-recurrence-events  40-49   premeno      20-24       0-2        no   \n",
       "3    no-recurrence-events  60-69      ge40      15-19       0-2        no   \n",
       "4    no-recurrence-events  40-49   premeno        0-4       0-2        no   \n",
       "..                    ...    ...       ...        ...       ...       ...   \n",
       "281     recurrence-events  30-39   premeno      30-34       0-2        no   \n",
       "282     recurrence-events  30-39   premeno      20-24       0-2        no   \n",
       "283     recurrence-events  60-69      ge40      20-24       0-2        no   \n",
       "284     recurrence-events  40-49      ge40      30-34       3-5        no   \n",
       "285     recurrence-events  50-59      ge40      30-34       3-5        no   \n",
       "\n",
       "     deg-malig breast breast-quad  \n",
       "0            3   left    left_low  \n",
       "1            2  right    right_up  \n",
       "2            2   left    left_low  \n",
       "3            2  right     left_up  \n",
       "4            2  right   right_low  \n",
       "..         ...    ...         ...  \n",
       "281          2   left     left_up  \n",
       "282          3   left     left_up  \n",
       "283          1  right     left_up  \n",
       "284          3   left    left_low  \n",
       "285          3   left    left_low  \n",
       "\n",
       "[277 rows x 9 columns]"
      ]
     },
     "execution_count": 27,
     "metadata": {},
     "output_type": "execute_result"
    }
   ],
   "source": [
    "x=t.drop([\"irradiat\"],axis=1)\n",
    "x"
   ]
  },
  {
   "cell_type": "code",
   "execution_count": 28,
   "metadata": {},
   "outputs": [
    {
     "data": {
      "text/plain": [
       "0      0\n",
       "1      0\n",
       "2      0\n",
       "3      0\n",
       "4      0\n",
       "      ..\n",
       "281    0\n",
       "282    1\n",
       "283    0\n",
       "284    0\n",
       "285    0\n",
       "Name: irradiat, Length: 277, dtype: int32"
      ]
     },
     "execution_count": 28,
     "metadata": {},
     "output_type": "execute_result"
    }
   ],
   "source": [
    "y=t.loc[:,\"irradiat\"]\n",
    "y"
   ]
  },
  {
   "cell_type": "code",
   "execution_count": 29,
   "metadata": {},
   "outputs": [],
   "source": [
    "xta,xte,yta,yte=TTS(x,y,test_size=0.2,random_state=3)"
   ]
  },
  {
   "cell_type": "code",
   "execution_count": 30,
   "metadata": {},
   "outputs": [
    {
     "data": {
      "text/html": [
       "<style>#sk-87033f55-2193-4c83-ba1f-4e39f6063e95 {color: black;background-color: white;}#sk-87033f55-2193-4c83-ba1f-4e39f6063e95 pre{padding: 0;}#sk-87033f55-2193-4c83-ba1f-4e39f6063e95 div.sk-toggleable {background-color: white;}#sk-87033f55-2193-4c83-ba1f-4e39f6063e95 label.sk-toggleable__label {cursor: pointer;display: block;width: 100%;margin-bottom: 0;padding: 0.3em;box-sizing: border-box;text-align: center;}#sk-87033f55-2193-4c83-ba1f-4e39f6063e95 label.sk-toggleable__label-arrow:before {content: \"▸\";float: left;margin-right: 0.25em;color: #696969;}#sk-87033f55-2193-4c83-ba1f-4e39f6063e95 label.sk-toggleable__label-arrow:hover:before {color: black;}#sk-87033f55-2193-4c83-ba1f-4e39f6063e95 div.sk-estimator:hover label.sk-toggleable__label-arrow:before {color: black;}#sk-87033f55-2193-4c83-ba1f-4e39f6063e95 div.sk-toggleable__content {max-height: 0;max-width: 0;overflow: hidden;text-align: left;background-color: #f0f8ff;}#sk-87033f55-2193-4c83-ba1f-4e39f6063e95 div.sk-toggleable__content pre {margin: 0.2em;color: black;border-radius: 0.25em;background-color: #f0f8ff;}#sk-87033f55-2193-4c83-ba1f-4e39f6063e95 input.sk-toggleable__control:checked~div.sk-toggleable__content {max-height: 200px;max-width: 100%;overflow: auto;}#sk-87033f55-2193-4c83-ba1f-4e39f6063e95 input.sk-toggleable__control:checked~label.sk-toggleable__label-arrow:before {content: \"▾\";}#sk-87033f55-2193-4c83-ba1f-4e39f6063e95 div.sk-estimator input.sk-toggleable__control:checked~label.sk-toggleable__label {background-color: #d4ebff;}#sk-87033f55-2193-4c83-ba1f-4e39f6063e95 div.sk-label input.sk-toggleable__control:checked~label.sk-toggleable__label {background-color: #d4ebff;}#sk-87033f55-2193-4c83-ba1f-4e39f6063e95 input.sk-hidden--visually {border: 0;clip: rect(1px 1px 1px 1px);clip: rect(1px, 1px, 1px, 1px);height: 1px;margin: -1px;overflow: hidden;padding: 0;position: absolute;width: 1px;}#sk-87033f55-2193-4c83-ba1f-4e39f6063e95 div.sk-estimator {font-family: monospace;background-color: #f0f8ff;border: 1px dotted black;border-radius: 0.25em;box-sizing: border-box;margin-bottom: 0.5em;}#sk-87033f55-2193-4c83-ba1f-4e39f6063e95 div.sk-estimator:hover {background-color: #d4ebff;}#sk-87033f55-2193-4c83-ba1f-4e39f6063e95 div.sk-parallel-item::after {content: \"\";width: 100%;border-bottom: 1px solid gray;flex-grow: 1;}#sk-87033f55-2193-4c83-ba1f-4e39f6063e95 div.sk-label:hover label.sk-toggleable__label {background-color: #d4ebff;}#sk-87033f55-2193-4c83-ba1f-4e39f6063e95 div.sk-serial::before {content: \"\";position: absolute;border-left: 1px solid gray;box-sizing: border-box;top: 2em;bottom: 0;left: 50%;}#sk-87033f55-2193-4c83-ba1f-4e39f6063e95 div.sk-serial {display: flex;flex-direction: column;align-items: center;background-color: white;padding-right: 0.2em;padding-left: 0.2em;}#sk-87033f55-2193-4c83-ba1f-4e39f6063e95 div.sk-item {z-index: 1;}#sk-87033f55-2193-4c83-ba1f-4e39f6063e95 div.sk-parallel {display: flex;align-items: stretch;justify-content: center;background-color: white;}#sk-87033f55-2193-4c83-ba1f-4e39f6063e95 div.sk-parallel::before {content: \"\";position: absolute;border-left: 1px solid gray;box-sizing: border-box;top: 2em;bottom: 0;left: 50%;}#sk-87033f55-2193-4c83-ba1f-4e39f6063e95 div.sk-parallel-item {display: flex;flex-direction: column;position: relative;background-color: white;}#sk-87033f55-2193-4c83-ba1f-4e39f6063e95 div.sk-parallel-item:first-child::after {align-self: flex-end;width: 50%;}#sk-87033f55-2193-4c83-ba1f-4e39f6063e95 div.sk-parallel-item:last-child::after {align-self: flex-start;width: 50%;}#sk-87033f55-2193-4c83-ba1f-4e39f6063e95 div.sk-parallel-item:only-child::after {width: 0;}#sk-87033f55-2193-4c83-ba1f-4e39f6063e95 div.sk-dashed-wrapped {border: 1px dashed gray;margin: 0 0.4em 0.5em 0.4em;box-sizing: border-box;padding-bottom: 0.4em;background-color: white;position: relative;}#sk-87033f55-2193-4c83-ba1f-4e39f6063e95 div.sk-label label {font-family: monospace;font-weight: bold;background-color: white;display: inline-block;line-height: 1.2em;}#sk-87033f55-2193-4c83-ba1f-4e39f6063e95 div.sk-label-container {position: relative;z-index: 2;text-align: center;}#sk-87033f55-2193-4c83-ba1f-4e39f6063e95 div.sk-container {/* jupyter's `normalize.less` sets `[hidden] { display: none; }` but bootstrap.min.css set `[hidden] { display: none !important; }` so we also need the `!important` here to be able to override the default hidden behavior on the sphinx rendered scikit-learn.org. See: https://github.com/scikit-learn/scikit-learn/issues/21755 */display: inline-block !important;position: relative;}#sk-87033f55-2193-4c83-ba1f-4e39f6063e95 div.sk-text-repr-fallback {display: none;}</style><div id=\"sk-87033f55-2193-4c83-ba1f-4e39f6063e95\" class=\"sk-top-container\"><div class=\"sk-text-repr-fallback\"><pre>Pipeline(steps=[(&#x27;ct&#x27;,\n",
       "                 ColumnTransformer(remainder=&#x27;passthrough&#x27;,\n",
       "                                   transformers=[(&#x27;OHE&#x27;,\n",
       "                                                  OneHotEncoder(drop=&#x27;first&#x27;),\n",
       "                                                  [&#x27;Class&#x27;, &#x27;node-caps&#x27;,\n",
       "                                                   &#x27;breast&#x27;, &#x27;breast-quad&#x27;]),\n",
       "                                                 (&#x27;OE&#x27;,\n",
       "                                                  OrdinalEncoder(categories=[[&#x27;lt40&#x27;,\n",
       "                                                                              &#x27;ge40&#x27;,\n",
       "                                                                              &#x27;premeno&#x27;],\n",
       "                                                                             [&#x27;0-4&#x27;,\n",
       "                                                                              &#x27;5-9&#x27;,\n",
       "                                                                              &#x27;10-14&#x27;,\n",
       "                                                                              &#x27;15-19&#x27;,\n",
       "                                                                              &#x27;20-24&#x27;,\n",
       "                                                                              &#x27;25-29&#x27;,\n",
       "                                                                              &#x27;30-34&#x27;,\n",
       "                                                                              &#x27;35-39&#x27;,\n",
       "                                                                              &#x27;40-44&#x27;,\n",
       "                                                                              &#x27;45-49&#x27;,\n",
       "                                                                              &#x27;50-54&#x27;],\n",
       "                                                                             [&#x27;0-2&#x27;,\n",
       "                                                                              &#x27;3-5&#x27;,\n",
       "                                                                              &#x27;6-8&#x27;,\n",
       "                                                                              &#x27;9-11&#x27;,\n",
       "                                                                              &#x27;12-14&#x27;,\n",
       "                                                                              &#x27;15-17&#x27;,\n",
       "                                                                              &#x27;24-26&#x27;],\n",
       "                                                                             [&#x27;20-29&#x27;,\n",
       "                                                                              &#x27;30-39&#x27;,\n",
       "                                                                              &#x27;40-49&#x27;,\n",
       "                                                                              &#x27;50-59&#x27;,\n",
       "                                                                              &#x27;60-69&#x27;,\n",
       "                                                                              &#x27;70-79&#x27;]]),\n",
       "                                                  [2, 3, 4, 1])])),\n",
       "                (&#x27;SS&#x27;, StandardScaler()), (&#x27;svm&#x27;, SVC())])</pre><b>Please rerun this cell to show the HTML repr or trust the notebook.</b></div><div class=\"sk-container\" hidden><div class=\"sk-item sk-dashed-wrapped\"><div class=\"sk-label-container\"><div class=\"sk-label sk-toggleable\"><input class=\"sk-toggleable__control sk-hidden--visually\" id=\"3bfd5b22-2f72-410e-89f0-ff4e7317667d\" type=\"checkbox\" ><label for=\"3bfd5b22-2f72-410e-89f0-ff4e7317667d\" class=\"sk-toggleable__label sk-toggleable__label-arrow\">Pipeline</label><div class=\"sk-toggleable__content\"><pre>Pipeline(steps=[(&#x27;ct&#x27;,\n",
       "                 ColumnTransformer(remainder=&#x27;passthrough&#x27;,\n",
       "                                   transformers=[(&#x27;OHE&#x27;,\n",
       "                                                  OneHotEncoder(drop=&#x27;first&#x27;),\n",
       "                                                  [&#x27;Class&#x27;, &#x27;node-caps&#x27;,\n",
       "                                                   &#x27;breast&#x27;, &#x27;breast-quad&#x27;]),\n",
       "                                                 (&#x27;OE&#x27;,\n",
       "                                                  OrdinalEncoder(categories=[[&#x27;lt40&#x27;,\n",
       "                                                                              &#x27;ge40&#x27;,\n",
       "                                                                              &#x27;premeno&#x27;],\n",
       "                                                                             [&#x27;0-4&#x27;,\n",
       "                                                                              &#x27;5-9&#x27;,\n",
       "                                                                              &#x27;10-14&#x27;,\n",
       "                                                                              &#x27;15-19&#x27;,\n",
       "                                                                              &#x27;20-24&#x27;,\n",
       "                                                                              &#x27;25-29&#x27;,\n",
       "                                                                              &#x27;30-34&#x27;,\n",
       "                                                                              &#x27;35-39&#x27;,\n",
       "                                                                              &#x27;40-44&#x27;,\n",
       "                                                                              &#x27;45-49&#x27;,\n",
       "                                                                              &#x27;50-54&#x27;],\n",
       "                                                                             [&#x27;0-2&#x27;,\n",
       "                                                                              &#x27;3-5&#x27;,\n",
       "                                                                              &#x27;6-8&#x27;,\n",
       "                                                                              &#x27;9-11&#x27;,\n",
       "                                                                              &#x27;12-14&#x27;,\n",
       "                                                                              &#x27;15-17&#x27;,\n",
       "                                                                              &#x27;24-26&#x27;],\n",
       "                                                                             [&#x27;20-29&#x27;,\n",
       "                                                                              &#x27;30-39&#x27;,\n",
       "                                                                              &#x27;40-49&#x27;,\n",
       "                                                                              &#x27;50-59&#x27;,\n",
       "                                                                              &#x27;60-69&#x27;,\n",
       "                                                                              &#x27;70-79&#x27;]]),\n",
       "                                                  [2, 3, 4, 1])])),\n",
       "                (&#x27;SS&#x27;, StandardScaler()), (&#x27;svm&#x27;, SVC())])</pre></div></div></div><div class=\"sk-serial\"><div class=\"sk-item sk-dashed-wrapped\"><div class=\"sk-label-container\"><div class=\"sk-label sk-toggleable\"><input class=\"sk-toggleable__control sk-hidden--visually\" id=\"cf7037d3-4ab4-457c-b29a-04ea2c359e02\" type=\"checkbox\" ><label for=\"cf7037d3-4ab4-457c-b29a-04ea2c359e02\" class=\"sk-toggleable__label sk-toggleable__label-arrow\">ct: ColumnTransformer</label><div class=\"sk-toggleable__content\"><pre>ColumnTransformer(remainder=&#x27;passthrough&#x27;,\n",
       "                  transformers=[(&#x27;OHE&#x27;, OneHotEncoder(drop=&#x27;first&#x27;),\n",
       "                                 [&#x27;Class&#x27;, &#x27;node-caps&#x27;, &#x27;breast&#x27;,\n",
       "                                  &#x27;breast-quad&#x27;]),\n",
       "                                (&#x27;OE&#x27;,\n",
       "                                 OrdinalEncoder(categories=[[&#x27;lt40&#x27;, &#x27;ge40&#x27;,\n",
       "                                                             &#x27;premeno&#x27;],\n",
       "                                                            [&#x27;0-4&#x27;, &#x27;5-9&#x27;,\n",
       "                                                             &#x27;10-14&#x27;, &#x27;15-19&#x27;,\n",
       "                                                             &#x27;20-24&#x27;, &#x27;25-29&#x27;,\n",
       "                                                             &#x27;30-34&#x27;, &#x27;35-39&#x27;,\n",
       "                                                             &#x27;40-44&#x27;, &#x27;45-49&#x27;,\n",
       "                                                             &#x27;50-54&#x27;],\n",
       "                                                            [&#x27;0-2&#x27;, &#x27;3-5&#x27;,\n",
       "                                                             &#x27;6-8&#x27;, &#x27;9-11&#x27;,\n",
       "                                                             &#x27;12-14&#x27;, &#x27;15-17&#x27;,\n",
       "                                                             &#x27;24-26&#x27;],\n",
       "                                                            [&#x27;20-29&#x27;, &#x27;30-39&#x27;,\n",
       "                                                             &#x27;40-49&#x27;, &#x27;50-59&#x27;,\n",
       "                                                             &#x27;60-69&#x27;,\n",
       "                                                             &#x27;70-79&#x27;]]),\n",
       "                                 [2, 3, 4, 1])])</pre></div></div></div><div class=\"sk-parallel\"><div class=\"sk-parallel-item\"><div class=\"sk-item\"><div class=\"sk-label-container\"><div class=\"sk-label sk-toggleable\"><input class=\"sk-toggleable__control sk-hidden--visually\" id=\"09983fe8-1a72-4c60-83fc-e3d486ee3f14\" type=\"checkbox\" ><label for=\"09983fe8-1a72-4c60-83fc-e3d486ee3f14\" class=\"sk-toggleable__label sk-toggleable__label-arrow\">OHE</label><div class=\"sk-toggleable__content\"><pre>[&#x27;Class&#x27;, &#x27;node-caps&#x27;, &#x27;breast&#x27;, &#x27;breast-quad&#x27;]</pre></div></div></div><div class=\"sk-serial\"><div class=\"sk-item\"><div class=\"sk-estimator sk-toggleable\"><input class=\"sk-toggleable__control sk-hidden--visually\" id=\"6f483dfd-4cd6-4fec-a4bb-f445f6f469c9\" type=\"checkbox\" ><label for=\"6f483dfd-4cd6-4fec-a4bb-f445f6f469c9\" class=\"sk-toggleable__label sk-toggleable__label-arrow\">OneHotEncoder</label><div class=\"sk-toggleable__content\"><pre>OneHotEncoder(drop=&#x27;first&#x27;)</pre></div></div></div></div></div></div><div class=\"sk-parallel-item\"><div class=\"sk-item\"><div class=\"sk-label-container\"><div class=\"sk-label sk-toggleable\"><input class=\"sk-toggleable__control sk-hidden--visually\" id=\"047665a3-23d2-41a3-82ae-d288253d833f\" type=\"checkbox\" ><label for=\"047665a3-23d2-41a3-82ae-d288253d833f\" class=\"sk-toggleable__label sk-toggleable__label-arrow\">OE</label><div class=\"sk-toggleable__content\"><pre>[2, 3, 4, 1]</pre></div></div></div><div class=\"sk-serial\"><div class=\"sk-item\"><div class=\"sk-estimator sk-toggleable\"><input class=\"sk-toggleable__control sk-hidden--visually\" id=\"9b9bafa6-3fa7-47bf-af02-e77d51c8b6cd\" type=\"checkbox\" ><label for=\"9b9bafa6-3fa7-47bf-af02-e77d51c8b6cd\" class=\"sk-toggleable__label sk-toggleable__label-arrow\">OrdinalEncoder</label><div class=\"sk-toggleable__content\"><pre>OrdinalEncoder(categories=[[&#x27;lt40&#x27;, &#x27;ge40&#x27;, &#x27;premeno&#x27;],\n",
       "                           [&#x27;0-4&#x27;, &#x27;5-9&#x27;, &#x27;10-14&#x27;, &#x27;15-19&#x27;, &#x27;20-24&#x27;, &#x27;25-29&#x27;,\n",
       "                            &#x27;30-34&#x27;, &#x27;35-39&#x27;, &#x27;40-44&#x27;, &#x27;45-49&#x27;, &#x27;50-54&#x27;],\n",
       "                           [&#x27;0-2&#x27;, &#x27;3-5&#x27;, &#x27;6-8&#x27;, &#x27;9-11&#x27;, &#x27;12-14&#x27;, &#x27;15-17&#x27;,\n",
       "                            &#x27;24-26&#x27;],\n",
       "                           [&#x27;20-29&#x27;, &#x27;30-39&#x27;, &#x27;40-49&#x27;, &#x27;50-59&#x27;, &#x27;60-69&#x27;,\n",
       "                            &#x27;70-79&#x27;]])</pre></div></div></div></div></div></div><div class=\"sk-parallel-item\"><div class=\"sk-item\"><div class=\"sk-label-container\"><div class=\"sk-label sk-toggleable\"><input class=\"sk-toggleable__control sk-hidden--visually\" id=\"37e4fd8b-cad0-4c9d-9f51-38339ef8a478\" type=\"checkbox\" ><label for=\"37e4fd8b-cad0-4c9d-9f51-38339ef8a478\" class=\"sk-toggleable__label sk-toggleable__label-arrow\">remainder</label><div class=\"sk-toggleable__content\"><pre>[&#x27;deg-malig&#x27;]</pre></div></div></div><div class=\"sk-serial\"><div class=\"sk-item\"><div class=\"sk-estimator sk-toggleable\"><input class=\"sk-toggleable__control sk-hidden--visually\" id=\"62f9b547-c4f0-4296-aa46-cb4f1262fb93\" type=\"checkbox\" ><label for=\"62f9b547-c4f0-4296-aa46-cb4f1262fb93\" class=\"sk-toggleable__label sk-toggleable__label-arrow\">passthrough</label><div class=\"sk-toggleable__content\"><pre>passthrough</pre></div></div></div></div></div></div></div></div><div class=\"sk-item\"><div class=\"sk-estimator sk-toggleable\"><input class=\"sk-toggleable__control sk-hidden--visually\" id=\"a7cf63d8-0a99-4081-ba2d-e38ea914074f\" type=\"checkbox\" ><label for=\"a7cf63d8-0a99-4081-ba2d-e38ea914074f\" class=\"sk-toggleable__label sk-toggleable__label-arrow\">StandardScaler</label><div class=\"sk-toggleable__content\"><pre>StandardScaler()</pre></div></div></div><div class=\"sk-item\"><div class=\"sk-estimator sk-toggleable\"><input class=\"sk-toggleable__control sk-hidden--visually\" id=\"5434d602-bf79-4100-9a0f-b09d8dbbadc1\" type=\"checkbox\" ><label for=\"5434d602-bf79-4100-9a0f-b09d8dbbadc1\" class=\"sk-toggleable__label sk-toggleable__label-arrow\">SVC</label><div class=\"sk-toggleable__content\"><pre>SVC()</pre></div></div></div></div></div></div></div>"
      ],
      "text/plain": [
       "Pipeline(steps=[('ct',\n",
       "                 ColumnTransformer(remainder='passthrough',\n",
       "                                   transformers=[('OHE',\n",
       "                                                  OneHotEncoder(drop='first'),\n",
       "                                                  ['Class', 'node-caps',\n",
       "                                                   'breast', 'breast-quad']),\n",
       "                                                 ('OE',\n",
       "                                                  OrdinalEncoder(categories=[['lt40',\n",
       "                                                                              'ge40',\n",
       "                                                                              'premeno'],\n",
       "                                                                             ['0-4',\n",
       "                                                                              '5-9',\n",
       "                                                                              '10-14',\n",
       "                                                                              '15-19',\n",
       "                                                                              '20-24',\n",
       "                                                                              '25-29',\n",
       "                                                                              '30-34',\n",
       "                                                                              '35-39',\n",
       "                                                                              '40-44',\n",
       "                                                                              '45-49',\n",
       "                                                                              '50-54'],\n",
       "                                                                             ['0-2',\n",
       "                                                                              '3-5',\n",
       "                                                                              '6-8',\n",
       "                                                                              '9-11',\n",
       "                                                                              '12-14',\n",
       "                                                                              '15-17',\n",
       "                                                                              '24-26'],\n",
       "                                                                             ['20-29',\n",
       "                                                                              '30-39',\n",
       "                                                                              '40-49',\n",
       "                                                                              '50-59',\n",
       "                                                                              '60-69',\n",
       "                                                                              '70-79']]),\n",
       "                                                  [2, 3, 4, 1])])),\n",
       "                ('SS', StandardScaler()), ('svm', SVC())])"
      ]
     },
     "execution_count": 30,
     "metadata": {},
     "output_type": "execute_result"
    }
   ],
   "source": [
    "pp=PP(\n",
    "[\n",
    "    (\"ct\",ct),\n",
    "    (\"SS\",SS()),\n",
    "    (\"svm\",SVC())\n",
    "])\n",
    "pp.fit(xta,yta)\n"
   ]
  },
  {
   "cell_type": "code",
   "execution_count": 31,
   "metadata": {},
   "outputs": [
    {
     "data": {
      "text/html": [
       "<style>#sk-e5067f3d-68ba-4163-9a52-6af90d85ffc1 {color: black;background-color: white;}#sk-e5067f3d-68ba-4163-9a52-6af90d85ffc1 pre{padding: 0;}#sk-e5067f3d-68ba-4163-9a52-6af90d85ffc1 div.sk-toggleable {background-color: white;}#sk-e5067f3d-68ba-4163-9a52-6af90d85ffc1 label.sk-toggleable__label {cursor: pointer;display: block;width: 100%;margin-bottom: 0;padding: 0.3em;box-sizing: border-box;text-align: center;}#sk-e5067f3d-68ba-4163-9a52-6af90d85ffc1 label.sk-toggleable__label-arrow:before {content: \"▸\";float: left;margin-right: 0.25em;color: #696969;}#sk-e5067f3d-68ba-4163-9a52-6af90d85ffc1 label.sk-toggleable__label-arrow:hover:before {color: black;}#sk-e5067f3d-68ba-4163-9a52-6af90d85ffc1 div.sk-estimator:hover label.sk-toggleable__label-arrow:before {color: black;}#sk-e5067f3d-68ba-4163-9a52-6af90d85ffc1 div.sk-toggleable__content {max-height: 0;max-width: 0;overflow: hidden;text-align: left;background-color: #f0f8ff;}#sk-e5067f3d-68ba-4163-9a52-6af90d85ffc1 div.sk-toggleable__content pre {margin: 0.2em;color: black;border-radius: 0.25em;background-color: #f0f8ff;}#sk-e5067f3d-68ba-4163-9a52-6af90d85ffc1 input.sk-toggleable__control:checked~div.sk-toggleable__content {max-height: 200px;max-width: 100%;overflow: auto;}#sk-e5067f3d-68ba-4163-9a52-6af90d85ffc1 input.sk-toggleable__control:checked~label.sk-toggleable__label-arrow:before {content: \"▾\";}#sk-e5067f3d-68ba-4163-9a52-6af90d85ffc1 div.sk-estimator input.sk-toggleable__control:checked~label.sk-toggleable__label {background-color: #d4ebff;}#sk-e5067f3d-68ba-4163-9a52-6af90d85ffc1 div.sk-label input.sk-toggleable__control:checked~label.sk-toggleable__label {background-color: #d4ebff;}#sk-e5067f3d-68ba-4163-9a52-6af90d85ffc1 input.sk-hidden--visually {border: 0;clip: rect(1px 1px 1px 1px);clip: rect(1px, 1px, 1px, 1px);height: 1px;margin: -1px;overflow: hidden;padding: 0;position: absolute;width: 1px;}#sk-e5067f3d-68ba-4163-9a52-6af90d85ffc1 div.sk-estimator {font-family: monospace;background-color: #f0f8ff;border: 1px dotted black;border-radius: 0.25em;box-sizing: border-box;margin-bottom: 0.5em;}#sk-e5067f3d-68ba-4163-9a52-6af90d85ffc1 div.sk-estimator:hover {background-color: #d4ebff;}#sk-e5067f3d-68ba-4163-9a52-6af90d85ffc1 div.sk-parallel-item::after {content: \"\";width: 100%;border-bottom: 1px solid gray;flex-grow: 1;}#sk-e5067f3d-68ba-4163-9a52-6af90d85ffc1 div.sk-label:hover label.sk-toggleable__label {background-color: #d4ebff;}#sk-e5067f3d-68ba-4163-9a52-6af90d85ffc1 div.sk-serial::before {content: \"\";position: absolute;border-left: 1px solid gray;box-sizing: border-box;top: 2em;bottom: 0;left: 50%;}#sk-e5067f3d-68ba-4163-9a52-6af90d85ffc1 div.sk-serial {display: flex;flex-direction: column;align-items: center;background-color: white;padding-right: 0.2em;padding-left: 0.2em;}#sk-e5067f3d-68ba-4163-9a52-6af90d85ffc1 div.sk-item {z-index: 1;}#sk-e5067f3d-68ba-4163-9a52-6af90d85ffc1 div.sk-parallel {display: flex;align-items: stretch;justify-content: center;background-color: white;}#sk-e5067f3d-68ba-4163-9a52-6af90d85ffc1 div.sk-parallel::before {content: \"\";position: absolute;border-left: 1px solid gray;box-sizing: border-box;top: 2em;bottom: 0;left: 50%;}#sk-e5067f3d-68ba-4163-9a52-6af90d85ffc1 div.sk-parallel-item {display: flex;flex-direction: column;position: relative;background-color: white;}#sk-e5067f3d-68ba-4163-9a52-6af90d85ffc1 div.sk-parallel-item:first-child::after {align-self: flex-end;width: 50%;}#sk-e5067f3d-68ba-4163-9a52-6af90d85ffc1 div.sk-parallel-item:last-child::after {align-self: flex-start;width: 50%;}#sk-e5067f3d-68ba-4163-9a52-6af90d85ffc1 div.sk-parallel-item:only-child::after {width: 0;}#sk-e5067f3d-68ba-4163-9a52-6af90d85ffc1 div.sk-dashed-wrapped {border: 1px dashed gray;margin: 0 0.4em 0.5em 0.4em;box-sizing: border-box;padding-bottom: 0.4em;background-color: white;position: relative;}#sk-e5067f3d-68ba-4163-9a52-6af90d85ffc1 div.sk-label label {font-family: monospace;font-weight: bold;background-color: white;display: inline-block;line-height: 1.2em;}#sk-e5067f3d-68ba-4163-9a52-6af90d85ffc1 div.sk-label-container {position: relative;z-index: 2;text-align: center;}#sk-e5067f3d-68ba-4163-9a52-6af90d85ffc1 div.sk-container {/* jupyter's `normalize.less` sets `[hidden] { display: none; }` but bootstrap.min.css set `[hidden] { display: none !important; }` so we also need the `!important` here to be able to override the default hidden behavior on the sphinx rendered scikit-learn.org. See: https://github.com/scikit-learn/scikit-learn/issues/21755 */display: inline-block !important;position: relative;}#sk-e5067f3d-68ba-4163-9a52-6af90d85ffc1 div.sk-text-repr-fallback {display: none;}</style><div id=\"sk-e5067f3d-68ba-4163-9a52-6af90d85ffc1\" class=\"sk-top-container\"><div class=\"sk-text-repr-fallback\"><pre>Pipeline(steps=[(&#x27;ct&#x27;,\n",
       "                 ColumnTransformer(remainder=&#x27;passthrough&#x27;,\n",
       "                                   transformers=[(&#x27;OHE&#x27;,\n",
       "                                                  OneHotEncoder(drop=&#x27;first&#x27;),\n",
       "                                                  [&#x27;Class&#x27;, &#x27;node-caps&#x27;,\n",
       "                                                   &#x27;breast&#x27;, &#x27;breast-quad&#x27;]),\n",
       "                                                 (&#x27;OE&#x27;,\n",
       "                                                  OrdinalEncoder(categories=[[&#x27;lt40&#x27;,\n",
       "                                                                              &#x27;ge40&#x27;,\n",
       "                                                                              &#x27;premeno&#x27;],\n",
       "                                                                             [&#x27;0-4&#x27;,\n",
       "                                                                              &#x27;5-9&#x27;,\n",
       "                                                                              &#x27;10-14&#x27;,\n",
       "                                                                              &#x27;15-19&#x27;,\n",
       "                                                                              &#x27;20-24&#x27;,\n",
       "                                                                              &#x27;25-29&#x27;,\n",
       "                                                                              &#x27;30-34&#x27;,\n",
       "                                                                              &#x27;35-39&#x27;,\n",
       "                                                                              &#x27;40-44&#x27;,\n",
       "                                                                              &#x27;45-49&#x27;,\n",
       "                                                                              &#x27;50-54&#x27;],\n",
       "                                                                             [&#x27;0-2&#x27;,\n",
       "                                                                              &#x27;3-5&#x27;,\n",
       "                                                                              &#x27;6-8&#x27;,\n",
       "                                                                              &#x27;9-11&#x27;,\n",
       "                                                                              &#x27;12-14&#x27;,\n",
       "                                                                              &#x27;15-17&#x27;,\n",
       "                                                                              &#x27;24-26&#x27;],\n",
       "                                                                             [&#x27;20-29&#x27;,\n",
       "                                                                              &#x27;30-39&#x27;,\n",
       "                                                                              &#x27;40-49&#x27;,\n",
       "                                                                              &#x27;50-59&#x27;,\n",
       "                                                                              &#x27;60-69&#x27;,\n",
       "                                                                              &#x27;70-79&#x27;]]),\n",
       "                                                  [2, 3, 4, 1])])),\n",
       "                (&#x27;rfc&#x27;, RandomForestClassifier())])</pre><b>Please rerun this cell to show the HTML repr or trust the notebook.</b></div><div class=\"sk-container\" hidden><div class=\"sk-item sk-dashed-wrapped\"><div class=\"sk-label-container\"><div class=\"sk-label sk-toggleable\"><input class=\"sk-toggleable__control sk-hidden--visually\" id=\"b443e807-142f-4dc7-b5a2-879e425d21af\" type=\"checkbox\" ><label for=\"b443e807-142f-4dc7-b5a2-879e425d21af\" class=\"sk-toggleable__label sk-toggleable__label-arrow\">Pipeline</label><div class=\"sk-toggleable__content\"><pre>Pipeline(steps=[(&#x27;ct&#x27;,\n",
       "                 ColumnTransformer(remainder=&#x27;passthrough&#x27;,\n",
       "                                   transformers=[(&#x27;OHE&#x27;,\n",
       "                                                  OneHotEncoder(drop=&#x27;first&#x27;),\n",
       "                                                  [&#x27;Class&#x27;, &#x27;node-caps&#x27;,\n",
       "                                                   &#x27;breast&#x27;, &#x27;breast-quad&#x27;]),\n",
       "                                                 (&#x27;OE&#x27;,\n",
       "                                                  OrdinalEncoder(categories=[[&#x27;lt40&#x27;,\n",
       "                                                                              &#x27;ge40&#x27;,\n",
       "                                                                              &#x27;premeno&#x27;],\n",
       "                                                                             [&#x27;0-4&#x27;,\n",
       "                                                                              &#x27;5-9&#x27;,\n",
       "                                                                              &#x27;10-14&#x27;,\n",
       "                                                                              &#x27;15-19&#x27;,\n",
       "                                                                              &#x27;20-24&#x27;,\n",
       "                                                                              &#x27;25-29&#x27;,\n",
       "                                                                              &#x27;30-34&#x27;,\n",
       "                                                                              &#x27;35-39&#x27;,\n",
       "                                                                              &#x27;40-44&#x27;,\n",
       "                                                                              &#x27;45-49&#x27;,\n",
       "                                                                              &#x27;50-54&#x27;],\n",
       "                                                                             [&#x27;0-2&#x27;,\n",
       "                                                                              &#x27;3-5&#x27;,\n",
       "                                                                              &#x27;6-8&#x27;,\n",
       "                                                                              &#x27;9-11&#x27;,\n",
       "                                                                              &#x27;12-14&#x27;,\n",
       "                                                                              &#x27;15-17&#x27;,\n",
       "                                                                              &#x27;24-26&#x27;],\n",
       "                                                                             [&#x27;20-29&#x27;,\n",
       "                                                                              &#x27;30-39&#x27;,\n",
       "                                                                              &#x27;40-49&#x27;,\n",
       "                                                                              &#x27;50-59&#x27;,\n",
       "                                                                              &#x27;60-69&#x27;,\n",
       "                                                                              &#x27;70-79&#x27;]]),\n",
       "                                                  [2, 3, 4, 1])])),\n",
       "                (&#x27;rfc&#x27;, RandomForestClassifier())])</pre></div></div></div><div class=\"sk-serial\"><div class=\"sk-item sk-dashed-wrapped\"><div class=\"sk-label-container\"><div class=\"sk-label sk-toggleable\"><input class=\"sk-toggleable__control sk-hidden--visually\" id=\"7c61fc5c-7c9a-46db-84fa-d3a102849bf3\" type=\"checkbox\" ><label for=\"7c61fc5c-7c9a-46db-84fa-d3a102849bf3\" class=\"sk-toggleable__label sk-toggleable__label-arrow\">ct: ColumnTransformer</label><div class=\"sk-toggleable__content\"><pre>ColumnTransformer(remainder=&#x27;passthrough&#x27;,\n",
       "                  transformers=[(&#x27;OHE&#x27;, OneHotEncoder(drop=&#x27;first&#x27;),\n",
       "                                 [&#x27;Class&#x27;, &#x27;node-caps&#x27;, &#x27;breast&#x27;,\n",
       "                                  &#x27;breast-quad&#x27;]),\n",
       "                                (&#x27;OE&#x27;,\n",
       "                                 OrdinalEncoder(categories=[[&#x27;lt40&#x27;, &#x27;ge40&#x27;,\n",
       "                                                             &#x27;premeno&#x27;],\n",
       "                                                            [&#x27;0-4&#x27;, &#x27;5-9&#x27;,\n",
       "                                                             &#x27;10-14&#x27;, &#x27;15-19&#x27;,\n",
       "                                                             &#x27;20-24&#x27;, &#x27;25-29&#x27;,\n",
       "                                                             &#x27;30-34&#x27;, &#x27;35-39&#x27;,\n",
       "                                                             &#x27;40-44&#x27;, &#x27;45-49&#x27;,\n",
       "                                                             &#x27;50-54&#x27;],\n",
       "                                                            [&#x27;0-2&#x27;, &#x27;3-5&#x27;,\n",
       "                                                             &#x27;6-8&#x27;, &#x27;9-11&#x27;,\n",
       "                                                             &#x27;12-14&#x27;, &#x27;15-17&#x27;,\n",
       "                                                             &#x27;24-26&#x27;],\n",
       "                                                            [&#x27;20-29&#x27;, &#x27;30-39&#x27;,\n",
       "                                                             &#x27;40-49&#x27;, &#x27;50-59&#x27;,\n",
       "                                                             &#x27;60-69&#x27;,\n",
       "                                                             &#x27;70-79&#x27;]]),\n",
       "                                 [2, 3, 4, 1])])</pre></div></div></div><div class=\"sk-parallel\"><div class=\"sk-parallel-item\"><div class=\"sk-item\"><div class=\"sk-label-container\"><div class=\"sk-label sk-toggleable\"><input class=\"sk-toggleable__control sk-hidden--visually\" id=\"148cd9f4-ee46-4a2c-bc49-5764f745485b\" type=\"checkbox\" ><label for=\"148cd9f4-ee46-4a2c-bc49-5764f745485b\" class=\"sk-toggleable__label sk-toggleable__label-arrow\">OHE</label><div class=\"sk-toggleable__content\"><pre>[&#x27;Class&#x27;, &#x27;node-caps&#x27;, &#x27;breast&#x27;, &#x27;breast-quad&#x27;]</pre></div></div></div><div class=\"sk-serial\"><div class=\"sk-item\"><div class=\"sk-estimator sk-toggleable\"><input class=\"sk-toggleable__control sk-hidden--visually\" id=\"6c0fe455-1952-46e9-b284-6c31f760f5e3\" type=\"checkbox\" ><label for=\"6c0fe455-1952-46e9-b284-6c31f760f5e3\" class=\"sk-toggleable__label sk-toggleable__label-arrow\">OneHotEncoder</label><div class=\"sk-toggleable__content\"><pre>OneHotEncoder(drop=&#x27;first&#x27;)</pre></div></div></div></div></div></div><div class=\"sk-parallel-item\"><div class=\"sk-item\"><div class=\"sk-label-container\"><div class=\"sk-label sk-toggleable\"><input class=\"sk-toggleable__control sk-hidden--visually\" id=\"d4f8b164-ecb4-4f66-9af6-ec9aa6b81034\" type=\"checkbox\" ><label for=\"d4f8b164-ecb4-4f66-9af6-ec9aa6b81034\" class=\"sk-toggleable__label sk-toggleable__label-arrow\">OE</label><div class=\"sk-toggleable__content\"><pre>[2, 3, 4, 1]</pre></div></div></div><div class=\"sk-serial\"><div class=\"sk-item\"><div class=\"sk-estimator sk-toggleable\"><input class=\"sk-toggleable__control sk-hidden--visually\" id=\"7fe44433-7a5b-4556-908d-4075f3865d44\" type=\"checkbox\" ><label for=\"7fe44433-7a5b-4556-908d-4075f3865d44\" class=\"sk-toggleable__label sk-toggleable__label-arrow\">OrdinalEncoder</label><div class=\"sk-toggleable__content\"><pre>OrdinalEncoder(categories=[[&#x27;lt40&#x27;, &#x27;ge40&#x27;, &#x27;premeno&#x27;],\n",
       "                           [&#x27;0-4&#x27;, &#x27;5-9&#x27;, &#x27;10-14&#x27;, &#x27;15-19&#x27;, &#x27;20-24&#x27;, &#x27;25-29&#x27;,\n",
       "                            &#x27;30-34&#x27;, &#x27;35-39&#x27;, &#x27;40-44&#x27;, &#x27;45-49&#x27;, &#x27;50-54&#x27;],\n",
       "                           [&#x27;0-2&#x27;, &#x27;3-5&#x27;, &#x27;6-8&#x27;, &#x27;9-11&#x27;, &#x27;12-14&#x27;, &#x27;15-17&#x27;,\n",
       "                            &#x27;24-26&#x27;],\n",
       "                           [&#x27;20-29&#x27;, &#x27;30-39&#x27;, &#x27;40-49&#x27;, &#x27;50-59&#x27;, &#x27;60-69&#x27;,\n",
       "                            &#x27;70-79&#x27;]])</pre></div></div></div></div></div></div><div class=\"sk-parallel-item\"><div class=\"sk-item\"><div class=\"sk-label-container\"><div class=\"sk-label sk-toggleable\"><input class=\"sk-toggleable__control sk-hidden--visually\" id=\"bc08c3bb-7cec-48c4-a098-1acf8c1f0e37\" type=\"checkbox\" ><label for=\"bc08c3bb-7cec-48c4-a098-1acf8c1f0e37\" class=\"sk-toggleable__label sk-toggleable__label-arrow\">remainder</label><div class=\"sk-toggleable__content\"><pre>[&#x27;deg-malig&#x27;]</pre></div></div></div><div class=\"sk-serial\"><div class=\"sk-item\"><div class=\"sk-estimator sk-toggleable\"><input class=\"sk-toggleable__control sk-hidden--visually\" id=\"7c9f181f-7a56-411c-bdf7-2cf3a5569d59\" type=\"checkbox\" ><label for=\"7c9f181f-7a56-411c-bdf7-2cf3a5569d59\" class=\"sk-toggleable__label sk-toggleable__label-arrow\">passthrough</label><div class=\"sk-toggleable__content\"><pre>passthrough</pre></div></div></div></div></div></div></div></div><div class=\"sk-item\"><div class=\"sk-estimator sk-toggleable\"><input class=\"sk-toggleable__control sk-hidden--visually\" id=\"458ccecd-7d32-49f3-8f36-4e2202a24159\" type=\"checkbox\" ><label for=\"458ccecd-7d32-49f3-8f36-4e2202a24159\" class=\"sk-toggleable__label sk-toggleable__label-arrow\">RandomForestClassifier</label><div class=\"sk-toggleable__content\"><pre>RandomForestClassifier()</pre></div></div></div></div></div></div></div>"
      ],
      "text/plain": [
       "Pipeline(steps=[('ct',\n",
       "                 ColumnTransformer(remainder='passthrough',\n",
       "                                   transformers=[('OHE',\n",
       "                                                  OneHotEncoder(drop='first'),\n",
       "                                                  ['Class', 'node-caps',\n",
       "                                                   'breast', 'breast-quad']),\n",
       "                                                 ('OE',\n",
       "                                                  OrdinalEncoder(categories=[['lt40',\n",
       "                                                                              'ge40',\n",
       "                                                                              'premeno'],\n",
       "                                                                             ['0-4',\n",
       "                                                                              '5-9',\n",
       "                                                                              '10-14',\n",
       "                                                                              '15-19',\n",
       "                                                                              '20-24',\n",
       "                                                                              '25-29',\n",
       "                                                                              '30-34',\n",
       "                                                                              '35-39',\n",
       "                                                                              '40-44',\n",
       "                                                                              '45-49',\n",
       "                                                                              '50-54'],\n",
       "                                                                             ['0-2',\n",
       "                                                                              '3-5',\n",
       "                                                                              '6-8',\n",
       "                                                                              '9-11',\n",
       "                                                                              '12-14',\n",
       "                                                                              '15-17',\n",
       "                                                                              '24-26'],\n",
       "                                                                             ['20-29',\n",
       "                                                                              '30-39',\n",
       "                                                                              '40-49',\n",
       "                                                                              '50-59',\n",
       "                                                                              '60-69',\n",
       "                                                                              '70-79']]),\n",
       "                                                  [2, 3, 4, 1])])),\n",
       "                ('rfc', RandomForestClassifier())])"
      ]
     },
     "execution_count": 31,
     "metadata": {},
     "output_type": "execute_result"
    }
   ],
   "source": [
    "pp1=PP(\n",
    "[\n",
    "    (\"ct\",ct),\n",
    "    (\"rfc\",RFC())\n",
    "])\n",
    "pp1.fit(xta,yta)\n"
   ]
  },
  {
   "cell_type": "code",
   "execution_count": 32,
   "metadata": {},
   "outputs": [
    {
     "data": {
      "text/html": [
       "<style>#sk-4451307a-3dfc-4bd9-be00-db2bd6962664 {color: black;background-color: white;}#sk-4451307a-3dfc-4bd9-be00-db2bd6962664 pre{padding: 0;}#sk-4451307a-3dfc-4bd9-be00-db2bd6962664 div.sk-toggleable {background-color: white;}#sk-4451307a-3dfc-4bd9-be00-db2bd6962664 label.sk-toggleable__label {cursor: pointer;display: block;width: 100%;margin-bottom: 0;padding: 0.3em;box-sizing: border-box;text-align: center;}#sk-4451307a-3dfc-4bd9-be00-db2bd6962664 label.sk-toggleable__label-arrow:before {content: \"▸\";float: left;margin-right: 0.25em;color: #696969;}#sk-4451307a-3dfc-4bd9-be00-db2bd6962664 label.sk-toggleable__label-arrow:hover:before {color: black;}#sk-4451307a-3dfc-4bd9-be00-db2bd6962664 div.sk-estimator:hover label.sk-toggleable__label-arrow:before {color: black;}#sk-4451307a-3dfc-4bd9-be00-db2bd6962664 div.sk-toggleable__content {max-height: 0;max-width: 0;overflow: hidden;text-align: left;background-color: #f0f8ff;}#sk-4451307a-3dfc-4bd9-be00-db2bd6962664 div.sk-toggleable__content pre {margin: 0.2em;color: black;border-radius: 0.25em;background-color: #f0f8ff;}#sk-4451307a-3dfc-4bd9-be00-db2bd6962664 input.sk-toggleable__control:checked~div.sk-toggleable__content {max-height: 200px;max-width: 100%;overflow: auto;}#sk-4451307a-3dfc-4bd9-be00-db2bd6962664 input.sk-toggleable__control:checked~label.sk-toggleable__label-arrow:before {content: \"▾\";}#sk-4451307a-3dfc-4bd9-be00-db2bd6962664 div.sk-estimator input.sk-toggleable__control:checked~label.sk-toggleable__label {background-color: #d4ebff;}#sk-4451307a-3dfc-4bd9-be00-db2bd6962664 div.sk-label input.sk-toggleable__control:checked~label.sk-toggleable__label {background-color: #d4ebff;}#sk-4451307a-3dfc-4bd9-be00-db2bd6962664 input.sk-hidden--visually {border: 0;clip: rect(1px 1px 1px 1px);clip: rect(1px, 1px, 1px, 1px);height: 1px;margin: -1px;overflow: hidden;padding: 0;position: absolute;width: 1px;}#sk-4451307a-3dfc-4bd9-be00-db2bd6962664 div.sk-estimator {font-family: monospace;background-color: #f0f8ff;border: 1px dotted black;border-radius: 0.25em;box-sizing: border-box;margin-bottom: 0.5em;}#sk-4451307a-3dfc-4bd9-be00-db2bd6962664 div.sk-estimator:hover {background-color: #d4ebff;}#sk-4451307a-3dfc-4bd9-be00-db2bd6962664 div.sk-parallel-item::after {content: \"\";width: 100%;border-bottom: 1px solid gray;flex-grow: 1;}#sk-4451307a-3dfc-4bd9-be00-db2bd6962664 div.sk-label:hover label.sk-toggleable__label {background-color: #d4ebff;}#sk-4451307a-3dfc-4bd9-be00-db2bd6962664 div.sk-serial::before {content: \"\";position: absolute;border-left: 1px solid gray;box-sizing: border-box;top: 2em;bottom: 0;left: 50%;}#sk-4451307a-3dfc-4bd9-be00-db2bd6962664 div.sk-serial {display: flex;flex-direction: column;align-items: center;background-color: white;padding-right: 0.2em;padding-left: 0.2em;}#sk-4451307a-3dfc-4bd9-be00-db2bd6962664 div.sk-item {z-index: 1;}#sk-4451307a-3dfc-4bd9-be00-db2bd6962664 div.sk-parallel {display: flex;align-items: stretch;justify-content: center;background-color: white;}#sk-4451307a-3dfc-4bd9-be00-db2bd6962664 div.sk-parallel::before {content: \"\";position: absolute;border-left: 1px solid gray;box-sizing: border-box;top: 2em;bottom: 0;left: 50%;}#sk-4451307a-3dfc-4bd9-be00-db2bd6962664 div.sk-parallel-item {display: flex;flex-direction: column;position: relative;background-color: white;}#sk-4451307a-3dfc-4bd9-be00-db2bd6962664 div.sk-parallel-item:first-child::after {align-self: flex-end;width: 50%;}#sk-4451307a-3dfc-4bd9-be00-db2bd6962664 div.sk-parallel-item:last-child::after {align-self: flex-start;width: 50%;}#sk-4451307a-3dfc-4bd9-be00-db2bd6962664 div.sk-parallel-item:only-child::after {width: 0;}#sk-4451307a-3dfc-4bd9-be00-db2bd6962664 div.sk-dashed-wrapped {border: 1px dashed gray;margin: 0 0.4em 0.5em 0.4em;box-sizing: border-box;padding-bottom: 0.4em;background-color: white;position: relative;}#sk-4451307a-3dfc-4bd9-be00-db2bd6962664 div.sk-label label {font-family: monospace;font-weight: bold;background-color: white;display: inline-block;line-height: 1.2em;}#sk-4451307a-3dfc-4bd9-be00-db2bd6962664 div.sk-label-container {position: relative;z-index: 2;text-align: center;}#sk-4451307a-3dfc-4bd9-be00-db2bd6962664 div.sk-container {/* jupyter's `normalize.less` sets `[hidden] { display: none; }` but bootstrap.min.css set `[hidden] { display: none !important; }` so we also need the `!important` here to be able to override the default hidden behavior on the sphinx rendered scikit-learn.org. See: https://github.com/scikit-learn/scikit-learn/issues/21755 */display: inline-block !important;position: relative;}#sk-4451307a-3dfc-4bd9-be00-db2bd6962664 div.sk-text-repr-fallback {display: none;}</style><div id=\"sk-4451307a-3dfc-4bd9-be00-db2bd6962664\" class=\"sk-top-container\"><div class=\"sk-text-repr-fallback\"><pre>Pipeline(steps=[(&#x27;ct&#x27;,\n",
       "                 ColumnTransformer(remainder=&#x27;passthrough&#x27;,\n",
       "                                   transformers=[(&#x27;OHE&#x27;,\n",
       "                                                  OneHotEncoder(drop=&#x27;first&#x27;),\n",
       "                                                  [&#x27;Class&#x27;, &#x27;node-caps&#x27;,\n",
       "                                                   &#x27;breast&#x27;, &#x27;breast-quad&#x27;]),\n",
       "                                                 (&#x27;OE&#x27;,\n",
       "                                                  OrdinalEncoder(categories=[[&#x27;lt40&#x27;,\n",
       "                                                                              &#x27;ge40&#x27;,\n",
       "                                                                              &#x27;premeno&#x27;],\n",
       "                                                                             [&#x27;0-4&#x27;,\n",
       "                                                                              &#x27;5-9&#x27;,\n",
       "                                                                              &#x27;10-14&#x27;,\n",
       "                                                                              &#x27;15-19&#x27;,\n",
       "                                                                              &#x27;20-24&#x27;,\n",
       "                                                                              &#x27;25-29&#x27;,\n",
       "                                                                              &#x27;30-34&#x27;,\n",
       "                                                                              &#x27;35-39&#x27;,\n",
       "                                                                              &#x27;40-44&#x27;,\n",
       "                                                                              &#x27;45-49&#x27;,\n",
       "                                                                              &#x27;50-54&#x27;],\n",
       "                                                                             [&#x27;0-2&#x27;,\n",
       "                                                                              &#x27;3-5&#x27;,\n",
       "                                                                              &#x27;6-8&#x27;,\n",
       "                                                                              &#x27;9-11&#x27;,\n",
       "                                                                              &#x27;12-14&#x27;,\n",
       "                                                                              &#x27;15-17&#x27;,\n",
       "                                                                              &#x27;24-26&#x27;],\n",
       "                                                                             [&#x27;20-29&#x27;,\n",
       "                                                                              &#x27;30-39&#x27;,\n",
       "                                                                              &#x27;40-49&#x27;,\n",
       "                                                                              &#x27;50-59&#x27;,\n",
       "                                                                              &#x27;60-69&#x27;,\n",
       "                                                                              &#x27;70-79&#x27;]]),\n",
       "                                                  [2, 3, 4, 1])])),\n",
       "                (&#x27;SS&#x27;, StandardScaler()), (&#x27;knn&#x27;, KNeighborsClassifier())])</pre><b>Please rerun this cell to show the HTML repr or trust the notebook.</b></div><div class=\"sk-container\" hidden><div class=\"sk-item sk-dashed-wrapped\"><div class=\"sk-label-container\"><div class=\"sk-label sk-toggleable\"><input class=\"sk-toggleable__control sk-hidden--visually\" id=\"4daf6e02-d6f5-48d3-b029-47a3f9a98812\" type=\"checkbox\" ><label for=\"4daf6e02-d6f5-48d3-b029-47a3f9a98812\" class=\"sk-toggleable__label sk-toggleable__label-arrow\">Pipeline</label><div class=\"sk-toggleable__content\"><pre>Pipeline(steps=[(&#x27;ct&#x27;,\n",
       "                 ColumnTransformer(remainder=&#x27;passthrough&#x27;,\n",
       "                                   transformers=[(&#x27;OHE&#x27;,\n",
       "                                                  OneHotEncoder(drop=&#x27;first&#x27;),\n",
       "                                                  [&#x27;Class&#x27;, &#x27;node-caps&#x27;,\n",
       "                                                   &#x27;breast&#x27;, &#x27;breast-quad&#x27;]),\n",
       "                                                 (&#x27;OE&#x27;,\n",
       "                                                  OrdinalEncoder(categories=[[&#x27;lt40&#x27;,\n",
       "                                                                              &#x27;ge40&#x27;,\n",
       "                                                                              &#x27;premeno&#x27;],\n",
       "                                                                             [&#x27;0-4&#x27;,\n",
       "                                                                              &#x27;5-9&#x27;,\n",
       "                                                                              &#x27;10-14&#x27;,\n",
       "                                                                              &#x27;15-19&#x27;,\n",
       "                                                                              &#x27;20-24&#x27;,\n",
       "                                                                              &#x27;25-29&#x27;,\n",
       "                                                                              &#x27;30-34&#x27;,\n",
       "                                                                              &#x27;35-39&#x27;,\n",
       "                                                                              &#x27;40-44&#x27;,\n",
       "                                                                              &#x27;45-49&#x27;,\n",
       "                                                                              &#x27;50-54&#x27;],\n",
       "                                                                             [&#x27;0-2&#x27;,\n",
       "                                                                              &#x27;3-5&#x27;,\n",
       "                                                                              &#x27;6-8&#x27;,\n",
       "                                                                              &#x27;9-11&#x27;,\n",
       "                                                                              &#x27;12-14&#x27;,\n",
       "                                                                              &#x27;15-17&#x27;,\n",
       "                                                                              &#x27;24-26&#x27;],\n",
       "                                                                             [&#x27;20-29&#x27;,\n",
       "                                                                              &#x27;30-39&#x27;,\n",
       "                                                                              &#x27;40-49&#x27;,\n",
       "                                                                              &#x27;50-59&#x27;,\n",
       "                                                                              &#x27;60-69&#x27;,\n",
       "                                                                              &#x27;70-79&#x27;]]),\n",
       "                                                  [2, 3, 4, 1])])),\n",
       "                (&#x27;SS&#x27;, StandardScaler()), (&#x27;knn&#x27;, KNeighborsClassifier())])</pre></div></div></div><div class=\"sk-serial\"><div class=\"sk-item sk-dashed-wrapped\"><div class=\"sk-label-container\"><div class=\"sk-label sk-toggleable\"><input class=\"sk-toggleable__control sk-hidden--visually\" id=\"8c084a88-5fa7-4032-a334-bbfa5d905af3\" type=\"checkbox\" ><label for=\"8c084a88-5fa7-4032-a334-bbfa5d905af3\" class=\"sk-toggleable__label sk-toggleable__label-arrow\">ct: ColumnTransformer</label><div class=\"sk-toggleable__content\"><pre>ColumnTransformer(remainder=&#x27;passthrough&#x27;,\n",
       "                  transformers=[(&#x27;OHE&#x27;, OneHotEncoder(drop=&#x27;first&#x27;),\n",
       "                                 [&#x27;Class&#x27;, &#x27;node-caps&#x27;, &#x27;breast&#x27;,\n",
       "                                  &#x27;breast-quad&#x27;]),\n",
       "                                (&#x27;OE&#x27;,\n",
       "                                 OrdinalEncoder(categories=[[&#x27;lt40&#x27;, &#x27;ge40&#x27;,\n",
       "                                                             &#x27;premeno&#x27;],\n",
       "                                                            [&#x27;0-4&#x27;, &#x27;5-9&#x27;,\n",
       "                                                             &#x27;10-14&#x27;, &#x27;15-19&#x27;,\n",
       "                                                             &#x27;20-24&#x27;, &#x27;25-29&#x27;,\n",
       "                                                             &#x27;30-34&#x27;, &#x27;35-39&#x27;,\n",
       "                                                             &#x27;40-44&#x27;, &#x27;45-49&#x27;,\n",
       "                                                             &#x27;50-54&#x27;],\n",
       "                                                            [&#x27;0-2&#x27;, &#x27;3-5&#x27;,\n",
       "                                                             &#x27;6-8&#x27;, &#x27;9-11&#x27;,\n",
       "                                                             &#x27;12-14&#x27;, &#x27;15-17&#x27;,\n",
       "                                                             &#x27;24-26&#x27;],\n",
       "                                                            [&#x27;20-29&#x27;, &#x27;30-39&#x27;,\n",
       "                                                             &#x27;40-49&#x27;, &#x27;50-59&#x27;,\n",
       "                                                             &#x27;60-69&#x27;,\n",
       "                                                             &#x27;70-79&#x27;]]),\n",
       "                                 [2, 3, 4, 1])])</pre></div></div></div><div class=\"sk-parallel\"><div class=\"sk-parallel-item\"><div class=\"sk-item\"><div class=\"sk-label-container\"><div class=\"sk-label sk-toggleable\"><input class=\"sk-toggleable__control sk-hidden--visually\" id=\"d88d5851-3dd4-4768-9117-c065f191a16d\" type=\"checkbox\" ><label for=\"d88d5851-3dd4-4768-9117-c065f191a16d\" class=\"sk-toggleable__label sk-toggleable__label-arrow\">OHE</label><div class=\"sk-toggleable__content\"><pre>[&#x27;Class&#x27;, &#x27;node-caps&#x27;, &#x27;breast&#x27;, &#x27;breast-quad&#x27;]</pre></div></div></div><div class=\"sk-serial\"><div class=\"sk-item\"><div class=\"sk-estimator sk-toggleable\"><input class=\"sk-toggleable__control sk-hidden--visually\" id=\"d545bd7e-4259-4ae9-ad90-4433134915d5\" type=\"checkbox\" ><label for=\"d545bd7e-4259-4ae9-ad90-4433134915d5\" class=\"sk-toggleable__label sk-toggleable__label-arrow\">OneHotEncoder</label><div class=\"sk-toggleable__content\"><pre>OneHotEncoder(drop=&#x27;first&#x27;)</pre></div></div></div></div></div></div><div class=\"sk-parallel-item\"><div class=\"sk-item\"><div class=\"sk-label-container\"><div class=\"sk-label sk-toggleable\"><input class=\"sk-toggleable__control sk-hidden--visually\" id=\"2e12140d-96d1-4fdb-bff5-f806d6c400ba\" type=\"checkbox\" ><label for=\"2e12140d-96d1-4fdb-bff5-f806d6c400ba\" class=\"sk-toggleable__label sk-toggleable__label-arrow\">OE</label><div class=\"sk-toggleable__content\"><pre>[2, 3, 4, 1]</pre></div></div></div><div class=\"sk-serial\"><div class=\"sk-item\"><div class=\"sk-estimator sk-toggleable\"><input class=\"sk-toggleable__control sk-hidden--visually\" id=\"b23a2be9-366c-4b53-85b0-e94ede36e80a\" type=\"checkbox\" ><label for=\"b23a2be9-366c-4b53-85b0-e94ede36e80a\" class=\"sk-toggleable__label sk-toggleable__label-arrow\">OrdinalEncoder</label><div class=\"sk-toggleable__content\"><pre>OrdinalEncoder(categories=[[&#x27;lt40&#x27;, &#x27;ge40&#x27;, &#x27;premeno&#x27;],\n",
       "                           [&#x27;0-4&#x27;, &#x27;5-9&#x27;, &#x27;10-14&#x27;, &#x27;15-19&#x27;, &#x27;20-24&#x27;, &#x27;25-29&#x27;,\n",
       "                            &#x27;30-34&#x27;, &#x27;35-39&#x27;, &#x27;40-44&#x27;, &#x27;45-49&#x27;, &#x27;50-54&#x27;],\n",
       "                           [&#x27;0-2&#x27;, &#x27;3-5&#x27;, &#x27;6-8&#x27;, &#x27;9-11&#x27;, &#x27;12-14&#x27;, &#x27;15-17&#x27;,\n",
       "                            &#x27;24-26&#x27;],\n",
       "                           [&#x27;20-29&#x27;, &#x27;30-39&#x27;, &#x27;40-49&#x27;, &#x27;50-59&#x27;, &#x27;60-69&#x27;,\n",
       "                            &#x27;70-79&#x27;]])</pre></div></div></div></div></div></div><div class=\"sk-parallel-item\"><div class=\"sk-item\"><div class=\"sk-label-container\"><div class=\"sk-label sk-toggleable\"><input class=\"sk-toggleable__control sk-hidden--visually\" id=\"f7caed22-06bc-49c7-87a1-c0191963fa96\" type=\"checkbox\" ><label for=\"f7caed22-06bc-49c7-87a1-c0191963fa96\" class=\"sk-toggleable__label sk-toggleable__label-arrow\">remainder</label><div class=\"sk-toggleable__content\"><pre>[&#x27;deg-malig&#x27;]</pre></div></div></div><div class=\"sk-serial\"><div class=\"sk-item\"><div class=\"sk-estimator sk-toggleable\"><input class=\"sk-toggleable__control sk-hidden--visually\" id=\"d8a7cc9a-bf3d-4f57-aab2-d6843c455a85\" type=\"checkbox\" ><label for=\"d8a7cc9a-bf3d-4f57-aab2-d6843c455a85\" class=\"sk-toggleable__label sk-toggleable__label-arrow\">passthrough</label><div class=\"sk-toggleable__content\"><pre>passthrough</pre></div></div></div></div></div></div></div></div><div class=\"sk-item\"><div class=\"sk-estimator sk-toggleable\"><input class=\"sk-toggleable__control sk-hidden--visually\" id=\"ba1d2696-bdfd-41c0-9618-254664bb8b71\" type=\"checkbox\" ><label for=\"ba1d2696-bdfd-41c0-9618-254664bb8b71\" class=\"sk-toggleable__label sk-toggleable__label-arrow\">StandardScaler</label><div class=\"sk-toggleable__content\"><pre>StandardScaler()</pre></div></div></div><div class=\"sk-item\"><div class=\"sk-estimator sk-toggleable\"><input class=\"sk-toggleable__control sk-hidden--visually\" id=\"53a06d55-1606-42a1-98cb-c2bb32a5f80e\" type=\"checkbox\" ><label for=\"53a06d55-1606-42a1-98cb-c2bb32a5f80e\" class=\"sk-toggleable__label sk-toggleable__label-arrow\">KNeighborsClassifier</label><div class=\"sk-toggleable__content\"><pre>KNeighborsClassifier()</pre></div></div></div></div></div></div></div>"
      ],
      "text/plain": [
       "Pipeline(steps=[('ct',\n",
       "                 ColumnTransformer(remainder='passthrough',\n",
       "                                   transformers=[('OHE',\n",
       "                                                  OneHotEncoder(drop='first'),\n",
       "                                                  ['Class', 'node-caps',\n",
       "                                                   'breast', 'breast-quad']),\n",
       "                                                 ('OE',\n",
       "                                                  OrdinalEncoder(categories=[['lt40',\n",
       "                                                                              'ge40',\n",
       "                                                                              'premeno'],\n",
       "                                                                             ['0-4',\n",
       "                                                                              '5-9',\n",
       "                                                                              '10-14',\n",
       "                                                                              '15-19',\n",
       "                                                                              '20-24',\n",
       "                                                                              '25-29',\n",
       "                                                                              '30-34',\n",
       "                                                                              '35-39',\n",
       "                                                                              '40-44',\n",
       "                                                                              '45-49',\n",
       "                                                                              '50-54'],\n",
       "                                                                             ['0-2',\n",
       "                                                                              '3-5',\n",
       "                                                                              '6-8',\n",
       "                                                                              '9-11',\n",
       "                                                                              '12-14',\n",
       "                                                                              '15-17',\n",
       "                                                                              '24-26'],\n",
       "                                                                             ['20-29',\n",
       "                                                                              '30-39',\n",
       "                                                                              '40-49',\n",
       "                                                                              '50-59',\n",
       "                                                                              '60-69',\n",
       "                                                                              '70-79']]),\n",
       "                                                  [2, 3, 4, 1])])),\n",
       "                ('SS', StandardScaler()), ('knn', KNeighborsClassifier())])"
      ]
     },
     "execution_count": 32,
     "metadata": {},
     "output_type": "execute_result"
    }
   ],
   "source": [
    "pp2=PP(\n",
    "[\n",
    "    (\"ct\",ct),\n",
    "    (\"SS\",SS()),\n",
    "    (\"knn\",KNN())\n",
    "])\n",
    "pp2.fit(xta,yta)\n"
   ]
  },
  {
   "cell_type": "code",
   "execution_count": 33,
   "metadata": {},
   "outputs": [
    {
     "data": {
      "text/html": [
       "<style>#sk-8e98ad10-9834-48f3-82e0-02fcd40e8c7e {color: black;background-color: white;}#sk-8e98ad10-9834-48f3-82e0-02fcd40e8c7e pre{padding: 0;}#sk-8e98ad10-9834-48f3-82e0-02fcd40e8c7e div.sk-toggleable {background-color: white;}#sk-8e98ad10-9834-48f3-82e0-02fcd40e8c7e label.sk-toggleable__label {cursor: pointer;display: block;width: 100%;margin-bottom: 0;padding: 0.3em;box-sizing: border-box;text-align: center;}#sk-8e98ad10-9834-48f3-82e0-02fcd40e8c7e label.sk-toggleable__label-arrow:before {content: \"▸\";float: left;margin-right: 0.25em;color: #696969;}#sk-8e98ad10-9834-48f3-82e0-02fcd40e8c7e label.sk-toggleable__label-arrow:hover:before {color: black;}#sk-8e98ad10-9834-48f3-82e0-02fcd40e8c7e div.sk-estimator:hover label.sk-toggleable__label-arrow:before {color: black;}#sk-8e98ad10-9834-48f3-82e0-02fcd40e8c7e div.sk-toggleable__content {max-height: 0;max-width: 0;overflow: hidden;text-align: left;background-color: #f0f8ff;}#sk-8e98ad10-9834-48f3-82e0-02fcd40e8c7e div.sk-toggleable__content pre {margin: 0.2em;color: black;border-radius: 0.25em;background-color: #f0f8ff;}#sk-8e98ad10-9834-48f3-82e0-02fcd40e8c7e input.sk-toggleable__control:checked~div.sk-toggleable__content {max-height: 200px;max-width: 100%;overflow: auto;}#sk-8e98ad10-9834-48f3-82e0-02fcd40e8c7e input.sk-toggleable__control:checked~label.sk-toggleable__label-arrow:before {content: \"▾\";}#sk-8e98ad10-9834-48f3-82e0-02fcd40e8c7e div.sk-estimator input.sk-toggleable__control:checked~label.sk-toggleable__label {background-color: #d4ebff;}#sk-8e98ad10-9834-48f3-82e0-02fcd40e8c7e div.sk-label input.sk-toggleable__control:checked~label.sk-toggleable__label {background-color: #d4ebff;}#sk-8e98ad10-9834-48f3-82e0-02fcd40e8c7e input.sk-hidden--visually {border: 0;clip: rect(1px 1px 1px 1px);clip: rect(1px, 1px, 1px, 1px);height: 1px;margin: -1px;overflow: hidden;padding: 0;position: absolute;width: 1px;}#sk-8e98ad10-9834-48f3-82e0-02fcd40e8c7e div.sk-estimator {font-family: monospace;background-color: #f0f8ff;border: 1px dotted black;border-radius: 0.25em;box-sizing: border-box;margin-bottom: 0.5em;}#sk-8e98ad10-9834-48f3-82e0-02fcd40e8c7e div.sk-estimator:hover {background-color: #d4ebff;}#sk-8e98ad10-9834-48f3-82e0-02fcd40e8c7e div.sk-parallel-item::after {content: \"\";width: 100%;border-bottom: 1px solid gray;flex-grow: 1;}#sk-8e98ad10-9834-48f3-82e0-02fcd40e8c7e div.sk-label:hover label.sk-toggleable__label {background-color: #d4ebff;}#sk-8e98ad10-9834-48f3-82e0-02fcd40e8c7e div.sk-serial::before {content: \"\";position: absolute;border-left: 1px solid gray;box-sizing: border-box;top: 2em;bottom: 0;left: 50%;}#sk-8e98ad10-9834-48f3-82e0-02fcd40e8c7e div.sk-serial {display: flex;flex-direction: column;align-items: center;background-color: white;padding-right: 0.2em;padding-left: 0.2em;}#sk-8e98ad10-9834-48f3-82e0-02fcd40e8c7e div.sk-item {z-index: 1;}#sk-8e98ad10-9834-48f3-82e0-02fcd40e8c7e div.sk-parallel {display: flex;align-items: stretch;justify-content: center;background-color: white;}#sk-8e98ad10-9834-48f3-82e0-02fcd40e8c7e div.sk-parallel::before {content: \"\";position: absolute;border-left: 1px solid gray;box-sizing: border-box;top: 2em;bottom: 0;left: 50%;}#sk-8e98ad10-9834-48f3-82e0-02fcd40e8c7e div.sk-parallel-item {display: flex;flex-direction: column;position: relative;background-color: white;}#sk-8e98ad10-9834-48f3-82e0-02fcd40e8c7e div.sk-parallel-item:first-child::after {align-self: flex-end;width: 50%;}#sk-8e98ad10-9834-48f3-82e0-02fcd40e8c7e div.sk-parallel-item:last-child::after {align-self: flex-start;width: 50%;}#sk-8e98ad10-9834-48f3-82e0-02fcd40e8c7e div.sk-parallel-item:only-child::after {width: 0;}#sk-8e98ad10-9834-48f3-82e0-02fcd40e8c7e div.sk-dashed-wrapped {border: 1px dashed gray;margin: 0 0.4em 0.5em 0.4em;box-sizing: border-box;padding-bottom: 0.4em;background-color: white;position: relative;}#sk-8e98ad10-9834-48f3-82e0-02fcd40e8c7e div.sk-label label {font-family: monospace;font-weight: bold;background-color: white;display: inline-block;line-height: 1.2em;}#sk-8e98ad10-9834-48f3-82e0-02fcd40e8c7e div.sk-label-container {position: relative;z-index: 2;text-align: center;}#sk-8e98ad10-9834-48f3-82e0-02fcd40e8c7e div.sk-container {/* jupyter's `normalize.less` sets `[hidden] { display: none; }` but bootstrap.min.css set `[hidden] { display: none !important; }` so we also need the `!important` here to be able to override the default hidden behavior on the sphinx rendered scikit-learn.org. See: https://github.com/scikit-learn/scikit-learn/issues/21755 */display: inline-block !important;position: relative;}#sk-8e98ad10-9834-48f3-82e0-02fcd40e8c7e div.sk-text-repr-fallback {display: none;}</style><div id=\"sk-8e98ad10-9834-48f3-82e0-02fcd40e8c7e\" class=\"sk-top-container\"><div class=\"sk-text-repr-fallback\"><pre>Pipeline(steps=[(&#x27;ct&#x27;,\n",
       "                 ColumnTransformer(remainder=&#x27;passthrough&#x27;,\n",
       "                                   transformers=[(&#x27;OHE&#x27;,\n",
       "                                                  OneHotEncoder(drop=&#x27;first&#x27;),\n",
       "                                                  [&#x27;Class&#x27;, &#x27;node-caps&#x27;,\n",
       "                                                   &#x27;breast&#x27;, &#x27;breast-quad&#x27;]),\n",
       "                                                 (&#x27;OE&#x27;,\n",
       "                                                  OrdinalEncoder(categories=[[&#x27;lt40&#x27;,\n",
       "                                                                              &#x27;ge40&#x27;,\n",
       "                                                                              &#x27;premeno&#x27;],\n",
       "                                                                             [&#x27;0-4&#x27;,\n",
       "                                                                              &#x27;5-9&#x27;,\n",
       "                                                                              &#x27;10-14&#x27;,\n",
       "                                                                              &#x27;15-19&#x27;,\n",
       "                                                                              &#x27;20-24&#x27;,\n",
       "                                                                              &#x27;25-29&#x27;,\n",
       "                                                                              &#x27;30-34&#x27;,\n",
       "                                                                              &#x27;35-39&#x27;,\n",
       "                                                                              &#x27;40-44&#x27;,\n",
       "                                                                              &#x27;45-49&#x27;,\n",
       "                                                                              &#x27;50-54&#x27;],\n",
       "                                                                             [&#x27;0-2&#x27;,\n",
       "                                                                              &#x27;3-5&#x27;,\n",
       "                                                                              &#x27;6-8&#x27;,\n",
       "                                                                              &#x27;9-11&#x27;,\n",
       "                                                                              &#x27;12-14&#x27;,\n",
       "                                                                              &#x27;15-17&#x27;,\n",
       "                                                                              &#x27;24-26&#x27;],\n",
       "                                                                             [&#x27;20-29&#x27;,\n",
       "                                                                              &#x27;30-39&#x27;,\n",
       "                                                                              &#x27;40-49&#x27;,\n",
       "                                                                              &#x27;50-59&#x27;,\n",
       "                                                                              &#x27;60-69&#x27;,\n",
       "                                                                              &#x27;70-79&#x27;]]),\n",
       "                                                  [2, 3, 4, 1])])),\n",
       "                (&#x27;GNB&#x27;, GaussianNB())])</pre><b>Please rerun this cell to show the HTML repr or trust the notebook.</b></div><div class=\"sk-container\" hidden><div class=\"sk-item sk-dashed-wrapped\"><div class=\"sk-label-container\"><div class=\"sk-label sk-toggleable\"><input class=\"sk-toggleable__control sk-hidden--visually\" id=\"4ba5d21d-f2de-468f-b3f2-50adc845ac4f\" type=\"checkbox\" ><label for=\"4ba5d21d-f2de-468f-b3f2-50adc845ac4f\" class=\"sk-toggleable__label sk-toggleable__label-arrow\">Pipeline</label><div class=\"sk-toggleable__content\"><pre>Pipeline(steps=[(&#x27;ct&#x27;,\n",
       "                 ColumnTransformer(remainder=&#x27;passthrough&#x27;,\n",
       "                                   transformers=[(&#x27;OHE&#x27;,\n",
       "                                                  OneHotEncoder(drop=&#x27;first&#x27;),\n",
       "                                                  [&#x27;Class&#x27;, &#x27;node-caps&#x27;,\n",
       "                                                   &#x27;breast&#x27;, &#x27;breast-quad&#x27;]),\n",
       "                                                 (&#x27;OE&#x27;,\n",
       "                                                  OrdinalEncoder(categories=[[&#x27;lt40&#x27;,\n",
       "                                                                              &#x27;ge40&#x27;,\n",
       "                                                                              &#x27;premeno&#x27;],\n",
       "                                                                             [&#x27;0-4&#x27;,\n",
       "                                                                              &#x27;5-9&#x27;,\n",
       "                                                                              &#x27;10-14&#x27;,\n",
       "                                                                              &#x27;15-19&#x27;,\n",
       "                                                                              &#x27;20-24&#x27;,\n",
       "                                                                              &#x27;25-29&#x27;,\n",
       "                                                                              &#x27;30-34&#x27;,\n",
       "                                                                              &#x27;35-39&#x27;,\n",
       "                                                                              &#x27;40-44&#x27;,\n",
       "                                                                              &#x27;45-49&#x27;,\n",
       "                                                                              &#x27;50-54&#x27;],\n",
       "                                                                             [&#x27;0-2&#x27;,\n",
       "                                                                              &#x27;3-5&#x27;,\n",
       "                                                                              &#x27;6-8&#x27;,\n",
       "                                                                              &#x27;9-11&#x27;,\n",
       "                                                                              &#x27;12-14&#x27;,\n",
       "                                                                              &#x27;15-17&#x27;,\n",
       "                                                                              &#x27;24-26&#x27;],\n",
       "                                                                             [&#x27;20-29&#x27;,\n",
       "                                                                              &#x27;30-39&#x27;,\n",
       "                                                                              &#x27;40-49&#x27;,\n",
       "                                                                              &#x27;50-59&#x27;,\n",
       "                                                                              &#x27;60-69&#x27;,\n",
       "                                                                              &#x27;70-79&#x27;]]),\n",
       "                                                  [2, 3, 4, 1])])),\n",
       "                (&#x27;GNB&#x27;, GaussianNB())])</pre></div></div></div><div class=\"sk-serial\"><div class=\"sk-item sk-dashed-wrapped\"><div class=\"sk-label-container\"><div class=\"sk-label sk-toggleable\"><input class=\"sk-toggleable__control sk-hidden--visually\" id=\"f0c18503-e770-4d11-85ea-19a3ee165725\" type=\"checkbox\" ><label for=\"f0c18503-e770-4d11-85ea-19a3ee165725\" class=\"sk-toggleable__label sk-toggleable__label-arrow\">ct: ColumnTransformer</label><div class=\"sk-toggleable__content\"><pre>ColumnTransformer(remainder=&#x27;passthrough&#x27;,\n",
       "                  transformers=[(&#x27;OHE&#x27;, OneHotEncoder(drop=&#x27;first&#x27;),\n",
       "                                 [&#x27;Class&#x27;, &#x27;node-caps&#x27;, &#x27;breast&#x27;,\n",
       "                                  &#x27;breast-quad&#x27;]),\n",
       "                                (&#x27;OE&#x27;,\n",
       "                                 OrdinalEncoder(categories=[[&#x27;lt40&#x27;, &#x27;ge40&#x27;,\n",
       "                                                             &#x27;premeno&#x27;],\n",
       "                                                            [&#x27;0-4&#x27;, &#x27;5-9&#x27;,\n",
       "                                                             &#x27;10-14&#x27;, &#x27;15-19&#x27;,\n",
       "                                                             &#x27;20-24&#x27;, &#x27;25-29&#x27;,\n",
       "                                                             &#x27;30-34&#x27;, &#x27;35-39&#x27;,\n",
       "                                                             &#x27;40-44&#x27;, &#x27;45-49&#x27;,\n",
       "                                                             &#x27;50-54&#x27;],\n",
       "                                                            [&#x27;0-2&#x27;, &#x27;3-5&#x27;,\n",
       "                                                             &#x27;6-8&#x27;, &#x27;9-11&#x27;,\n",
       "                                                             &#x27;12-14&#x27;, &#x27;15-17&#x27;,\n",
       "                                                             &#x27;24-26&#x27;],\n",
       "                                                            [&#x27;20-29&#x27;, &#x27;30-39&#x27;,\n",
       "                                                             &#x27;40-49&#x27;, &#x27;50-59&#x27;,\n",
       "                                                             &#x27;60-69&#x27;,\n",
       "                                                             &#x27;70-79&#x27;]]),\n",
       "                                 [2, 3, 4, 1])])</pre></div></div></div><div class=\"sk-parallel\"><div class=\"sk-parallel-item\"><div class=\"sk-item\"><div class=\"sk-label-container\"><div class=\"sk-label sk-toggleable\"><input class=\"sk-toggleable__control sk-hidden--visually\" id=\"0df29dfe-d672-41ea-863d-be7bbcc91aab\" type=\"checkbox\" ><label for=\"0df29dfe-d672-41ea-863d-be7bbcc91aab\" class=\"sk-toggleable__label sk-toggleable__label-arrow\">OHE</label><div class=\"sk-toggleable__content\"><pre>[&#x27;Class&#x27;, &#x27;node-caps&#x27;, &#x27;breast&#x27;, &#x27;breast-quad&#x27;]</pre></div></div></div><div class=\"sk-serial\"><div class=\"sk-item\"><div class=\"sk-estimator sk-toggleable\"><input class=\"sk-toggleable__control sk-hidden--visually\" id=\"64fb73ee-1a00-4e79-af64-2af4431dd19a\" type=\"checkbox\" ><label for=\"64fb73ee-1a00-4e79-af64-2af4431dd19a\" class=\"sk-toggleable__label sk-toggleable__label-arrow\">OneHotEncoder</label><div class=\"sk-toggleable__content\"><pre>OneHotEncoder(drop=&#x27;first&#x27;)</pre></div></div></div></div></div></div><div class=\"sk-parallel-item\"><div class=\"sk-item\"><div class=\"sk-label-container\"><div class=\"sk-label sk-toggleable\"><input class=\"sk-toggleable__control sk-hidden--visually\" id=\"fee95d06-22a4-4379-a4e0-c9320dd4338d\" type=\"checkbox\" ><label for=\"fee95d06-22a4-4379-a4e0-c9320dd4338d\" class=\"sk-toggleable__label sk-toggleable__label-arrow\">OE</label><div class=\"sk-toggleable__content\"><pre>[2, 3, 4, 1]</pre></div></div></div><div class=\"sk-serial\"><div class=\"sk-item\"><div class=\"sk-estimator sk-toggleable\"><input class=\"sk-toggleable__control sk-hidden--visually\" id=\"22958e39-4eaa-4b62-8b2c-fa14a27a5cd6\" type=\"checkbox\" ><label for=\"22958e39-4eaa-4b62-8b2c-fa14a27a5cd6\" class=\"sk-toggleable__label sk-toggleable__label-arrow\">OrdinalEncoder</label><div class=\"sk-toggleable__content\"><pre>OrdinalEncoder(categories=[[&#x27;lt40&#x27;, &#x27;ge40&#x27;, &#x27;premeno&#x27;],\n",
       "                           [&#x27;0-4&#x27;, &#x27;5-9&#x27;, &#x27;10-14&#x27;, &#x27;15-19&#x27;, &#x27;20-24&#x27;, &#x27;25-29&#x27;,\n",
       "                            &#x27;30-34&#x27;, &#x27;35-39&#x27;, &#x27;40-44&#x27;, &#x27;45-49&#x27;, &#x27;50-54&#x27;],\n",
       "                           [&#x27;0-2&#x27;, &#x27;3-5&#x27;, &#x27;6-8&#x27;, &#x27;9-11&#x27;, &#x27;12-14&#x27;, &#x27;15-17&#x27;,\n",
       "                            &#x27;24-26&#x27;],\n",
       "                           [&#x27;20-29&#x27;, &#x27;30-39&#x27;, &#x27;40-49&#x27;, &#x27;50-59&#x27;, &#x27;60-69&#x27;,\n",
       "                            &#x27;70-79&#x27;]])</pre></div></div></div></div></div></div><div class=\"sk-parallel-item\"><div class=\"sk-item\"><div class=\"sk-label-container\"><div class=\"sk-label sk-toggleable\"><input class=\"sk-toggleable__control sk-hidden--visually\" id=\"7ccf245d-a85c-487a-896a-0c040b37fbca\" type=\"checkbox\" ><label for=\"7ccf245d-a85c-487a-896a-0c040b37fbca\" class=\"sk-toggleable__label sk-toggleable__label-arrow\">remainder</label><div class=\"sk-toggleable__content\"><pre>[&#x27;deg-malig&#x27;]</pre></div></div></div><div class=\"sk-serial\"><div class=\"sk-item\"><div class=\"sk-estimator sk-toggleable\"><input class=\"sk-toggleable__control sk-hidden--visually\" id=\"9f8b0c01-dc97-43b0-812b-ff4f36f8cc79\" type=\"checkbox\" ><label for=\"9f8b0c01-dc97-43b0-812b-ff4f36f8cc79\" class=\"sk-toggleable__label sk-toggleable__label-arrow\">passthrough</label><div class=\"sk-toggleable__content\"><pre>passthrough</pre></div></div></div></div></div></div></div></div><div class=\"sk-item\"><div class=\"sk-estimator sk-toggleable\"><input class=\"sk-toggleable__control sk-hidden--visually\" id=\"2be86681-0d8a-4b0f-91c4-3af1eee77fa3\" type=\"checkbox\" ><label for=\"2be86681-0d8a-4b0f-91c4-3af1eee77fa3\" class=\"sk-toggleable__label sk-toggleable__label-arrow\">GaussianNB</label><div class=\"sk-toggleable__content\"><pre>GaussianNB()</pre></div></div></div></div></div></div></div>"
      ],
      "text/plain": [
       "Pipeline(steps=[('ct',\n",
       "                 ColumnTransformer(remainder='passthrough',\n",
       "                                   transformers=[('OHE',\n",
       "                                                  OneHotEncoder(drop='first'),\n",
       "                                                  ['Class', 'node-caps',\n",
       "                                                   'breast', 'breast-quad']),\n",
       "                                                 ('OE',\n",
       "                                                  OrdinalEncoder(categories=[['lt40',\n",
       "                                                                              'ge40',\n",
       "                                                                              'premeno'],\n",
       "                                                                             ['0-4',\n",
       "                                                                              '5-9',\n",
       "                                                                              '10-14',\n",
       "                                                                              '15-19',\n",
       "                                                                              '20-24',\n",
       "                                                                              '25-29',\n",
       "                                                                              '30-34',\n",
       "                                                                              '35-39',\n",
       "                                                                              '40-44',\n",
       "                                                                              '45-49',\n",
       "                                                                              '50-54'],\n",
       "                                                                             ['0-2',\n",
       "                                                                              '3-5',\n",
       "                                                                              '6-8',\n",
       "                                                                              '9-11',\n",
       "                                                                              '12-14',\n",
       "                                                                              '15-17',\n",
       "                                                                              '24-26'],\n",
       "                                                                             ['20-29',\n",
       "                                                                              '30-39',\n",
       "                                                                              '40-49',\n",
       "                                                                              '50-59',\n",
       "                                                                              '60-69',\n",
       "                                                                              '70-79']]),\n",
       "                                                  [2, 3, 4, 1])])),\n",
       "                ('GNB', GaussianNB())])"
      ]
     },
     "execution_count": 33,
     "metadata": {},
     "output_type": "execute_result"
    }
   ],
   "source": [
    "pp3=PP(\n",
    "[\n",
    "    (\"ct\",ct),\n",
    "    (\"GNB\",GNB())\n",
    "])\n",
    "pp3.fit(xta,yta)\n"
   ]
  },
  {
   "cell_type": "code",
   "execution_count": 34,
   "metadata": {},
   "outputs": [
    {
     "data": {
      "text/html": [
       "<style>#sk-9a1878e8-3c9f-4d8f-ad22-6b8832ceafb1 {color: black;background-color: white;}#sk-9a1878e8-3c9f-4d8f-ad22-6b8832ceafb1 pre{padding: 0;}#sk-9a1878e8-3c9f-4d8f-ad22-6b8832ceafb1 div.sk-toggleable {background-color: white;}#sk-9a1878e8-3c9f-4d8f-ad22-6b8832ceafb1 label.sk-toggleable__label {cursor: pointer;display: block;width: 100%;margin-bottom: 0;padding: 0.3em;box-sizing: border-box;text-align: center;}#sk-9a1878e8-3c9f-4d8f-ad22-6b8832ceafb1 label.sk-toggleable__label-arrow:before {content: \"▸\";float: left;margin-right: 0.25em;color: #696969;}#sk-9a1878e8-3c9f-4d8f-ad22-6b8832ceafb1 label.sk-toggleable__label-arrow:hover:before {color: black;}#sk-9a1878e8-3c9f-4d8f-ad22-6b8832ceafb1 div.sk-estimator:hover label.sk-toggleable__label-arrow:before {color: black;}#sk-9a1878e8-3c9f-4d8f-ad22-6b8832ceafb1 div.sk-toggleable__content {max-height: 0;max-width: 0;overflow: hidden;text-align: left;background-color: #f0f8ff;}#sk-9a1878e8-3c9f-4d8f-ad22-6b8832ceafb1 div.sk-toggleable__content pre {margin: 0.2em;color: black;border-radius: 0.25em;background-color: #f0f8ff;}#sk-9a1878e8-3c9f-4d8f-ad22-6b8832ceafb1 input.sk-toggleable__control:checked~div.sk-toggleable__content {max-height: 200px;max-width: 100%;overflow: auto;}#sk-9a1878e8-3c9f-4d8f-ad22-6b8832ceafb1 input.sk-toggleable__control:checked~label.sk-toggleable__label-arrow:before {content: \"▾\";}#sk-9a1878e8-3c9f-4d8f-ad22-6b8832ceafb1 div.sk-estimator input.sk-toggleable__control:checked~label.sk-toggleable__label {background-color: #d4ebff;}#sk-9a1878e8-3c9f-4d8f-ad22-6b8832ceafb1 div.sk-label input.sk-toggleable__control:checked~label.sk-toggleable__label {background-color: #d4ebff;}#sk-9a1878e8-3c9f-4d8f-ad22-6b8832ceafb1 input.sk-hidden--visually {border: 0;clip: rect(1px 1px 1px 1px);clip: rect(1px, 1px, 1px, 1px);height: 1px;margin: -1px;overflow: hidden;padding: 0;position: absolute;width: 1px;}#sk-9a1878e8-3c9f-4d8f-ad22-6b8832ceafb1 div.sk-estimator {font-family: monospace;background-color: #f0f8ff;border: 1px dotted black;border-radius: 0.25em;box-sizing: border-box;margin-bottom: 0.5em;}#sk-9a1878e8-3c9f-4d8f-ad22-6b8832ceafb1 div.sk-estimator:hover {background-color: #d4ebff;}#sk-9a1878e8-3c9f-4d8f-ad22-6b8832ceafb1 div.sk-parallel-item::after {content: \"\";width: 100%;border-bottom: 1px solid gray;flex-grow: 1;}#sk-9a1878e8-3c9f-4d8f-ad22-6b8832ceafb1 div.sk-label:hover label.sk-toggleable__label {background-color: #d4ebff;}#sk-9a1878e8-3c9f-4d8f-ad22-6b8832ceafb1 div.sk-serial::before {content: \"\";position: absolute;border-left: 1px solid gray;box-sizing: border-box;top: 2em;bottom: 0;left: 50%;}#sk-9a1878e8-3c9f-4d8f-ad22-6b8832ceafb1 div.sk-serial {display: flex;flex-direction: column;align-items: center;background-color: white;padding-right: 0.2em;padding-left: 0.2em;}#sk-9a1878e8-3c9f-4d8f-ad22-6b8832ceafb1 div.sk-item {z-index: 1;}#sk-9a1878e8-3c9f-4d8f-ad22-6b8832ceafb1 div.sk-parallel {display: flex;align-items: stretch;justify-content: center;background-color: white;}#sk-9a1878e8-3c9f-4d8f-ad22-6b8832ceafb1 div.sk-parallel::before {content: \"\";position: absolute;border-left: 1px solid gray;box-sizing: border-box;top: 2em;bottom: 0;left: 50%;}#sk-9a1878e8-3c9f-4d8f-ad22-6b8832ceafb1 div.sk-parallel-item {display: flex;flex-direction: column;position: relative;background-color: white;}#sk-9a1878e8-3c9f-4d8f-ad22-6b8832ceafb1 div.sk-parallel-item:first-child::after {align-self: flex-end;width: 50%;}#sk-9a1878e8-3c9f-4d8f-ad22-6b8832ceafb1 div.sk-parallel-item:last-child::after {align-self: flex-start;width: 50%;}#sk-9a1878e8-3c9f-4d8f-ad22-6b8832ceafb1 div.sk-parallel-item:only-child::after {width: 0;}#sk-9a1878e8-3c9f-4d8f-ad22-6b8832ceafb1 div.sk-dashed-wrapped {border: 1px dashed gray;margin: 0 0.4em 0.5em 0.4em;box-sizing: border-box;padding-bottom: 0.4em;background-color: white;position: relative;}#sk-9a1878e8-3c9f-4d8f-ad22-6b8832ceafb1 div.sk-label label {font-family: monospace;font-weight: bold;background-color: white;display: inline-block;line-height: 1.2em;}#sk-9a1878e8-3c9f-4d8f-ad22-6b8832ceafb1 div.sk-label-container {position: relative;z-index: 2;text-align: center;}#sk-9a1878e8-3c9f-4d8f-ad22-6b8832ceafb1 div.sk-container {/* jupyter's `normalize.less` sets `[hidden] { display: none; }` but bootstrap.min.css set `[hidden] { display: none !important; }` so we also need the `!important` here to be able to override the default hidden behavior on the sphinx rendered scikit-learn.org. See: https://github.com/scikit-learn/scikit-learn/issues/21755 */display: inline-block !important;position: relative;}#sk-9a1878e8-3c9f-4d8f-ad22-6b8832ceafb1 div.sk-text-repr-fallback {display: none;}</style><div id=\"sk-9a1878e8-3c9f-4d8f-ad22-6b8832ceafb1\" class=\"sk-top-container\"><div class=\"sk-text-repr-fallback\"><pre>Pipeline(steps=[(&#x27;ct&#x27;,\n",
       "                 ColumnTransformer(remainder=&#x27;passthrough&#x27;,\n",
       "                                   transformers=[(&#x27;OHE&#x27;,\n",
       "                                                  OneHotEncoder(drop=&#x27;first&#x27;),\n",
       "                                                  [&#x27;Class&#x27;, &#x27;node-caps&#x27;,\n",
       "                                                   &#x27;breast&#x27;, &#x27;breast-quad&#x27;]),\n",
       "                                                 (&#x27;OE&#x27;,\n",
       "                                                  OrdinalEncoder(categories=[[&#x27;lt40&#x27;,\n",
       "                                                                              &#x27;ge40&#x27;,\n",
       "                                                                              &#x27;premeno&#x27;],\n",
       "                                                                             [&#x27;0-4&#x27;,\n",
       "                                                                              &#x27;5-9&#x27;,\n",
       "                                                                              &#x27;10-14&#x27;,\n",
       "                                                                              &#x27;15-19&#x27;,\n",
       "                                                                              &#x27;20-24&#x27;,\n",
       "                                                                              &#x27;25-29&#x27;,\n",
       "                                                                              &#x27;30-34&#x27;,\n",
       "                                                                              &#x27;35-39&#x27;,\n",
       "                                                                              &#x27;40-44&#x27;,\n",
       "                                                                              &#x27;45-49&#x27;,\n",
       "                                                                              &#x27;50-54&#x27;],\n",
       "                                                                             [&#x27;0-2&#x27;,\n",
       "                                                                              &#x27;3-5&#x27;,\n",
       "                                                                              &#x27;6-8&#x27;,\n",
       "                                                                              &#x27;9-11&#x27;,\n",
       "                                                                              &#x27;12-14&#x27;,\n",
       "                                                                              &#x27;15-17&#x27;,\n",
       "                                                                              &#x27;24-26&#x27;],\n",
       "                                                                             [&#x27;20-29&#x27;,\n",
       "                                                                              &#x27;30-39&#x27;,\n",
       "                                                                              &#x27;40-49&#x27;,\n",
       "                                                                              &#x27;50-59&#x27;,\n",
       "                                                                              &#x27;60-69&#x27;,\n",
       "                                                                              &#x27;70-79&#x27;]]),\n",
       "                                                  [2, 3, 4, 1])])),\n",
       "                (&#x27;DT&#x27;, DecisionTreeClassifier())])</pre><b>Please rerun this cell to show the HTML repr or trust the notebook.</b></div><div class=\"sk-container\" hidden><div class=\"sk-item sk-dashed-wrapped\"><div class=\"sk-label-container\"><div class=\"sk-label sk-toggleable\"><input class=\"sk-toggleable__control sk-hidden--visually\" id=\"817dea0b-ddf0-497a-ad3e-cd374ef5c368\" type=\"checkbox\" ><label for=\"817dea0b-ddf0-497a-ad3e-cd374ef5c368\" class=\"sk-toggleable__label sk-toggleable__label-arrow\">Pipeline</label><div class=\"sk-toggleable__content\"><pre>Pipeline(steps=[(&#x27;ct&#x27;,\n",
       "                 ColumnTransformer(remainder=&#x27;passthrough&#x27;,\n",
       "                                   transformers=[(&#x27;OHE&#x27;,\n",
       "                                                  OneHotEncoder(drop=&#x27;first&#x27;),\n",
       "                                                  [&#x27;Class&#x27;, &#x27;node-caps&#x27;,\n",
       "                                                   &#x27;breast&#x27;, &#x27;breast-quad&#x27;]),\n",
       "                                                 (&#x27;OE&#x27;,\n",
       "                                                  OrdinalEncoder(categories=[[&#x27;lt40&#x27;,\n",
       "                                                                              &#x27;ge40&#x27;,\n",
       "                                                                              &#x27;premeno&#x27;],\n",
       "                                                                             [&#x27;0-4&#x27;,\n",
       "                                                                              &#x27;5-9&#x27;,\n",
       "                                                                              &#x27;10-14&#x27;,\n",
       "                                                                              &#x27;15-19&#x27;,\n",
       "                                                                              &#x27;20-24&#x27;,\n",
       "                                                                              &#x27;25-29&#x27;,\n",
       "                                                                              &#x27;30-34&#x27;,\n",
       "                                                                              &#x27;35-39&#x27;,\n",
       "                                                                              &#x27;40-44&#x27;,\n",
       "                                                                              &#x27;45-49&#x27;,\n",
       "                                                                              &#x27;50-54&#x27;],\n",
       "                                                                             [&#x27;0-2&#x27;,\n",
       "                                                                              &#x27;3-5&#x27;,\n",
       "                                                                              &#x27;6-8&#x27;,\n",
       "                                                                              &#x27;9-11&#x27;,\n",
       "                                                                              &#x27;12-14&#x27;,\n",
       "                                                                              &#x27;15-17&#x27;,\n",
       "                                                                              &#x27;24-26&#x27;],\n",
       "                                                                             [&#x27;20-29&#x27;,\n",
       "                                                                              &#x27;30-39&#x27;,\n",
       "                                                                              &#x27;40-49&#x27;,\n",
       "                                                                              &#x27;50-59&#x27;,\n",
       "                                                                              &#x27;60-69&#x27;,\n",
       "                                                                              &#x27;70-79&#x27;]]),\n",
       "                                                  [2, 3, 4, 1])])),\n",
       "                (&#x27;DT&#x27;, DecisionTreeClassifier())])</pre></div></div></div><div class=\"sk-serial\"><div class=\"sk-item sk-dashed-wrapped\"><div class=\"sk-label-container\"><div class=\"sk-label sk-toggleable\"><input class=\"sk-toggleable__control sk-hidden--visually\" id=\"46d7162f-55e3-4cf1-9c12-c179600455fb\" type=\"checkbox\" ><label for=\"46d7162f-55e3-4cf1-9c12-c179600455fb\" class=\"sk-toggleable__label sk-toggleable__label-arrow\">ct: ColumnTransformer</label><div class=\"sk-toggleable__content\"><pre>ColumnTransformer(remainder=&#x27;passthrough&#x27;,\n",
       "                  transformers=[(&#x27;OHE&#x27;, OneHotEncoder(drop=&#x27;first&#x27;),\n",
       "                                 [&#x27;Class&#x27;, &#x27;node-caps&#x27;, &#x27;breast&#x27;,\n",
       "                                  &#x27;breast-quad&#x27;]),\n",
       "                                (&#x27;OE&#x27;,\n",
       "                                 OrdinalEncoder(categories=[[&#x27;lt40&#x27;, &#x27;ge40&#x27;,\n",
       "                                                             &#x27;premeno&#x27;],\n",
       "                                                            [&#x27;0-4&#x27;, &#x27;5-9&#x27;,\n",
       "                                                             &#x27;10-14&#x27;, &#x27;15-19&#x27;,\n",
       "                                                             &#x27;20-24&#x27;, &#x27;25-29&#x27;,\n",
       "                                                             &#x27;30-34&#x27;, &#x27;35-39&#x27;,\n",
       "                                                             &#x27;40-44&#x27;, &#x27;45-49&#x27;,\n",
       "                                                             &#x27;50-54&#x27;],\n",
       "                                                            [&#x27;0-2&#x27;, &#x27;3-5&#x27;,\n",
       "                                                             &#x27;6-8&#x27;, &#x27;9-11&#x27;,\n",
       "                                                             &#x27;12-14&#x27;, &#x27;15-17&#x27;,\n",
       "                                                             &#x27;24-26&#x27;],\n",
       "                                                            [&#x27;20-29&#x27;, &#x27;30-39&#x27;,\n",
       "                                                             &#x27;40-49&#x27;, &#x27;50-59&#x27;,\n",
       "                                                             &#x27;60-69&#x27;,\n",
       "                                                             &#x27;70-79&#x27;]]),\n",
       "                                 [2, 3, 4, 1])])</pre></div></div></div><div class=\"sk-parallel\"><div class=\"sk-parallel-item\"><div class=\"sk-item\"><div class=\"sk-label-container\"><div class=\"sk-label sk-toggleable\"><input class=\"sk-toggleable__control sk-hidden--visually\" id=\"40f10849-cc2c-4fc1-b4bb-04b7429f9681\" type=\"checkbox\" ><label for=\"40f10849-cc2c-4fc1-b4bb-04b7429f9681\" class=\"sk-toggleable__label sk-toggleable__label-arrow\">OHE</label><div class=\"sk-toggleable__content\"><pre>[&#x27;Class&#x27;, &#x27;node-caps&#x27;, &#x27;breast&#x27;, &#x27;breast-quad&#x27;]</pre></div></div></div><div class=\"sk-serial\"><div class=\"sk-item\"><div class=\"sk-estimator sk-toggleable\"><input class=\"sk-toggleable__control sk-hidden--visually\" id=\"33db9ee3-5b9d-4425-b873-9fb2da41e163\" type=\"checkbox\" ><label for=\"33db9ee3-5b9d-4425-b873-9fb2da41e163\" class=\"sk-toggleable__label sk-toggleable__label-arrow\">OneHotEncoder</label><div class=\"sk-toggleable__content\"><pre>OneHotEncoder(drop=&#x27;first&#x27;)</pre></div></div></div></div></div></div><div class=\"sk-parallel-item\"><div class=\"sk-item\"><div class=\"sk-label-container\"><div class=\"sk-label sk-toggleable\"><input class=\"sk-toggleable__control sk-hidden--visually\" id=\"43e83904-67a5-4fe3-a7ef-ba277aca7c94\" type=\"checkbox\" ><label for=\"43e83904-67a5-4fe3-a7ef-ba277aca7c94\" class=\"sk-toggleable__label sk-toggleable__label-arrow\">OE</label><div class=\"sk-toggleable__content\"><pre>[2, 3, 4, 1]</pre></div></div></div><div class=\"sk-serial\"><div class=\"sk-item\"><div class=\"sk-estimator sk-toggleable\"><input class=\"sk-toggleable__control sk-hidden--visually\" id=\"de077b0c-a342-41bb-b950-d95c60750058\" type=\"checkbox\" ><label for=\"de077b0c-a342-41bb-b950-d95c60750058\" class=\"sk-toggleable__label sk-toggleable__label-arrow\">OrdinalEncoder</label><div class=\"sk-toggleable__content\"><pre>OrdinalEncoder(categories=[[&#x27;lt40&#x27;, &#x27;ge40&#x27;, &#x27;premeno&#x27;],\n",
       "                           [&#x27;0-4&#x27;, &#x27;5-9&#x27;, &#x27;10-14&#x27;, &#x27;15-19&#x27;, &#x27;20-24&#x27;, &#x27;25-29&#x27;,\n",
       "                            &#x27;30-34&#x27;, &#x27;35-39&#x27;, &#x27;40-44&#x27;, &#x27;45-49&#x27;, &#x27;50-54&#x27;],\n",
       "                           [&#x27;0-2&#x27;, &#x27;3-5&#x27;, &#x27;6-8&#x27;, &#x27;9-11&#x27;, &#x27;12-14&#x27;, &#x27;15-17&#x27;,\n",
       "                            &#x27;24-26&#x27;],\n",
       "                           [&#x27;20-29&#x27;, &#x27;30-39&#x27;, &#x27;40-49&#x27;, &#x27;50-59&#x27;, &#x27;60-69&#x27;,\n",
       "                            &#x27;70-79&#x27;]])</pre></div></div></div></div></div></div><div class=\"sk-parallel-item\"><div class=\"sk-item\"><div class=\"sk-label-container\"><div class=\"sk-label sk-toggleable\"><input class=\"sk-toggleable__control sk-hidden--visually\" id=\"879a6af8-38c0-4694-b8df-a3b9558ee077\" type=\"checkbox\" ><label for=\"879a6af8-38c0-4694-b8df-a3b9558ee077\" class=\"sk-toggleable__label sk-toggleable__label-arrow\">remainder</label><div class=\"sk-toggleable__content\"><pre>[&#x27;deg-malig&#x27;]</pre></div></div></div><div class=\"sk-serial\"><div class=\"sk-item\"><div class=\"sk-estimator sk-toggleable\"><input class=\"sk-toggleable__control sk-hidden--visually\" id=\"70997235-9f52-410c-90fc-9f41d40dc2c6\" type=\"checkbox\" ><label for=\"70997235-9f52-410c-90fc-9f41d40dc2c6\" class=\"sk-toggleable__label sk-toggleable__label-arrow\">passthrough</label><div class=\"sk-toggleable__content\"><pre>passthrough</pre></div></div></div></div></div></div></div></div><div class=\"sk-item\"><div class=\"sk-estimator sk-toggleable\"><input class=\"sk-toggleable__control sk-hidden--visually\" id=\"9faa75fb-57cd-4941-b789-1c4693738f6b\" type=\"checkbox\" ><label for=\"9faa75fb-57cd-4941-b789-1c4693738f6b\" class=\"sk-toggleable__label sk-toggleable__label-arrow\">DecisionTreeClassifier</label><div class=\"sk-toggleable__content\"><pre>DecisionTreeClassifier()</pre></div></div></div></div></div></div></div>"
      ],
      "text/plain": [
       "Pipeline(steps=[('ct',\n",
       "                 ColumnTransformer(remainder='passthrough',\n",
       "                                   transformers=[('OHE',\n",
       "                                                  OneHotEncoder(drop='first'),\n",
       "                                                  ['Class', 'node-caps',\n",
       "                                                   'breast', 'breast-quad']),\n",
       "                                                 ('OE',\n",
       "                                                  OrdinalEncoder(categories=[['lt40',\n",
       "                                                                              'ge40',\n",
       "                                                                              'premeno'],\n",
       "                                                                             ['0-4',\n",
       "                                                                              '5-9',\n",
       "                                                                              '10-14',\n",
       "                                                                              '15-19',\n",
       "                                                                              '20-24',\n",
       "                                                                              '25-29',\n",
       "                                                                              '30-34',\n",
       "                                                                              '35-39',\n",
       "                                                                              '40-44',\n",
       "                                                                              '45-49',\n",
       "                                                                              '50-54'],\n",
       "                                                                             ['0-2',\n",
       "                                                                              '3-5',\n",
       "                                                                              '6-8',\n",
       "                                                                              '9-11',\n",
       "                                                                              '12-14',\n",
       "                                                                              '15-17',\n",
       "                                                                              '24-26'],\n",
       "                                                                             ['20-29',\n",
       "                                                                              '30-39',\n",
       "                                                                              '40-49',\n",
       "                                                                              '50-59',\n",
       "                                                                              '60-69',\n",
       "                                                                              '70-79']]),\n",
       "                                                  [2, 3, 4, 1])])),\n",
       "                ('DT', DecisionTreeClassifier())])"
      ]
     },
     "execution_count": 34,
     "metadata": {},
     "output_type": "execute_result"
    }
   ],
   "source": [
    "pp4=PP(\n",
    "[\n",
    "    (\"ct\",ct),\n",
    "    (\"DT\",DTC())\n",
    "])\n",
    "pp4.fit(xta,yta)\n"
   ]
  },
  {
   "cell_type": "code",
   "execution_count": 35,
   "metadata": {},
   "outputs": [
    {
     "data": {
      "text/html": [
       "<style>#sk-fffed379-5806-42cf-95e3-1d57bd54c696 {color: black;background-color: white;}#sk-fffed379-5806-42cf-95e3-1d57bd54c696 pre{padding: 0;}#sk-fffed379-5806-42cf-95e3-1d57bd54c696 div.sk-toggleable {background-color: white;}#sk-fffed379-5806-42cf-95e3-1d57bd54c696 label.sk-toggleable__label {cursor: pointer;display: block;width: 100%;margin-bottom: 0;padding: 0.3em;box-sizing: border-box;text-align: center;}#sk-fffed379-5806-42cf-95e3-1d57bd54c696 label.sk-toggleable__label-arrow:before {content: \"▸\";float: left;margin-right: 0.25em;color: #696969;}#sk-fffed379-5806-42cf-95e3-1d57bd54c696 label.sk-toggleable__label-arrow:hover:before {color: black;}#sk-fffed379-5806-42cf-95e3-1d57bd54c696 div.sk-estimator:hover label.sk-toggleable__label-arrow:before {color: black;}#sk-fffed379-5806-42cf-95e3-1d57bd54c696 div.sk-toggleable__content {max-height: 0;max-width: 0;overflow: hidden;text-align: left;background-color: #f0f8ff;}#sk-fffed379-5806-42cf-95e3-1d57bd54c696 div.sk-toggleable__content pre {margin: 0.2em;color: black;border-radius: 0.25em;background-color: #f0f8ff;}#sk-fffed379-5806-42cf-95e3-1d57bd54c696 input.sk-toggleable__control:checked~div.sk-toggleable__content {max-height: 200px;max-width: 100%;overflow: auto;}#sk-fffed379-5806-42cf-95e3-1d57bd54c696 input.sk-toggleable__control:checked~label.sk-toggleable__label-arrow:before {content: \"▾\";}#sk-fffed379-5806-42cf-95e3-1d57bd54c696 div.sk-estimator input.sk-toggleable__control:checked~label.sk-toggleable__label {background-color: #d4ebff;}#sk-fffed379-5806-42cf-95e3-1d57bd54c696 div.sk-label input.sk-toggleable__control:checked~label.sk-toggleable__label {background-color: #d4ebff;}#sk-fffed379-5806-42cf-95e3-1d57bd54c696 input.sk-hidden--visually {border: 0;clip: rect(1px 1px 1px 1px);clip: rect(1px, 1px, 1px, 1px);height: 1px;margin: -1px;overflow: hidden;padding: 0;position: absolute;width: 1px;}#sk-fffed379-5806-42cf-95e3-1d57bd54c696 div.sk-estimator {font-family: monospace;background-color: #f0f8ff;border: 1px dotted black;border-radius: 0.25em;box-sizing: border-box;margin-bottom: 0.5em;}#sk-fffed379-5806-42cf-95e3-1d57bd54c696 div.sk-estimator:hover {background-color: #d4ebff;}#sk-fffed379-5806-42cf-95e3-1d57bd54c696 div.sk-parallel-item::after {content: \"\";width: 100%;border-bottom: 1px solid gray;flex-grow: 1;}#sk-fffed379-5806-42cf-95e3-1d57bd54c696 div.sk-label:hover label.sk-toggleable__label {background-color: #d4ebff;}#sk-fffed379-5806-42cf-95e3-1d57bd54c696 div.sk-serial::before {content: \"\";position: absolute;border-left: 1px solid gray;box-sizing: border-box;top: 2em;bottom: 0;left: 50%;}#sk-fffed379-5806-42cf-95e3-1d57bd54c696 div.sk-serial {display: flex;flex-direction: column;align-items: center;background-color: white;padding-right: 0.2em;padding-left: 0.2em;}#sk-fffed379-5806-42cf-95e3-1d57bd54c696 div.sk-item {z-index: 1;}#sk-fffed379-5806-42cf-95e3-1d57bd54c696 div.sk-parallel {display: flex;align-items: stretch;justify-content: center;background-color: white;}#sk-fffed379-5806-42cf-95e3-1d57bd54c696 div.sk-parallel::before {content: \"\";position: absolute;border-left: 1px solid gray;box-sizing: border-box;top: 2em;bottom: 0;left: 50%;}#sk-fffed379-5806-42cf-95e3-1d57bd54c696 div.sk-parallel-item {display: flex;flex-direction: column;position: relative;background-color: white;}#sk-fffed379-5806-42cf-95e3-1d57bd54c696 div.sk-parallel-item:first-child::after {align-self: flex-end;width: 50%;}#sk-fffed379-5806-42cf-95e3-1d57bd54c696 div.sk-parallel-item:last-child::after {align-self: flex-start;width: 50%;}#sk-fffed379-5806-42cf-95e3-1d57bd54c696 div.sk-parallel-item:only-child::after {width: 0;}#sk-fffed379-5806-42cf-95e3-1d57bd54c696 div.sk-dashed-wrapped {border: 1px dashed gray;margin: 0 0.4em 0.5em 0.4em;box-sizing: border-box;padding-bottom: 0.4em;background-color: white;position: relative;}#sk-fffed379-5806-42cf-95e3-1d57bd54c696 div.sk-label label {font-family: monospace;font-weight: bold;background-color: white;display: inline-block;line-height: 1.2em;}#sk-fffed379-5806-42cf-95e3-1d57bd54c696 div.sk-label-container {position: relative;z-index: 2;text-align: center;}#sk-fffed379-5806-42cf-95e3-1d57bd54c696 div.sk-container {/* jupyter's `normalize.less` sets `[hidden] { display: none; }` but bootstrap.min.css set `[hidden] { display: none !important; }` so we also need the `!important` here to be able to override the default hidden behavior on the sphinx rendered scikit-learn.org. See: https://github.com/scikit-learn/scikit-learn/issues/21755 */display: inline-block !important;position: relative;}#sk-fffed379-5806-42cf-95e3-1d57bd54c696 div.sk-text-repr-fallback {display: none;}</style><div id=\"sk-fffed379-5806-42cf-95e3-1d57bd54c696\" class=\"sk-top-container\"><div class=\"sk-text-repr-fallback\"><pre>Pipeline(steps=[(&#x27;ct&#x27;,\n",
       "                 ColumnTransformer(remainder=&#x27;passthrough&#x27;,\n",
       "                                   transformers=[(&#x27;OHE&#x27;,\n",
       "                                                  OneHotEncoder(drop=&#x27;first&#x27;),\n",
       "                                                  [&#x27;Class&#x27;, &#x27;node-caps&#x27;,\n",
       "                                                   &#x27;breast&#x27;, &#x27;breast-quad&#x27;]),\n",
       "                                                 (&#x27;OE&#x27;,\n",
       "                                                  OrdinalEncoder(categories=[[&#x27;lt40&#x27;,\n",
       "                                                                              &#x27;ge40&#x27;,\n",
       "                                                                              &#x27;premeno&#x27;],\n",
       "                                                                             [&#x27;0-4&#x27;,\n",
       "                                                                              &#x27;5-9&#x27;,\n",
       "                                                                              &#x27;10-14&#x27;,\n",
       "                                                                              &#x27;15-19&#x27;,\n",
       "                                                                              &#x27;20-24&#x27;,\n",
       "                                                                              &#x27;25-29&#x27;,\n",
       "                                                                              &#x27;30-34&#x27;,\n",
       "                                                                              &#x27;35-39&#x27;,\n",
       "                                                                              &#x27;40-44&#x27;,\n",
       "                                                                              &#x27;45-49&#x27;,\n",
       "                                                                              &#x27;50-54&#x27;],\n",
       "                                                                             [&#x27;0-2&#x27;,\n",
       "                                                                              &#x27;3-5&#x27;,\n",
       "                                                                              &#x27;6-8&#x27;,\n",
       "                                                                              &#x27;9-11&#x27;,\n",
       "                                                                              &#x27;12-14&#x27;,\n",
       "                                                                              &#x27;15-17&#x27;,\n",
       "                                                                              &#x27;24-26&#x27;],\n",
       "                                                                             [&#x27;20-29&#x27;,\n",
       "                                                                              &#x27;30-39&#x27;,\n",
       "                                                                              &#x27;40-49&#x27;,\n",
       "                                                                              &#x27;50-59&#x27;,\n",
       "                                                                              &#x27;60-69&#x27;,\n",
       "                                                                              &#x27;70-79&#x27;]]),\n",
       "                                                  [2, 3, 4, 1])])),\n",
       "                (&#x27;LO&#x27;, LogisticRegression())])</pre><b>Please rerun this cell to show the HTML repr or trust the notebook.</b></div><div class=\"sk-container\" hidden><div class=\"sk-item sk-dashed-wrapped\"><div class=\"sk-label-container\"><div class=\"sk-label sk-toggleable\"><input class=\"sk-toggleable__control sk-hidden--visually\" id=\"c24b2799-1e7b-403a-8070-7e83e0d97918\" type=\"checkbox\" ><label for=\"c24b2799-1e7b-403a-8070-7e83e0d97918\" class=\"sk-toggleable__label sk-toggleable__label-arrow\">Pipeline</label><div class=\"sk-toggleable__content\"><pre>Pipeline(steps=[(&#x27;ct&#x27;,\n",
       "                 ColumnTransformer(remainder=&#x27;passthrough&#x27;,\n",
       "                                   transformers=[(&#x27;OHE&#x27;,\n",
       "                                                  OneHotEncoder(drop=&#x27;first&#x27;),\n",
       "                                                  [&#x27;Class&#x27;, &#x27;node-caps&#x27;,\n",
       "                                                   &#x27;breast&#x27;, &#x27;breast-quad&#x27;]),\n",
       "                                                 (&#x27;OE&#x27;,\n",
       "                                                  OrdinalEncoder(categories=[[&#x27;lt40&#x27;,\n",
       "                                                                              &#x27;ge40&#x27;,\n",
       "                                                                              &#x27;premeno&#x27;],\n",
       "                                                                             [&#x27;0-4&#x27;,\n",
       "                                                                              &#x27;5-9&#x27;,\n",
       "                                                                              &#x27;10-14&#x27;,\n",
       "                                                                              &#x27;15-19&#x27;,\n",
       "                                                                              &#x27;20-24&#x27;,\n",
       "                                                                              &#x27;25-29&#x27;,\n",
       "                                                                              &#x27;30-34&#x27;,\n",
       "                                                                              &#x27;35-39&#x27;,\n",
       "                                                                              &#x27;40-44&#x27;,\n",
       "                                                                              &#x27;45-49&#x27;,\n",
       "                                                                              &#x27;50-54&#x27;],\n",
       "                                                                             [&#x27;0-2&#x27;,\n",
       "                                                                              &#x27;3-5&#x27;,\n",
       "                                                                              &#x27;6-8&#x27;,\n",
       "                                                                              &#x27;9-11&#x27;,\n",
       "                                                                              &#x27;12-14&#x27;,\n",
       "                                                                              &#x27;15-17&#x27;,\n",
       "                                                                              &#x27;24-26&#x27;],\n",
       "                                                                             [&#x27;20-29&#x27;,\n",
       "                                                                              &#x27;30-39&#x27;,\n",
       "                                                                              &#x27;40-49&#x27;,\n",
       "                                                                              &#x27;50-59&#x27;,\n",
       "                                                                              &#x27;60-69&#x27;,\n",
       "                                                                              &#x27;70-79&#x27;]]),\n",
       "                                                  [2, 3, 4, 1])])),\n",
       "                (&#x27;LO&#x27;, LogisticRegression())])</pre></div></div></div><div class=\"sk-serial\"><div class=\"sk-item sk-dashed-wrapped\"><div class=\"sk-label-container\"><div class=\"sk-label sk-toggleable\"><input class=\"sk-toggleable__control sk-hidden--visually\" id=\"b318cdcc-46f8-4380-9043-63fbb17f4b81\" type=\"checkbox\" ><label for=\"b318cdcc-46f8-4380-9043-63fbb17f4b81\" class=\"sk-toggleable__label sk-toggleable__label-arrow\">ct: ColumnTransformer</label><div class=\"sk-toggleable__content\"><pre>ColumnTransformer(remainder=&#x27;passthrough&#x27;,\n",
       "                  transformers=[(&#x27;OHE&#x27;, OneHotEncoder(drop=&#x27;first&#x27;),\n",
       "                                 [&#x27;Class&#x27;, &#x27;node-caps&#x27;, &#x27;breast&#x27;,\n",
       "                                  &#x27;breast-quad&#x27;]),\n",
       "                                (&#x27;OE&#x27;,\n",
       "                                 OrdinalEncoder(categories=[[&#x27;lt40&#x27;, &#x27;ge40&#x27;,\n",
       "                                                             &#x27;premeno&#x27;],\n",
       "                                                            [&#x27;0-4&#x27;, &#x27;5-9&#x27;,\n",
       "                                                             &#x27;10-14&#x27;, &#x27;15-19&#x27;,\n",
       "                                                             &#x27;20-24&#x27;, &#x27;25-29&#x27;,\n",
       "                                                             &#x27;30-34&#x27;, &#x27;35-39&#x27;,\n",
       "                                                             &#x27;40-44&#x27;, &#x27;45-49&#x27;,\n",
       "                                                             &#x27;50-54&#x27;],\n",
       "                                                            [&#x27;0-2&#x27;, &#x27;3-5&#x27;,\n",
       "                                                             &#x27;6-8&#x27;, &#x27;9-11&#x27;,\n",
       "                                                             &#x27;12-14&#x27;, &#x27;15-17&#x27;,\n",
       "                                                             &#x27;24-26&#x27;],\n",
       "                                                            [&#x27;20-29&#x27;, &#x27;30-39&#x27;,\n",
       "                                                             &#x27;40-49&#x27;, &#x27;50-59&#x27;,\n",
       "                                                             &#x27;60-69&#x27;,\n",
       "                                                             &#x27;70-79&#x27;]]),\n",
       "                                 [2, 3, 4, 1])])</pre></div></div></div><div class=\"sk-parallel\"><div class=\"sk-parallel-item\"><div class=\"sk-item\"><div class=\"sk-label-container\"><div class=\"sk-label sk-toggleable\"><input class=\"sk-toggleable__control sk-hidden--visually\" id=\"eb89909c-35a2-4548-bf2c-421eed6aa737\" type=\"checkbox\" ><label for=\"eb89909c-35a2-4548-bf2c-421eed6aa737\" class=\"sk-toggleable__label sk-toggleable__label-arrow\">OHE</label><div class=\"sk-toggleable__content\"><pre>[&#x27;Class&#x27;, &#x27;node-caps&#x27;, &#x27;breast&#x27;, &#x27;breast-quad&#x27;]</pre></div></div></div><div class=\"sk-serial\"><div class=\"sk-item\"><div class=\"sk-estimator sk-toggleable\"><input class=\"sk-toggleable__control sk-hidden--visually\" id=\"5f80b5ea-3634-4204-8923-fa4b099d5e94\" type=\"checkbox\" ><label for=\"5f80b5ea-3634-4204-8923-fa4b099d5e94\" class=\"sk-toggleable__label sk-toggleable__label-arrow\">OneHotEncoder</label><div class=\"sk-toggleable__content\"><pre>OneHotEncoder(drop=&#x27;first&#x27;)</pre></div></div></div></div></div></div><div class=\"sk-parallel-item\"><div class=\"sk-item\"><div class=\"sk-label-container\"><div class=\"sk-label sk-toggleable\"><input class=\"sk-toggleable__control sk-hidden--visually\" id=\"c6e6d786-2425-423c-b0a9-7d155eb3f5d6\" type=\"checkbox\" ><label for=\"c6e6d786-2425-423c-b0a9-7d155eb3f5d6\" class=\"sk-toggleable__label sk-toggleable__label-arrow\">OE</label><div class=\"sk-toggleable__content\"><pre>[2, 3, 4, 1]</pre></div></div></div><div class=\"sk-serial\"><div class=\"sk-item\"><div class=\"sk-estimator sk-toggleable\"><input class=\"sk-toggleable__control sk-hidden--visually\" id=\"e6b4b444-2c56-40bf-b2dd-aeef7e729e6c\" type=\"checkbox\" ><label for=\"e6b4b444-2c56-40bf-b2dd-aeef7e729e6c\" class=\"sk-toggleable__label sk-toggleable__label-arrow\">OrdinalEncoder</label><div class=\"sk-toggleable__content\"><pre>OrdinalEncoder(categories=[[&#x27;lt40&#x27;, &#x27;ge40&#x27;, &#x27;premeno&#x27;],\n",
       "                           [&#x27;0-4&#x27;, &#x27;5-9&#x27;, &#x27;10-14&#x27;, &#x27;15-19&#x27;, &#x27;20-24&#x27;, &#x27;25-29&#x27;,\n",
       "                            &#x27;30-34&#x27;, &#x27;35-39&#x27;, &#x27;40-44&#x27;, &#x27;45-49&#x27;, &#x27;50-54&#x27;],\n",
       "                           [&#x27;0-2&#x27;, &#x27;3-5&#x27;, &#x27;6-8&#x27;, &#x27;9-11&#x27;, &#x27;12-14&#x27;, &#x27;15-17&#x27;,\n",
       "                            &#x27;24-26&#x27;],\n",
       "                           [&#x27;20-29&#x27;, &#x27;30-39&#x27;, &#x27;40-49&#x27;, &#x27;50-59&#x27;, &#x27;60-69&#x27;,\n",
       "                            &#x27;70-79&#x27;]])</pre></div></div></div></div></div></div><div class=\"sk-parallel-item\"><div class=\"sk-item\"><div class=\"sk-label-container\"><div class=\"sk-label sk-toggleable\"><input class=\"sk-toggleable__control sk-hidden--visually\" id=\"1e0e84b6-c60b-4448-b18b-778ebbd7119a\" type=\"checkbox\" ><label for=\"1e0e84b6-c60b-4448-b18b-778ebbd7119a\" class=\"sk-toggleable__label sk-toggleable__label-arrow\">remainder</label><div class=\"sk-toggleable__content\"><pre>[&#x27;deg-malig&#x27;]</pre></div></div></div><div class=\"sk-serial\"><div class=\"sk-item\"><div class=\"sk-estimator sk-toggleable\"><input class=\"sk-toggleable__control sk-hidden--visually\" id=\"baa453ed-7098-41eb-9902-4cc3848e01aa\" type=\"checkbox\" ><label for=\"baa453ed-7098-41eb-9902-4cc3848e01aa\" class=\"sk-toggleable__label sk-toggleable__label-arrow\">passthrough</label><div class=\"sk-toggleable__content\"><pre>passthrough</pre></div></div></div></div></div></div></div></div><div class=\"sk-item\"><div class=\"sk-estimator sk-toggleable\"><input class=\"sk-toggleable__control sk-hidden--visually\" id=\"c0c32033-912a-499c-819d-1096da6ce980\" type=\"checkbox\" ><label for=\"c0c32033-912a-499c-819d-1096da6ce980\" class=\"sk-toggleable__label sk-toggleable__label-arrow\">LogisticRegression</label><div class=\"sk-toggleable__content\"><pre>LogisticRegression()</pre></div></div></div></div></div></div></div>"
      ],
      "text/plain": [
       "Pipeline(steps=[('ct',\n",
       "                 ColumnTransformer(remainder='passthrough',\n",
       "                                   transformers=[('OHE',\n",
       "                                                  OneHotEncoder(drop='first'),\n",
       "                                                  ['Class', 'node-caps',\n",
       "                                                   'breast', 'breast-quad']),\n",
       "                                                 ('OE',\n",
       "                                                  OrdinalEncoder(categories=[['lt40',\n",
       "                                                                              'ge40',\n",
       "                                                                              'premeno'],\n",
       "                                                                             ['0-4',\n",
       "                                                                              '5-9',\n",
       "                                                                              '10-14',\n",
       "                                                                              '15-19',\n",
       "                                                                              '20-24',\n",
       "                                                                              '25-29',\n",
       "                                                                              '30-34',\n",
       "                                                                              '35-39',\n",
       "                                                                              '40-44',\n",
       "                                                                              '45-49',\n",
       "                                                                              '50-54'],\n",
       "                                                                             ['0-2',\n",
       "                                                                              '3-5',\n",
       "                                                                              '6-8',\n",
       "                                                                              '9-11',\n",
       "                                                                              '12-14',\n",
       "                                                                              '15-17',\n",
       "                                                                              '24-26'],\n",
       "                                                                             ['20-29',\n",
       "                                                                              '30-39',\n",
       "                                                                              '40-49',\n",
       "                                                                              '50-59',\n",
       "                                                                              '60-69',\n",
       "                                                                              '70-79']]),\n",
       "                                                  [2, 3, 4, 1])])),\n",
       "                ('LO', LogisticRegression())])"
      ]
     },
     "execution_count": 35,
     "metadata": {},
     "output_type": "execute_result"
    }
   ],
   "source": [
    "pp5=PP(\n",
    "[\n",
    "    (\"ct\",ct),\n",
    "    (\"LO\",LO())\n",
    "])\n",
    "pp5.fit(xta,yta)\n"
   ]
  },
  {
   "cell_type": "code",
   "execution_count": 36,
   "metadata": {},
   "outputs": [
    {
     "data": {
      "text/html": [
       "<style>#sk-1cc7c5d6-2bbb-4d4a-ad6d-4707dcd56f3f {color: black;background-color: white;}#sk-1cc7c5d6-2bbb-4d4a-ad6d-4707dcd56f3f pre{padding: 0;}#sk-1cc7c5d6-2bbb-4d4a-ad6d-4707dcd56f3f div.sk-toggleable {background-color: white;}#sk-1cc7c5d6-2bbb-4d4a-ad6d-4707dcd56f3f label.sk-toggleable__label {cursor: pointer;display: block;width: 100%;margin-bottom: 0;padding: 0.3em;box-sizing: border-box;text-align: center;}#sk-1cc7c5d6-2bbb-4d4a-ad6d-4707dcd56f3f label.sk-toggleable__label-arrow:before {content: \"▸\";float: left;margin-right: 0.25em;color: #696969;}#sk-1cc7c5d6-2bbb-4d4a-ad6d-4707dcd56f3f label.sk-toggleable__label-arrow:hover:before {color: black;}#sk-1cc7c5d6-2bbb-4d4a-ad6d-4707dcd56f3f div.sk-estimator:hover label.sk-toggleable__label-arrow:before {color: black;}#sk-1cc7c5d6-2bbb-4d4a-ad6d-4707dcd56f3f div.sk-toggleable__content {max-height: 0;max-width: 0;overflow: hidden;text-align: left;background-color: #f0f8ff;}#sk-1cc7c5d6-2bbb-4d4a-ad6d-4707dcd56f3f div.sk-toggleable__content pre {margin: 0.2em;color: black;border-radius: 0.25em;background-color: #f0f8ff;}#sk-1cc7c5d6-2bbb-4d4a-ad6d-4707dcd56f3f input.sk-toggleable__control:checked~div.sk-toggleable__content {max-height: 200px;max-width: 100%;overflow: auto;}#sk-1cc7c5d6-2bbb-4d4a-ad6d-4707dcd56f3f input.sk-toggleable__control:checked~label.sk-toggleable__label-arrow:before {content: \"▾\";}#sk-1cc7c5d6-2bbb-4d4a-ad6d-4707dcd56f3f div.sk-estimator input.sk-toggleable__control:checked~label.sk-toggleable__label {background-color: #d4ebff;}#sk-1cc7c5d6-2bbb-4d4a-ad6d-4707dcd56f3f div.sk-label input.sk-toggleable__control:checked~label.sk-toggleable__label {background-color: #d4ebff;}#sk-1cc7c5d6-2bbb-4d4a-ad6d-4707dcd56f3f input.sk-hidden--visually {border: 0;clip: rect(1px 1px 1px 1px);clip: rect(1px, 1px, 1px, 1px);height: 1px;margin: -1px;overflow: hidden;padding: 0;position: absolute;width: 1px;}#sk-1cc7c5d6-2bbb-4d4a-ad6d-4707dcd56f3f div.sk-estimator {font-family: monospace;background-color: #f0f8ff;border: 1px dotted black;border-radius: 0.25em;box-sizing: border-box;margin-bottom: 0.5em;}#sk-1cc7c5d6-2bbb-4d4a-ad6d-4707dcd56f3f div.sk-estimator:hover {background-color: #d4ebff;}#sk-1cc7c5d6-2bbb-4d4a-ad6d-4707dcd56f3f div.sk-parallel-item::after {content: \"\";width: 100%;border-bottom: 1px solid gray;flex-grow: 1;}#sk-1cc7c5d6-2bbb-4d4a-ad6d-4707dcd56f3f div.sk-label:hover label.sk-toggleable__label {background-color: #d4ebff;}#sk-1cc7c5d6-2bbb-4d4a-ad6d-4707dcd56f3f div.sk-serial::before {content: \"\";position: absolute;border-left: 1px solid gray;box-sizing: border-box;top: 2em;bottom: 0;left: 50%;}#sk-1cc7c5d6-2bbb-4d4a-ad6d-4707dcd56f3f div.sk-serial {display: flex;flex-direction: column;align-items: center;background-color: white;padding-right: 0.2em;padding-left: 0.2em;}#sk-1cc7c5d6-2bbb-4d4a-ad6d-4707dcd56f3f div.sk-item {z-index: 1;}#sk-1cc7c5d6-2bbb-4d4a-ad6d-4707dcd56f3f div.sk-parallel {display: flex;align-items: stretch;justify-content: center;background-color: white;}#sk-1cc7c5d6-2bbb-4d4a-ad6d-4707dcd56f3f div.sk-parallel::before {content: \"\";position: absolute;border-left: 1px solid gray;box-sizing: border-box;top: 2em;bottom: 0;left: 50%;}#sk-1cc7c5d6-2bbb-4d4a-ad6d-4707dcd56f3f div.sk-parallel-item {display: flex;flex-direction: column;position: relative;background-color: white;}#sk-1cc7c5d6-2bbb-4d4a-ad6d-4707dcd56f3f div.sk-parallel-item:first-child::after {align-self: flex-end;width: 50%;}#sk-1cc7c5d6-2bbb-4d4a-ad6d-4707dcd56f3f div.sk-parallel-item:last-child::after {align-self: flex-start;width: 50%;}#sk-1cc7c5d6-2bbb-4d4a-ad6d-4707dcd56f3f div.sk-parallel-item:only-child::after {width: 0;}#sk-1cc7c5d6-2bbb-4d4a-ad6d-4707dcd56f3f div.sk-dashed-wrapped {border: 1px dashed gray;margin: 0 0.4em 0.5em 0.4em;box-sizing: border-box;padding-bottom: 0.4em;background-color: white;position: relative;}#sk-1cc7c5d6-2bbb-4d4a-ad6d-4707dcd56f3f div.sk-label label {font-family: monospace;font-weight: bold;background-color: white;display: inline-block;line-height: 1.2em;}#sk-1cc7c5d6-2bbb-4d4a-ad6d-4707dcd56f3f div.sk-label-container {position: relative;z-index: 2;text-align: center;}#sk-1cc7c5d6-2bbb-4d4a-ad6d-4707dcd56f3f div.sk-container {/* jupyter's `normalize.less` sets `[hidden] { display: none; }` but bootstrap.min.css set `[hidden] { display: none !important; }` so we also need the `!important` here to be able to override the default hidden behavior on the sphinx rendered scikit-learn.org. See: https://github.com/scikit-learn/scikit-learn/issues/21755 */display: inline-block !important;position: relative;}#sk-1cc7c5d6-2bbb-4d4a-ad6d-4707dcd56f3f div.sk-text-repr-fallback {display: none;}</style><div id=\"sk-1cc7c5d6-2bbb-4d4a-ad6d-4707dcd56f3f\" class=\"sk-top-container\"><div class=\"sk-text-repr-fallback\"><pre>Pipeline(steps=[(&#x27;ct&#x27;,\n",
       "                 ColumnTransformer(remainder=&#x27;passthrough&#x27;,\n",
       "                                   transformers=[(&#x27;OHE&#x27;,\n",
       "                                                  OneHotEncoder(drop=&#x27;first&#x27;),\n",
       "                                                  [&#x27;Class&#x27;, &#x27;node-caps&#x27;,\n",
       "                                                   &#x27;breast&#x27;, &#x27;breast-quad&#x27;]),\n",
       "                                                 (&#x27;OE&#x27;,\n",
       "                                                  OrdinalEncoder(categories=[[&#x27;lt40&#x27;,\n",
       "                                                                              &#x27;ge40&#x27;,\n",
       "                                                                              &#x27;premeno&#x27;],\n",
       "                                                                             [&#x27;0-4&#x27;,\n",
       "                                                                              &#x27;5-9&#x27;,\n",
       "                                                                              &#x27;10-14&#x27;,\n",
       "                                                                              &#x27;15-19&#x27;,\n",
       "                                                                              &#x27;20-24&#x27;,\n",
       "                                                                              &#x27;25-29&#x27;,\n",
       "                                                                              &#x27;30-34&#x27;,\n",
       "                                                                              &#x27;35-39&#x27;,\n",
       "                                                                              &#x27;40-44&#x27;,\n",
       "                                                                              &#x27;45-49&#x27;,\n",
       "                                                                              &#x27;50-54&#x27;],\n",
       "                                                                             [&#x27;0-2&#x27;,\n",
       "                                                                              &#x27;3-5&#x27;,\n",
       "                                                                              &#x27;6-8&#x27;,\n",
       "                                                                              &#x27;9-11&#x27;,\n",
       "                                                                              &#x27;12-14&#x27;,\n",
       "                                                                              &#x27;15-17&#x27;,\n",
       "                                                                              &#x27;24-...\n",
       "                               gamma=0, gpu_id=-1, grow_policy=&#x27;depthwise&#x27;,\n",
       "                               importance_type=None, interaction_constraints=&#x27;&#x27;,\n",
       "                               learning_rate=0.300000012, max_bin=256,\n",
       "                               max_cat_to_onehot=4, max_delta_step=0,\n",
       "                               max_depth=6, max_leaves=0, min_child_weight=1,\n",
       "                               missing=nan, monotone_constraints=&#x27;()&#x27;,\n",
       "                               n_estimators=100, n_jobs=0, num_parallel_tree=1,\n",
       "                               predictor=&#x27;auto&#x27;, random_state=0, reg_alpha=0,\n",
       "                               reg_lambda=1, ...))])</pre><b>Please rerun this cell to show the HTML repr or trust the notebook.</b></div><div class=\"sk-container\" hidden><div class=\"sk-item sk-dashed-wrapped\"><div class=\"sk-label-container\"><div class=\"sk-label sk-toggleable\"><input class=\"sk-toggleable__control sk-hidden--visually\" id=\"cb3ccf58-2d5e-4673-92ff-487e7ac7ad5e\" type=\"checkbox\" ><label for=\"cb3ccf58-2d5e-4673-92ff-487e7ac7ad5e\" class=\"sk-toggleable__label sk-toggleable__label-arrow\">Pipeline</label><div class=\"sk-toggleable__content\"><pre>Pipeline(steps=[(&#x27;ct&#x27;,\n",
       "                 ColumnTransformer(remainder=&#x27;passthrough&#x27;,\n",
       "                                   transformers=[(&#x27;OHE&#x27;,\n",
       "                                                  OneHotEncoder(drop=&#x27;first&#x27;),\n",
       "                                                  [&#x27;Class&#x27;, &#x27;node-caps&#x27;,\n",
       "                                                   &#x27;breast&#x27;, &#x27;breast-quad&#x27;]),\n",
       "                                                 (&#x27;OE&#x27;,\n",
       "                                                  OrdinalEncoder(categories=[[&#x27;lt40&#x27;,\n",
       "                                                                              &#x27;ge40&#x27;,\n",
       "                                                                              &#x27;premeno&#x27;],\n",
       "                                                                             [&#x27;0-4&#x27;,\n",
       "                                                                              &#x27;5-9&#x27;,\n",
       "                                                                              &#x27;10-14&#x27;,\n",
       "                                                                              &#x27;15-19&#x27;,\n",
       "                                                                              &#x27;20-24&#x27;,\n",
       "                                                                              &#x27;25-29&#x27;,\n",
       "                                                                              &#x27;30-34&#x27;,\n",
       "                                                                              &#x27;35-39&#x27;,\n",
       "                                                                              &#x27;40-44&#x27;,\n",
       "                                                                              &#x27;45-49&#x27;,\n",
       "                                                                              &#x27;50-54&#x27;],\n",
       "                                                                             [&#x27;0-2&#x27;,\n",
       "                                                                              &#x27;3-5&#x27;,\n",
       "                                                                              &#x27;6-8&#x27;,\n",
       "                                                                              &#x27;9-11&#x27;,\n",
       "                                                                              &#x27;12-14&#x27;,\n",
       "                                                                              &#x27;15-17&#x27;,\n",
       "                                                                              &#x27;24-...\n",
       "                               gamma=0, gpu_id=-1, grow_policy=&#x27;depthwise&#x27;,\n",
       "                               importance_type=None, interaction_constraints=&#x27;&#x27;,\n",
       "                               learning_rate=0.300000012, max_bin=256,\n",
       "                               max_cat_to_onehot=4, max_delta_step=0,\n",
       "                               max_depth=6, max_leaves=0, min_child_weight=1,\n",
       "                               missing=nan, monotone_constraints=&#x27;()&#x27;,\n",
       "                               n_estimators=100, n_jobs=0, num_parallel_tree=1,\n",
       "                               predictor=&#x27;auto&#x27;, random_state=0, reg_alpha=0,\n",
       "                               reg_lambda=1, ...))])</pre></div></div></div><div class=\"sk-serial\"><div class=\"sk-item sk-dashed-wrapped\"><div class=\"sk-label-container\"><div class=\"sk-label sk-toggleable\"><input class=\"sk-toggleable__control sk-hidden--visually\" id=\"b063a5c7-0508-4f10-876d-471f9be616d0\" type=\"checkbox\" ><label for=\"b063a5c7-0508-4f10-876d-471f9be616d0\" class=\"sk-toggleable__label sk-toggleable__label-arrow\">ct: ColumnTransformer</label><div class=\"sk-toggleable__content\"><pre>ColumnTransformer(remainder=&#x27;passthrough&#x27;,\n",
       "                  transformers=[(&#x27;OHE&#x27;, OneHotEncoder(drop=&#x27;first&#x27;),\n",
       "                                 [&#x27;Class&#x27;, &#x27;node-caps&#x27;, &#x27;breast&#x27;,\n",
       "                                  &#x27;breast-quad&#x27;]),\n",
       "                                (&#x27;OE&#x27;,\n",
       "                                 OrdinalEncoder(categories=[[&#x27;lt40&#x27;, &#x27;ge40&#x27;,\n",
       "                                                             &#x27;premeno&#x27;],\n",
       "                                                            [&#x27;0-4&#x27;, &#x27;5-9&#x27;,\n",
       "                                                             &#x27;10-14&#x27;, &#x27;15-19&#x27;,\n",
       "                                                             &#x27;20-24&#x27;, &#x27;25-29&#x27;,\n",
       "                                                             &#x27;30-34&#x27;, &#x27;35-39&#x27;,\n",
       "                                                             &#x27;40-44&#x27;, &#x27;45-49&#x27;,\n",
       "                                                             &#x27;50-54&#x27;],\n",
       "                                                            [&#x27;0-2&#x27;, &#x27;3-5&#x27;,\n",
       "                                                             &#x27;6-8&#x27;, &#x27;9-11&#x27;,\n",
       "                                                             &#x27;12-14&#x27;, &#x27;15-17&#x27;,\n",
       "                                                             &#x27;24-26&#x27;],\n",
       "                                                            [&#x27;20-29&#x27;, &#x27;30-39&#x27;,\n",
       "                                                             &#x27;40-49&#x27;, &#x27;50-59&#x27;,\n",
       "                                                             &#x27;60-69&#x27;,\n",
       "                                                             &#x27;70-79&#x27;]]),\n",
       "                                 [2, 3, 4, 1])])</pre></div></div></div><div class=\"sk-parallel\"><div class=\"sk-parallel-item\"><div class=\"sk-item\"><div class=\"sk-label-container\"><div class=\"sk-label sk-toggleable\"><input class=\"sk-toggleable__control sk-hidden--visually\" id=\"243c27a3-d39e-4a32-9c8c-ac1e20ab6b43\" type=\"checkbox\" ><label for=\"243c27a3-d39e-4a32-9c8c-ac1e20ab6b43\" class=\"sk-toggleable__label sk-toggleable__label-arrow\">OHE</label><div class=\"sk-toggleable__content\"><pre>[&#x27;Class&#x27;, &#x27;node-caps&#x27;, &#x27;breast&#x27;, &#x27;breast-quad&#x27;]</pre></div></div></div><div class=\"sk-serial\"><div class=\"sk-item\"><div class=\"sk-estimator sk-toggleable\"><input class=\"sk-toggleable__control sk-hidden--visually\" id=\"78e8a586-ccf2-418b-a20b-de254232c7da\" type=\"checkbox\" ><label for=\"78e8a586-ccf2-418b-a20b-de254232c7da\" class=\"sk-toggleable__label sk-toggleable__label-arrow\">OneHotEncoder</label><div class=\"sk-toggleable__content\"><pre>OneHotEncoder(drop=&#x27;first&#x27;)</pre></div></div></div></div></div></div><div class=\"sk-parallel-item\"><div class=\"sk-item\"><div class=\"sk-label-container\"><div class=\"sk-label sk-toggleable\"><input class=\"sk-toggleable__control sk-hidden--visually\" id=\"40d5ae02-ef0c-4c25-a277-53e0531f7986\" type=\"checkbox\" ><label for=\"40d5ae02-ef0c-4c25-a277-53e0531f7986\" class=\"sk-toggleable__label sk-toggleable__label-arrow\">OE</label><div class=\"sk-toggleable__content\"><pre>[2, 3, 4, 1]</pre></div></div></div><div class=\"sk-serial\"><div class=\"sk-item\"><div class=\"sk-estimator sk-toggleable\"><input class=\"sk-toggleable__control sk-hidden--visually\" id=\"679d58cd-0c89-4ce7-8b65-b46ebf303f0c\" type=\"checkbox\" ><label for=\"679d58cd-0c89-4ce7-8b65-b46ebf303f0c\" class=\"sk-toggleable__label sk-toggleable__label-arrow\">OrdinalEncoder</label><div class=\"sk-toggleable__content\"><pre>OrdinalEncoder(categories=[[&#x27;lt40&#x27;, &#x27;ge40&#x27;, &#x27;premeno&#x27;],\n",
       "                           [&#x27;0-4&#x27;, &#x27;5-9&#x27;, &#x27;10-14&#x27;, &#x27;15-19&#x27;, &#x27;20-24&#x27;, &#x27;25-29&#x27;,\n",
       "                            &#x27;30-34&#x27;, &#x27;35-39&#x27;, &#x27;40-44&#x27;, &#x27;45-49&#x27;, &#x27;50-54&#x27;],\n",
       "                           [&#x27;0-2&#x27;, &#x27;3-5&#x27;, &#x27;6-8&#x27;, &#x27;9-11&#x27;, &#x27;12-14&#x27;, &#x27;15-17&#x27;,\n",
       "                            &#x27;24-26&#x27;],\n",
       "                           [&#x27;20-29&#x27;, &#x27;30-39&#x27;, &#x27;40-49&#x27;, &#x27;50-59&#x27;, &#x27;60-69&#x27;,\n",
       "                            &#x27;70-79&#x27;]])</pre></div></div></div></div></div></div><div class=\"sk-parallel-item\"><div class=\"sk-item\"><div class=\"sk-label-container\"><div class=\"sk-label sk-toggleable\"><input class=\"sk-toggleable__control sk-hidden--visually\" id=\"774ac9ec-ddb2-4a16-9bce-fcd85ce7b5fd\" type=\"checkbox\" ><label for=\"774ac9ec-ddb2-4a16-9bce-fcd85ce7b5fd\" class=\"sk-toggleable__label sk-toggleable__label-arrow\">remainder</label><div class=\"sk-toggleable__content\"><pre>[&#x27;deg-malig&#x27;]</pre></div></div></div><div class=\"sk-serial\"><div class=\"sk-item\"><div class=\"sk-estimator sk-toggleable\"><input class=\"sk-toggleable__control sk-hidden--visually\" id=\"1c7b11fb-ea28-41b3-b697-986fbc0e6daf\" type=\"checkbox\" ><label for=\"1c7b11fb-ea28-41b3-b697-986fbc0e6daf\" class=\"sk-toggleable__label sk-toggleable__label-arrow\">passthrough</label><div class=\"sk-toggleable__content\"><pre>passthrough</pre></div></div></div></div></div></div></div></div><div class=\"sk-item\"><div class=\"sk-estimator sk-toggleable\"><input class=\"sk-toggleable__control sk-hidden--visually\" id=\"653e0867-ab96-4560-a056-a0784fcbed21\" type=\"checkbox\" ><label for=\"653e0867-ab96-4560-a056-a0784fcbed21\" class=\"sk-toggleable__label sk-toggleable__label-arrow\">XGBClassifier</label><div class=\"sk-toggleable__content\"><pre>XGBClassifier(base_score=0.5, booster=&#x27;gbtree&#x27;, callbacks=None,\n",
       "              colsample_bylevel=1, colsample_bynode=1, colsample_bytree=1,\n",
       "              early_stopping_rounds=None, enable_categorical=False,\n",
       "              eval_metric=None, gamma=0, gpu_id=-1, grow_policy=&#x27;depthwise&#x27;,\n",
       "              importance_type=None, interaction_constraints=&#x27;&#x27;,\n",
       "              learning_rate=0.300000012, max_bin=256, max_cat_to_onehot=4,\n",
       "              max_delta_step=0, max_depth=6, max_leaves=0, min_child_weight=1,\n",
       "              missing=nan, monotone_constraints=&#x27;()&#x27;, n_estimators=100,\n",
       "              n_jobs=0, num_parallel_tree=1, predictor=&#x27;auto&#x27;, random_state=0,\n",
       "              reg_alpha=0, reg_lambda=1, ...)</pre></div></div></div></div></div></div></div>"
      ],
      "text/plain": [
       "Pipeline(steps=[('ct',\n",
       "                 ColumnTransformer(remainder='passthrough',\n",
       "                                   transformers=[('OHE',\n",
       "                                                  OneHotEncoder(drop='first'),\n",
       "                                                  ['Class', 'node-caps',\n",
       "                                                   'breast', 'breast-quad']),\n",
       "                                                 ('OE',\n",
       "                                                  OrdinalEncoder(categories=[['lt40',\n",
       "                                                                              'ge40',\n",
       "                                                                              'premeno'],\n",
       "                                                                             ['0-4',\n",
       "                                                                              '5-9',\n",
       "                                                                              '10-14',\n",
       "                                                                              '15-19',\n",
       "                                                                              '20-24',\n",
       "                                                                              '25-29',\n",
       "                                                                              '30-34',\n",
       "                                                                              '35-39',\n",
       "                                                                              '40-44',\n",
       "                                                                              '45-49',\n",
       "                                                                              '50-54'],\n",
       "                                                                             ['0-2',\n",
       "                                                                              '3-5',\n",
       "                                                                              '6-8',\n",
       "                                                                              '9-11',\n",
       "                                                                              '12-14',\n",
       "                                                                              '15-17',\n",
       "                                                                              '24-...\n",
       "                               gamma=0, gpu_id=-1, grow_policy='depthwise',\n",
       "                               importance_type=None, interaction_constraints='',\n",
       "                               learning_rate=0.300000012, max_bin=256,\n",
       "                               max_cat_to_onehot=4, max_delta_step=0,\n",
       "                               max_depth=6, max_leaves=0, min_child_weight=1,\n",
       "                               missing=nan, monotone_constraints='()',\n",
       "                               n_estimators=100, n_jobs=0, num_parallel_tree=1,\n",
       "                               predictor='auto', random_state=0, reg_alpha=0,\n",
       "                               reg_lambda=1, ...))])"
      ]
     },
     "execution_count": 36,
     "metadata": {},
     "output_type": "execute_result"
    }
   ],
   "source": [
    "pp6=PP(\n",
    "[\n",
    "    (\"ct\",ct),\n",
    "    (\"XG\",XG())\n",
    "])\n",
    "pp6.fit(xta,yta)"
   ]
  },
  {
   "cell_type": "code",
   "execution_count": 37,
   "metadata": {},
   "outputs": [
    {
     "data": {
      "text/plain": [
       "'SVC = 0.7678571428571429'"
      ]
     },
     "execution_count": 37,
     "metadata": {},
     "output_type": "execute_result"
    }
   ],
   "source": [
    "\"SVC = \"+str(AS(yte,pp.predict(xte)))"
   ]
  },
  {
   "cell_type": "code",
   "execution_count": 38,
   "metadata": {},
   "outputs": [
    {
     "data": {
      "text/plain": [
       "'RFC = 0.7857142857142857'"
      ]
     },
     "execution_count": 38,
     "metadata": {},
     "output_type": "execute_result"
    }
   ],
   "source": [
    "\"RFC = \"+str(AS(yte,pp1.predict(xte)))"
   ]
  },
  {
   "cell_type": "code",
   "execution_count": 39,
   "metadata": {},
   "outputs": [
    {
     "data": {
      "text/plain": [
       "'KNN = 0.7857142857142857'"
      ]
     },
     "execution_count": 39,
     "metadata": {},
     "output_type": "execute_result"
    }
   ],
   "source": [
    "\"KNN = \"+str(AS(yte,pp2.predict(xte)))"
   ]
  },
  {
   "cell_type": "code",
   "execution_count": 40,
   "metadata": {},
   "outputs": [
    {
     "data": {
      "text/plain": [
       "'GNB = 0.625'"
      ]
     },
     "execution_count": 40,
     "metadata": {},
     "output_type": "execute_result"
    }
   ],
   "source": [
    "\"GNB = \"+str(AS(yte,pp3.predict(xte)))"
   ]
  },
  {
   "cell_type": "code",
   "execution_count": 41,
   "metadata": {},
   "outputs": [
    {
     "data": {
      "text/plain": [
       "'DT = 0.75'"
      ]
     },
     "execution_count": 41,
     "metadata": {},
     "output_type": "execute_result"
    }
   ],
   "source": [
    "\"DT = \"+str(AS(yte,pp4.predict(xte)))"
   ]
  },
  {
   "cell_type": "code",
   "execution_count": 42,
   "metadata": {},
   "outputs": [
    {
     "data": {
      "text/plain": [
       "'LO = 0.7678571428571429'"
      ]
     },
     "execution_count": 42,
     "metadata": {},
     "output_type": "execute_result"
    }
   ],
   "source": [
    "\"LO = \"+str(AS(yte,pp5.predict(xte)))"
   ]
  },
  {
   "cell_type": "code",
   "execution_count": 43,
   "metadata": {},
   "outputs": [
    {
     "data": {
      "text/plain": [
       "'XG = 0.75'"
      ]
     },
     "execution_count": 43,
     "metadata": {},
     "output_type": "execute_result"
    }
   ],
   "source": [
    "\"XG = \"+str(AS(yte,pp6.predict(xte)))"
   ]
  },
  {
   "cell_type": "code",
   "execution_count": 44,
   "metadata": {},
   "outputs": [],
   "source": [
    "p={\n",
    "    \"criterion\":[\"gini\",\"entropy\"],\n",
    "    \"max_depth\":np.arange(25),\n",
    "    \"bootstrap\":[True],\n",
    "    \"min_samples_leaf\":[1,2,3,4,5,6],\n",
    "    \"min_samples_split\":[2,3,4,5,6],\n",
    "    \"n_estimators\":[100]\n",
    "}"
   ]
  },
  {
   "cell_type": "code",
   "execution_count": 45,
   "metadata": {},
   "outputs": [],
   "source": [
    "gscv=GSCV(RFC(),param_grid=p,scoring=\"accuracy\",n_jobs=-1,cv=5)"
   ]
  },
  {
   "cell_type": "code",
   "execution_count": 46,
   "metadata": {},
   "outputs": [
    {
     "name": "stdout",
     "output_type": "stream",
     "text": [
      "[Pipeline] ................ (step 1 of 2) Processing ct, total=   0.0s\n",
      "[Pipeline] .............. (step 2 of 2) Processing gscv, total= 1.6min\n"
     ]
    },
    {
     "name": "stderr",
     "output_type": "stream",
     "text": [
      "C:\\Users\\AryanBr0\\anaconda3\\lib\\site-packages\\sklearn\\model_selection\\_validation.py:372: FitFailedWarning: \n",
      "300 fits failed out of a total of 7500.\n",
      "The score on these train-test partitions for these parameters will be set to nan.\n",
      "If these failures are not expected, you can try to debug them by setting error_score='raise'.\n",
      "\n",
      "Below are more details about the failures:\n",
      "--------------------------------------------------------------------------------\n",
      "300 fits failed with the following error:\n",
      "Traceback (most recent call last):\n",
      "  File \"C:\\Users\\AryanBr0\\anaconda3\\lib\\site-packages\\sklearn\\model_selection\\_validation.py\", line 680, in _fit_and_score\n",
      "    estimator.fit(X_train, y_train, **fit_params)\n",
      "  File \"C:\\Users\\AryanBr0\\anaconda3\\lib\\site-packages\\sklearn\\ensemble\\_forest.py\", line 467, in fit\n",
      "    for i, t in enumerate(trees)\n",
      "  File \"C:\\Users\\AryanBr0\\anaconda3\\lib\\site-packages\\joblib\\parallel.py\", line 1004, in __call__\n",
      "    if self.dispatch_one_batch(iterator):\n",
      "  File \"C:\\Users\\AryanBr0\\anaconda3\\lib\\site-packages\\joblib\\parallel.py\", line 835, in dispatch_one_batch\n",
      "    self._dispatch(tasks)\n",
      "  File \"C:\\Users\\AryanBr0\\anaconda3\\lib\\site-packages\\joblib\\parallel.py\", line 754, in _dispatch\n",
      "    job = self._backend.apply_async(batch, callback=cb)\n",
      "  File \"C:\\Users\\AryanBr0\\anaconda3\\lib\\site-packages\\joblib\\_parallel_backends.py\", line 209, in apply_async\n",
      "    result = ImmediateResult(func)\n",
      "  File \"C:\\Users\\AryanBr0\\anaconda3\\lib\\site-packages\\joblib\\_parallel_backends.py\", line 590, in __init__\n",
      "    self.results = batch()\n",
      "  File \"C:\\Users\\AryanBr0\\anaconda3\\lib\\site-packages\\joblib\\parallel.py\", line 256, in __call__\n",
      "    for func, args, kwargs in self.items]\n",
      "  File \"C:\\Users\\AryanBr0\\anaconda3\\lib\\site-packages\\joblib\\parallel.py\", line 256, in <listcomp>\n",
      "    for func, args, kwargs in self.items]\n",
      "  File \"C:\\Users\\AryanBr0\\anaconda3\\lib\\site-packages\\sklearn\\utils\\fixes.py\", line 216, in __call__\n",
      "    return self.function(*args, **kwargs)\n",
      "  File \"C:\\Users\\AryanBr0\\anaconda3\\lib\\site-packages\\sklearn\\ensemble\\_forest.py\", line 185, in _parallel_build_trees\n",
      "    tree.fit(X, y, sample_weight=curr_sample_weight, check_input=False)\n",
      "  File \"C:\\Users\\AryanBr0\\anaconda3\\lib\\site-packages\\sklearn\\tree\\_classes.py\", line 942, in fit\n",
      "    X_idx_sorted=X_idx_sorted,\n",
      "  File \"C:\\Users\\AryanBr0\\anaconda3\\lib\\site-packages\\sklearn\\tree\\_classes.py\", line 306, in fit\n",
      "    raise ValueError(\"max_depth must be greater than zero. \")\n",
      "ValueError: max_depth must be greater than zero. \n",
      "\n",
      "  warnings.warn(some_fits_failed_message, FitFailedWarning)\n",
      "C:\\Users\\AryanBr0\\anaconda3\\lib\\site-packages\\sklearn\\model_selection\\_search.py:972: UserWarning: One or more of the test scores are non-finite: [       nan        nan        nan ... 0.77828283 0.78727273 0.79191919]\n",
      "  category=UserWarning,\n"
     ]
    },
    {
     "data": {
      "text/html": [
       "<style>#sk-17de4330-8631-4f23-9894-136fd3a1b630 {color: black;background-color: white;}#sk-17de4330-8631-4f23-9894-136fd3a1b630 pre{padding: 0;}#sk-17de4330-8631-4f23-9894-136fd3a1b630 div.sk-toggleable {background-color: white;}#sk-17de4330-8631-4f23-9894-136fd3a1b630 label.sk-toggleable__label {cursor: pointer;display: block;width: 100%;margin-bottom: 0;padding: 0.3em;box-sizing: border-box;text-align: center;}#sk-17de4330-8631-4f23-9894-136fd3a1b630 label.sk-toggleable__label-arrow:before {content: \"▸\";float: left;margin-right: 0.25em;color: #696969;}#sk-17de4330-8631-4f23-9894-136fd3a1b630 label.sk-toggleable__label-arrow:hover:before {color: black;}#sk-17de4330-8631-4f23-9894-136fd3a1b630 div.sk-estimator:hover label.sk-toggleable__label-arrow:before {color: black;}#sk-17de4330-8631-4f23-9894-136fd3a1b630 div.sk-toggleable__content {max-height: 0;max-width: 0;overflow: hidden;text-align: left;background-color: #f0f8ff;}#sk-17de4330-8631-4f23-9894-136fd3a1b630 div.sk-toggleable__content pre {margin: 0.2em;color: black;border-radius: 0.25em;background-color: #f0f8ff;}#sk-17de4330-8631-4f23-9894-136fd3a1b630 input.sk-toggleable__control:checked~div.sk-toggleable__content {max-height: 200px;max-width: 100%;overflow: auto;}#sk-17de4330-8631-4f23-9894-136fd3a1b630 input.sk-toggleable__control:checked~label.sk-toggleable__label-arrow:before {content: \"▾\";}#sk-17de4330-8631-4f23-9894-136fd3a1b630 div.sk-estimator input.sk-toggleable__control:checked~label.sk-toggleable__label {background-color: #d4ebff;}#sk-17de4330-8631-4f23-9894-136fd3a1b630 div.sk-label input.sk-toggleable__control:checked~label.sk-toggleable__label {background-color: #d4ebff;}#sk-17de4330-8631-4f23-9894-136fd3a1b630 input.sk-hidden--visually {border: 0;clip: rect(1px 1px 1px 1px);clip: rect(1px, 1px, 1px, 1px);height: 1px;margin: -1px;overflow: hidden;padding: 0;position: absolute;width: 1px;}#sk-17de4330-8631-4f23-9894-136fd3a1b630 div.sk-estimator {font-family: monospace;background-color: #f0f8ff;border: 1px dotted black;border-radius: 0.25em;box-sizing: border-box;margin-bottom: 0.5em;}#sk-17de4330-8631-4f23-9894-136fd3a1b630 div.sk-estimator:hover {background-color: #d4ebff;}#sk-17de4330-8631-4f23-9894-136fd3a1b630 div.sk-parallel-item::after {content: \"\";width: 100%;border-bottom: 1px solid gray;flex-grow: 1;}#sk-17de4330-8631-4f23-9894-136fd3a1b630 div.sk-label:hover label.sk-toggleable__label {background-color: #d4ebff;}#sk-17de4330-8631-4f23-9894-136fd3a1b630 div.sk-serial::before {content: \"\";position: absolute;border-left: 1px solid gray;box-sizing: border-box;top: 2em;bottom: 0;left: 50%;}#sk-17de4330-8631-4f23-9894-136fd3a1b630 div.sk-serial {display: flex;flex-direction: column;align-items: center;background-color: white;padding-right: 0.2em;padding-left: 0.2em;}#sk-17de4330-8631-4f23-9894-136fd3a1b630 div.sk-item {z-index: 1;}#sk-17de4330-8631-4f23-9894-136fd3a1b630 div.sk-parallel {display: flex;align-items: stretch;justify-content: center;background-color: white;}#sk-17de4330-8631-4f23-9894-136fd3a1b630 div.sk-parallel::before {content: \"\";position: absolute;border-left: 1px solid gray;box-sizing: border-box;top: 2em;bottom: 0;left: 50%;}#sk-17de4330-8631-4f23-9894-136fd3a1b630 div.sk-parallel-item {display: flex;flex-direction: column;position: relative;background-color: white;}#sk-17de4330-8631-4f23-9894-136fd3a1b630 div.sk-parallel-item:first-child::after {align-self: flex-end;width: 50%;}#sk-17de4330-8631-4f23-9894-136fd3a1b630 div.sk-parallel-item:last-child::after {align-self: flex-start;width: 50%;}#sk-17de4330-8631-4f23-9894-136fd3a1b630 div.sk-parallel-item:only-child::after {width: 0;}#sk-17de4330-8631-4f23-9894-136fd3a1b630 div.sk-dashed-wrapped {border: 1px dashed gray;margin: 0 0.4em 0.5em 0.4em;box-sizing: border-box;padding-bottom: 0.4em;background-color: white;position: relative;}#sk-17de4330-8631-4f23-9894-136fd3a1b630 div.sk-label label {font-family: monospace;font-weight: bold;background-color: white;display: inline-block;line-height: 1.2em;}#sk-17de4330-8631-4f23-9894-136fd3a1b630 div.sk-label-container {position: relative;z-index: 2;text-align: center;}#sk-17de4330-8631-4f23-9894-136fd3a1b630 div.sk-container {/* jupyter's `normalize.less` sets `[hidden] { display: none; }` but bootstrap.min.css set `[hidden] { display: none !important; }` so we also need the `!important` here to be able to override the default hidden behavior on the sphinx rendered scikit-learn.org. See: https://github.com/scikit-learn/scikit-learn/issues/21755 */display: inline-block !important;position: relative;}#sk-17de4330-8631-4f23-9894-136fd3a1b630 div.sk-text-repr-fallback {display: none;}</style><div id=\"sk-17de4330-8631-4f23-9894-136fd3a1b630\" class=\"sk-top-container\"><div class=\"sk-text-repr-fallback\"><pre>Pipeline(steps=[(&#x27;ct&#x27;,\n",
       "                 ColumnTransformer(remainder=&#x27;passthrough&#x27;,\n",
       "                                   transformers=[(&#x27;OHE&#x27;,\n",
       "                                                  OneHotEncoder(drop=&#x27;first&#x27;),\n",
       "                                                  [&#x27;Class&#x27;, &#x27;node-caps&#x27;,\n",
       "                                                   &#x27;breast&#x27;, &#x27;breast-quad&#x27;]),\n",
       "                                                 (&#x27;OE&#x27;,\n",
       "                                                  OrdinalEncoder(categories=[[&#x27;lt40&#x27;,\n",
       "                                                                              &#x27;ge40&#x27;,\n",
       "                                                                              &#x27;premeno&#x27;],\n",
       "                                                                             [&#x27;0-4&#x27;,\n",
       "                                                                              &#x27;5-9&#x27;,\n",
       "                                                                              &#x27;10-14&#x27;,\n",
       "                                                                              &#x27;15-19&#x27;,\n",
       "                                                                              &#x27;20-24&#x27;,\n",
       "                                                                              &#x27;25-29&#x27;,\n",
       "                                                                              &#x27;30-34&#x27;,\n",
       "                                                                              &#x27;35-39&#x27;,\n",
       "                                                                              &#x27;40-44&#x27;,\n",
       "                                                                              &#x27;45-49&#x27;,\n",
       "                                                                              &#x27;50-54&#x27;],\n",
       "                                                                             [&#x27;0-2&#x27;,\n",
       "                                                                              &#x27;3-5&#x27;,\n",
       "                                                                              &#x27;6-8&#x27;,\n",
       "                                                                              &#x27;9-11&#x27;,\n",
       "                                                                              &#x27;12-14&#x27;,\n",
       "                                                                              &#x27;15-17&#x27;,\n",
       "                                                                              &#x27;24-...\n",
       "                                                  [2, 3, 4, 1])])),\n",
       "                (&#x27;gscv&#x27;,\n",
       "                 GridSearchCV(cv=5, estimator=RandomForestClassifier(),\n",
       "                              n_jobs=-1,\n",
       "                              param_grid={&#x27;bootstrap&#x27;: [True],\n",
       "                                          &#x27;criterion&#x27;: [&#x27;gini&#x27;, &#x27;entropy&#x27;],\n",
       "                                          &#x27;max_depth&#x27;: array([ 0,  1,  2,  3,  4,  5,  6,  7,  8,  9, 10, 11, 12, 13, 14, 15, 16,\n",
       "       17, 18, 19, 20, 21, 22, 23, 24]),\n",
       "                                          &#x27;min_samples_leaf&#x27;: [1, 2, 3, 4, 5,\n",
       "                                                               6],\n",
       "                                          &#x27;min_samples_split&#x27;: [2, 3, 4, 5, 6],\n",
       "                                          &#x27;n_estimators&#x27;: [100]},\n",
       "                              scoring=&#x27;accuracy&#x27;))],\n",
       "         verbose=True)</pre><b>Please rerun this cell to show the HTML repr or trust the notebook.</b></div><div class=\"sk-container\" hidden><div class=\"sk-item sk-dashed-wrapped\"><div class=\"sk-label-container\"><div class=\"sk-label sk-toggleable\"><input class=\"sk-toggleable__control sk-hidden--visually\" id=\"516e9f63-4d0f-4662-866d-92a499de55ff\" type=\"checkbox\" ><label for=\"516e9f63-4d0f-4662-866d-92a499de55ff\" class=\"sk-toggleable__label sk-toggleable__label-arrow\">Pipeline</label><div class=\"sk-toggleable__content\"><pre>Pipeline(steps=[(&#x27;ct&#x27;,\n",
       "                 ColumnTransformer(remainder=&#x27;passthrough&#x27;,\n",
       "                                   transformers=[(&#x27;OHE&#x27;,\n",
       "                                                  OneHotEncoder(drop=&#x27;first&#x27;),\n",
       "                                                  [&#x27;Class&#x27;, &#x27;node-caps&#x27;,\n",
       "                                                   &#x27;breast&#x27;, &#x27;breast-quad&#x27;]),\n",
       "                                                 (&#x27;OE&#x27;,\n",
       "                                                  OrdinalEncoder(categories=[[&#x27;lt40&#x27;,\n",
       "                                                                              &#x27;ge40&#x27;,\n",
       "                                                                              &#x27;premeno&#x27;],\n",
       "                                                                             [&#x27;0-4&#x27;,\n",
       "                                                                              &#x27;5-9&#x27;,\n",
       "                                                                              &#x27;10-14&#x27;,\n",
       "                                                                              &#x27;15-19&#x27;,\n",
       "                                                                              &#x27;20-24&#x27;,\n",
       "                                                                              &#x27;25-29&#x27;,\n",
       "                                                                              &#x27;30-34&#x27;,\n",
       "                                                                              &#x27;35-39&#x27;,\n",
       "                                                                              &#x27;40-44&#x27;,\n",
       "                                                                              &#x27;45-49&#x27;,\n",
       "                                                                              &#x27;50-54&#x27;],\n",
       "                                                                             [&#x27;0-2&#x27;,\n",
       "                                                                              &#x27;3-5&#x27;,\n",
       "                                                                              &#x27;6-8&#x27;,\n",
       "                                                                              &#x27;9-11&#x27;,\n",
       "                                                                              &#x27;12-14&#x27;,\n",
       "                                                                              &#x27;15-17&#x27;,\n",
       "                                                                              &#x27;24-...\n",
       "                                                  [2, 3, 4, 1])])),\n",
       "                (&#x27;gscv&#x27;,\n",
       "                 GridSearchCV(cv=5, estimator=RandomForestClassifier(),\n",
       "                              n_jobs=-1,\n",
       "                              param_grid={&#x27;bootstrap&#x27;: [True],\n",
       "                                          &#x27;criterion&#x27;: [&#x27;gini&#x27;, &#x27;entropy&#x27;],\n",
       "                                          &#x27;max_depth&#x27;: array([ 0,  1,  2,  3,  4,  5,  6,  7,  8,  9, 10, 11, 12, 13, 14, 15, 16,\n",
       "       17, 18, 19, 20, 21, 22, 23, 24]),\n",
       "                                          &#x27;min_samples_leaf&#x27;: [1, 2, 3, 4, 5,\n",
       "                                                               6],\n",
       "                                          &#x27;min_samples_split&#x27;: [2, 3, 4, 5, 6],\n",
       "                                          &#x27;n_estimators&#x27;: [100]},\n",
       "                              scoring=&#x27;accuracy&#x27;))],\n",
       "         verbose=True)</pre></div></div></div><div class=\"sk-serial\"><div class=\"sk-item sk-dashed-wrapped\"><div class=\"sk-label-container\"><div class=\"sk-label sk-toggleable\"><input class=\"sk-toggleable__control sk-hidden--visually\" id=\"58c648f7-6f75-44c2-b446-bb710adf44d4\" type=\"checkbox\" ><label for=\"58c648f7-6f75-44c2-b446-bb710adf44d4\" class=\"sk-toggleable__label sk-toggleable__label-arrow\">ct: ColumnTransformer</label><div class=\"sk-toggleable__content\"><pre>ColumnTransformer(remainder=&#x27;passthrough&#x27;,\n",
       "                  transformers=[(&#x27;OHE&#x27;, OneHotEncoder(drop=&#x27;first&#x27;),\n",
       "                                 [&#x27;Class&#x27;, &#x27;node-caps&#x27;, &#x27;breast&#x27;,\n",
       "                                  &#x27;breast-quad&#x27;]),\n",
       "                                (&#x27;OE&#x27;,\n",
       "                                 OrdinalEncoder(categories=[[&#x27;lt40&#x27;, &#x27;ge40&#x27;,\n",
       "                                                             &#x27;premeno&#x27;],\n",
       "                                                            [&#x27;0-4&#x27;, &#x27;5-9&#x27;,\n",
       "                                                             &#x27;10-14&#x27;, &#x27;15-19&#x27;,\n",
       "                                                             &#x27;20-24&#x27;, &#x27;25-29&#x27;,\n",
       "                                                             &#x27;30-34&#x27;, &#x27;35-39&#x27;,\n",
       "                                                             &#x27;40-44&#x27;, &#x27;45-49&#x27;,\n",
       "                                                             &#x27;50-54&#x27;],\n",
       "                                                            [&#x27;0-2&#x27;, &#x27;3-5&#x27;,\n",
       "                                                             &#x27;6-8&#x27;, &#x27;9-11&#x27;,\n",
       "                                                             &#x27;12-14&#x27;, &#x27;15-17&#x27;,\n",
       "                                                             &#x27;24-26&#x27;],\n",
       "                                                            [&#x27;20-29&#x27;, &#x27;30-39&#x27;,\n",
       "                                                             &#x27;40-49&#x27;, &#x27;50-59&#x27;,\n",
       "                                                             &#x27;60-69&#x27;,\n",
       "                                                             &#x27;70-79&#x27;]]),\n",
       "                                 [2, 3, 4, 1])])</pre></div></div></div><div class=\"sk-parallel\"><div class=\"sk-parallel-item\"><div class=\"sk-item\"><div class=\"sk-label-container\"><div class=\"sk-label sk-toggleable\"><input class=\"sk-toggleable__control sk-hidden--visually\" id=\"ae8e0424-dd21-4752-9469-6858c6089998\" type=\"checkbox\" ><label for=\"ae8e0424-dd21-4752-9469-6858c6089998\" class=\"sk-toggleable__label sk-toggleable__label-arrow\">OHE</label><div class=\"sk-toggleable__content\"><pre>[&#x27;Class&#x27;, &#x27;node-caps&#x27;, &#x27;breast&#x27;, &#x27;breast-quad&#x27;]</pre></div></div></div><div class=\"sk-serial\"><div class=\"sk-item\"><div class=\"sk-estimator sk-toggleable\"><input class=\"sk-toggleable__control sk-hidden--visually\" id=\"4cc93d3e-23ab-4ae3-8b12-1c1e456048ab\" type=\"checkbox\" ><label for=\"4cc93d3e-23ab-4ae3-8b12-1c1e456048ab\" class=\"sk-toggleable__label sk-toggleable__label-arrow\">OneHotEncoder</label><div class=\"sk-toggleable__content\"><pre>OneHotEncoder(drop=&#x27;first&#x27;)</pre></div></div></div></div></div></div><div class=\"sk-parallel-item\"><div class=\"sk-item\"><div class=\"sk-label-container\"><div class=\"sk-label sk-toggleable\"><input class=\"sk-toggleable__control sk-hidden--visually\" id=\"22bfbb74-c4a2-43d6-8faf-db18349a443f\" type=\"checkbox\" ><label for=\"22bfbb74-c4a2-43d6-8faf-db18349a443f\" class=\"sk-toggleable__label sk-toggleable__label-arrow\">OE</label><div class=\"sk-toggleable__content\"><pre>[2, 3, 4, 1]</pre></div></div></div><div class=\"sk-serial\"><div class=\"sk-item\"><div class=\"sk-estimator sk-toggleable\"><input class=\"sk-toggleable__control sk-hidden--visually\" id=\"87b19634-036b-49f0-af03-c5380839dc83\" type=\"checkbox\" ><label for=\"87b19634-036b-49f0-af03-c5380839dc83\" class=\"sk-toggleable__label sk-toggleable__label-arrow\">OrdinalEncoder</label><div class=\"sk-toggleable__content\"><pre>OrdinalEncoder(categories=[[&#x27;lt40&#x27;, &#x27;ge40&#x27;, &#x27;premeno&#x27;],\n",
       "                           [&#x27;0-4&#x27;, &#x27;5-9&#x27;, &#x27;10-14&#x27;, &#x27;15-19&#x27;, &#x27;20-24&#x27;, &#x27;25-29&#x27;,\n",
       "                            &#x27;30-34&#x27;, &#x27;35-39&#x27;, &#x27;40-44&#x27;, &#x27;45-49&#x27;, &#x27;50-54&#x27;],\n",
       "                           [&#x27;0-2&#x27;, &#x27;3-5&#x27;, &#x27;6-8&#x27;, &#x27;9-11&#x27;, &#x27;12-14&#x27;, &#x27;15-17&#x27;,\n",
       "                            &#x27;24-26&#x27;],\n",
       "                           [&#x27;20-29&#x27;, &#x27;30-39&#x27;, &#x27;40-49&#x27;, &#x27;50-59&#x27;, &#x27;60-69&#x27;,\n",
       "                            &#x27;70-79&#x27;]])</pre></div></div></div></div></div></div><div class=\"sk-parallel-item\"><div class=\"sk-item\"><div class=\"sk-label-container\"><div class=\"sk-label sk-toggleable\"><input class=\"sk-toggleable__control sk-hidden--visually\" id=\"d8e86824-db7d-44e5-9847-8798e94f2139\" type=\"checkbox\" ><label for=\"d8e86824-db7d-44e5-9847-8798e94f2139\" class=\"sk-toggleable__label sk-toggleable__label-arrow\">remainder</label><div class=\"sk-toggleable__content\"><pre>[&#x27;deg-malig&#x27;]</pre></div></div></div><div class=\"sk-serial\"><div class=\"sk-item\"><div class=\"sk-estimator sk-toggleable\"><input class=\"sk-toggleable__control sk-hidden--visually\" id=\"56956b89-5c15-4371-8b1e-d8fa33e1d81c\" type=\"checkbox\" ><label for=\"56956b89-5c15-4371-8b1e-d8fa33e1d81c\" class=\"sk-toggleable__label sk-toggleable__label-arrow\">passthrough</label><div class=\"sk-toggleable__content\"><pre>passthrough</pre></div></div></div></div></div></div></div></div><div class=\"sk-item sk-dashed-wrapped\"><div class=\"sk-label-container\"><div class=\"sk-label sk-toggleable\"><input class=\"sk-toggleable__control sk-hidden--visually\" id=\"a69c1949-14f2-487e-9545-6cb9d7c9879f\" type=\"checkbox\" ><label for=\"a69c1949-14f2-487e-9545-6cb9d7c9879f\" class=\"sk-toggleable__label sk-toggleable__label-arrow\">gscv: GridSearchCV</label><div class=\"sk-toggleable__content\"><pre>GridSearchCV(cv=5, estimator=RandomForestClassifier(), n_jobs=-1,\n",
       "             param_grid={&#x27;bootstrap&#x27;: [True], &#x27;criterion&#x27;: [&#x27;gini&#x27;, &#x27;entropy&#x27;],\n",
       "                         &#x27;max_depth&#x27;: array([ 0,  1,  2,  3,  4,  5,  6,  7,  8,  9, 10, 11, 12, 13, 14, 15, 16,\n",
       "       17, 18, 19, 20, 21, 22, 23, 24]),\n",
       "                         &#x27;min_samples_leaf&#x27;: [1, 2, 3, 4, 5, 6],\n",
       "                         &#x27;min_samples_split&#x27;: [2, 3, 4, 5, 6],\n",
       "                         &#x27;n_estimators&#x27;: [100]},\n",
       "             scoring=&#x27;accuracy&#x27;)</pre></div></div></div><div class=\"sk-parallel\"><div class=\"sk-parallel-item\"><div class=\"sk-item\"><div class=\"sk-serial\"><div class=\"sk-item\"><div class=\"sk-estimator sk-toggleable\"><input class=\"sk-toggleable__control sk-hidden--visually\" id=\"84bf54c4-9701-449a-910f-ac7be128cf05\" type=\"checkbox\" ><label for=\"84bf54c4-9701-449a-910f-ac7be128cf05\" class=\"sk-toggleable__label sk-toggleable__label-arrow\">RandomForestClassifier</label><div class=\"sk-toggleable__content\"><pre>RandomForestClassifier()</pre></div></div></div></div></div></div></div></div></div></div></div></div>"
      ],
      "text/plain": [
       "Pipeline(steps=[('ct',\n",
       "                 ColumnTransformer(remainder='passthrough',\n",
       "                                   transformers=[('OHE',\n",
       "                                                  OneHotEncoder(drop='first'),\n",
       "                                                  ['Class', 'node-caps',\n",
       "                                                   'breast', 'breast-quad']),\n",
       "                                                 ('OE',\n",
       "                                                  OrdinalEncoder(categories=[['lt40',\n",
       "                                                                              'ge40',\n",
       "                                                                              'premeno'],\n",
       "                                                                             ['0-4',\n",
       "                                                                              '5-9',\n",
       "                                                                              '10-14',\n",
       "                                                                              '15-19',\n",
       "                                                                              '20-24',\n",
       "                                                                              '25-29',\n",
       "                                                                              '30-34',\n",
       "                                                                              '35-39',\n",
       "                                                                              '40-44',\n",
       "                                                                              '45-49',\n",
       "                                                                              '50-54'],\n",
       "                                                                             ['0-2',\n",
       "                                                                              '3-5',\n",
       "                                                                              '6-8',\n",
       "                                                                              '9-11',\n",
       "                                                                              '12-14',\n",
       "                                                                              '15-17',\n",
       "                                                                              '24-...\n",
       "                                                  [2, 3, 4, 1])])),\n",
       "                ('gscv',\n",
       "                 GridSearchCV(cv=5, estimator=RandomForestClassifier(),\n",
       "                              n_jobs=-1,\n",
       "                              param_grid={'bootstrap': [True],\n",
       "                                          'criterion': ['gini', 'entropy'],\n",
       "                                          'max_depth': array([ 0,  1,  2,  3,  4,  5,  6,  7,  8,  9, 10, 11, 12, 13, 14, 15, 16,\n",
       "       17, 18, 19, 20, 21, 22, 23, 24]),\n",
       "                                          'min_samples_leaf': [1, 2, 3, 4, 5,\n",
       "                                                               6],\n",
       "                                          'min_samples_split': [2, 3, 4, 5, 6],\n",
       "                                          'n_estimators': [100]},\n",
       "                              scoring='accuracy'))],\n",
       "         verbose=True)"
      ]
     },
     "execution_count": 46,
     "metadata": {},
     "output_type": "execute_result"
    }
   ],
   "source": [
    "ppp=PP(\n",
    "[\n",
    "    (\"ct\",ct),\n",
    "    (\"gscv\",gscv)\n",
    "],\n",
    "verbose=True)\n",
    "ppp.fit(xta,yta)"
   ]
  },
  {
   "cell_type": "code",
   "execution_count": 47,
   "metadata": {},
   "outputs": [
    {
     "data": {
      "text/plain": [
       "0.7857142857142857"
      ]
     },
     "execution_count": 47,
     "metadata": {},
     "output_type": "execute_result"
    }
   ],
   "source": [
    "AS(yte,ppp.predict(xte))"
   ]
  },
  {
   "cell_type": "code",
   "execution_count": 48,
   "metadata": {},
   "outputs": [
    {
     "data": {
      "text/plain": [
       "{'bootstrap': True,\n",
       " 'criterion': 'entropy',\n",
       " 'max_depth': 13,\n",
       " 'min_samples_leaf': 2,\n",
       " 'min_samples_split': 5,\n",
       " 'n_estimators': 100}"
      ]
     },
     "execution_count": 48,
     "metadata": {},
     "output_type": "execute_result"
    }
   ],
   "source": [
    "ppp.named_steps[\"gscv\"].best_params_"
   ]
  },
  {
   "cell_type": "code",
   "execution_count": 49,
   "metadata": {},
   "outputs": [
    {
     "name": "stdout",
     "output_type": "stream",
     "text": [
      "              precision    recall  f1-score   support\n",
      "\n",
      "           0       0.81      0.95      0.88        44\n",
      "           1       0.50      0.17      0.25        12\n",
      "\n",
      "    accuracy                           0.79        56\n",
      "   macro avg       0.65      0.56      0.56        56\n",
      "weighted avg       0.74      0.79      0.74        56\n",
      "\n"
     ]
    }
   ],
   "source": [
    "print(CR(yte,ppp.predict(xte)))"
   ]
  },
  {
   "cell_type": "code",
   "execution_count": 50,
   "metadata": {},
   "outputs": [
    {
     "data": {
      "text/plain": [
       "0.16666666666666666"
      ]
     },
     "execution_count": 50,
     "metadata": {},
     "output_type": "execute_result"
    }
   ],
   "source": [
    "RS(yte,ppp.predict(xte))"
   ]
  },
  {
   "cell_type": "code",
   "execution_count": 51,
   "metadata": {},
   "outputs": [
    {
     "data": {
      "text/html": [
       "<div>\n",
       "<style scoped>\n",
       "    .dataframe tbody tr th:only-of-type {\n",
       "        vertical-align: middle;\n",
       "    }\n",
       "\n",
       "    .dataframe tbody tr th {\n",
       "        vertical-align: top;\n",
       "    }\n",
       "\n",
       "    .dataframe thead th {\n",
       "        text-align: right;\n",
       "    }\n",
       "</style>\n",
       "<table border=\"1\" class=\"dataframe\">\n",
       "  <thead>\n",
       "    <tr style=\"text-align: right;\">\n",
       "      <th>col_0</th>\n",
       "      <th>0</th>\n",
       "      <th>1</th>\n",
       "    </tr>\n",
       "    <tr>\n",
       "      <th>irradiat</th>\n",
       "      <th></th>\n",
       "      <th></th>\n",
       "    </tr>\n",
       "  </thead>\n",
       "  <tbody>\n",
       "    <tr>\n",
       "      <th>0</th>\n",
       "      <td>42</td>\n",
       "      <td>2</td>\n",
       "    </tr>\n",
       "    <tr>\n",
       "      <th>1</th>\n",
       "      <td>10</td>\n",
       "      <td>2</td>\n",
       "    </tr>\n",
       "  </tbody>\n",
       "</table>\n",
       "</div>"
      ],
      "text/plain": [
       "col_0      0  1\n",
       "irradiat       \n",
       "0         42  2\n",
       "1         10  2"
      ]
     },
     "execution_count": 51,
     "metadata": {},
     "output_type": "execute_result"
    }
   ],
   "source": [
    "pd.crosstab(yte,ppp.predict(xte))"
   ]
  },
  {
   "cell_type": "code",
   "execution_count": 57,
   "metadata": {},
   "outputs": [],
   "source": [
    "ypre=[1 if i>0.001 else 0 for i in ppp.predict_proba(xte)[:,1]]"
   ]
  },
  {
   "cell_type": "code",
   "execution_count": 58,
   "metadata": {},
   "outputs": [
    {
     "data": {
      "text/plain": [
       "1.0"
      ]
     },
     "execution_count": 58,
     "metadata": {},
     "output_type": "execute_result"
    }
   ],
   "source": [
    "RS(yte,ypre)"
   ]
  },
  {
   "cell_type": "code",
   "execution_count": 59,
   "metadata": {},
   "outputs": [
    {
     "name": "stdout",
     "output_type": "stream",
     "text": [
      "              precision    recall  f1-score   support\n",
      "\n",
      "           0       0.00      0.00      0.00        44\n",
      "           1       0.21      1.00      0.35        12\n",
      "\n",
      "    accuracy                           0.21        56\n",
      "   macro avg       0.11      0.50      0.18        56\n",
      "weighted avg       0.05      0.21      0.08        56\n",
      "\n"
     ]
    },
    {
     "name": "stderr",
     "output_type": "stream",
     "text": [
      "C:\\Users\\AryanBr0\\anaconda3\\lib\\site-packages\\sklearn\\metrics\\_classification.py:1318: UndefinedMetricWarning: Precision and F-score are ill-defined and being set to 0.0 in labels with no predicted samples. Use `zero_division` parameter to control this behavior.\n",
      "  _warn_prf(average, modifier, msg_start, len(result))\n",
      "C:\\Users\\AryanBr0\\anaconda3\\lib\\site-packages\\sklearn\\metrics\\_classification.py:1318: UndefinedMetricWarning: Precision and F-score are ill-defined and being set to 0.0 in labels with no predicted samples. Use `zero_division` parameter to control this behavior.\n",
      "  _warn_prf(average, modifier, msg_start, len(result))\n",
      "C:\\Users\\AryanBr0\\anaconda3\\lib\\site-packages\\sklearn\\metrics\\_classification.py:1318: UndefinedMetricWarning: Precision and F-score are ill-defined and being set to 0.0 in labels with no predicted samples. Use `zero_division` parameter to control this behavior.\n",
      "  _warn_prf(average, modifier, msg_start, len(result))\n"
     ]
    }
   ],
   "source": [
    "print(CR(yte,ypre))"
   ]
  },
  {
   "cell_type": "code",
   "execution_count": 60,
   "metadata": {},
   "outputs": [
    {
     "data": {
      "text/plain": [
       "array([[ 0, 44],\n",
       "       [ 0, 12]], dtype=int64)"
      ]
     },
     "execution_count": 60,
     "metadata": {},
     "output_type": "execute_result"
    }
   ],
   "source": [
    "cm=CM(yte,ypre)\n",
    "cm"
   ]
  },
  {
   "cell_type": "code",
   "execution_count": 61,
   "metadata": {},
   "outputs": [
    {
     "data": {
      "image/png": "[encoded data removed]",
      "text/plain": [
       "<Figure size 432x288 with 2 Axes>"
      ]
     },
     "metadata": {
      "needs_background": "light"
     },
     "output_type": "display_data"
    }
   ],
   "source": [
    "CMD(cm).plot();"
   ]
  }
 ],
 "metadata": {
  "kernelspec": {
   "display_name": "Python 3",
   "language": "python",
   "name": "python3"
  },
  "language_info": {
   "codemirror_mode": {
    "name": "ipython",
    "version": 3
   },
   "file_extension": ".py",
   "mimetype": "text/x-python",
   "name": "python",
   "nbconvert_exporter": "python",
   "pygments_lexer": "ipython3",
   "version": "3.7.6"
  }
 },
 "nbformat": 4,
 "nbformat_minor": 4
}
